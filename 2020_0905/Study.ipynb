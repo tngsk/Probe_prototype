{
 "metadata": {
  "language_info": {
   "codemirror_mode": {
    "name": "ipython",
    "version": 3
   },
   "file_extension": ".py",
   "mimetype": "text/x-python",
   "name": "python",
   "nbconvert_exporter": "python",
   "pygments_lexer": "ipython3",
   "version": "3.7.7-final"
  },
  "orig_nbformat": 2,
  "kernelspec": {
   "name": "python3",
   "display_name": "Python 3.7.7 64-bit ('ds': conda)",
   "metadata": {
    "interpreter": {
     "hash": "c6657ed4ae8cb16144537beafee54dfbcf2bd12b428f9e78b8ba20b741102559"
    }
   }
  }
 },
 "nbformat": 4,
 "nbformat_minor": 2,
 "cells": [
  {
   "cell_type": "code",
   "execution_count": 16,
   "metadata": {},
   "outputs": [],
   "source": [
    "import numpy as np\n",
    "from scipy.io import wavfile\n",
    "import matplotlib.pyplot as plt\n",
    "import sounddevice as sd\n",
    "import itertools\n",
    "import random\n",
    "import time\n",
    "import csv\n",
    "import datetime"
   ]
  },
  {
   "cell_type": "code",
   "execution_count": 17,
   "metadata": {
    "tags": []
   },
   "outputs": [
    {
     "output_type": "stream",
     "name": "stdout",
     "text": "> 0 MacBook Pro Microphone, Core Audio (1 in, 0 out)\n< 1 MacBook Pro Speakers, Core Audio (0 in, 2 out)\n"
    }
   ],
   "source": [
    "# sounddevice 設定\n",
    "sd.default.reset()\n",
    "fs = 44100\n",
    "sd.default.samplerate = fs\n",
    "print(sd.query_devices())\n",
    "sd.default.device = 1"
   ]
  },
  {
   "cell_type": "code",
   "execution_count": 18,
   "metadata": {
    "tags": []
   },
   "outputs": [
    {
     "output_type": "stream",
     "name": "stdout",
     "text": "0 MacBook Pro Microphone, Core Audio (1 in, 0 out)\n* 1 MacBook Pro Speakers, Core Audio (0 in, 2 out)\n"
    }
   ],
   "source": [
    "print(sd.query_devices())"
   ]
  },
  {
   "cell_type": "markdown",
   "metadata": {},
   "source": [
    "$$\n",
    "s(n) = A\\sin(\\frac{2\\pi f_0n}{f_s})\n",
    "$$"
   ]
  },
  {
   "cell_type": "code",
   "execution_count": 19,
   "metadata": {},
   "outputs": [],
   "source": [
    "def play(freq, duration):\n",
    "    f0 = freq\n",
    "    sec = duration\n",
    "    a = 1.0\n",
    "    phase = np.cumsum(2.0 * np.pi * f0 / fs * np.ones(int(fs * sec)))\n",
    "    wave = a * np.sin(phase)\n",
    "    sd.play(wave)\n",
    "    sd.wait()"
   ]
  },
  {
   "cell_type": "code",
   "execution_count": 20,
   "metadata": {},
   "outputs": [],
   "source": [
    "# test\n",
    "play(440,3)"
   ]
  },
  {
   "cell_type": "code",
   "execution_count": 21,
   "metadata": {},
   "outputs": [],
   "source": [
    "num = 10\n",
    "f0 = np.linspace(200,2000,num, dtype=int)\n",
    "f1 = np.arange(-10,10,dtype=int)\n",
    "exp = tuple(itertools.product(f0,f1))"
   ]
  },
  {
   "cell_type": "code",
   "execution_count": 22,
   "metadata": {
    "tags": []
   },
   "outputs": [],
   "source": [
    "# random.seed(0)\n",
    "exp_list = random.choices(exp,k=50)"
   ]
  },
  {
   "cell_type": "code",
   "execution_count": 23,
   "metadata": {
    "tags": []
   },
   "outputs": [
    {
     "output_type": "stream",
     "name": "stdout",
     "text": "Done.\n"
    }
   ],
   "source": [
    "result = []\n",
    "duration = 2\n",
    "for exp in exp_list:\n",
    "    s1 = exp[0]\n",
    "    s2 = exp[0] + exp[1]\n",
    "    #print('Q')\n",
    "    time.sleep(1.0)\n",
    "    \n",
    "    # stimulation 1\n",
    "    play(s1, duration)\n",
    "    sd.wait()\n",
    "\n",
    "    time.sleep(1.0)\n",
    "\n",
    "    # stimulatio 2\n",
    "    play(s2, duration)\n",
    "    sd.wait()\n",
    "\n",
    "    time.sleep(1.0)\n",
    "\n",
    "    # answer\n",
    "    ans = input('同じ音程ですか？ Y / N ?')\n",
    "    result.append([exp[0],exp[1],ans])\n",
    "\n",
    "fname = \"data_{0}.csv\".format(datetime.datetime.now().strftime(\"%Y_%m%d_%H%M_%S\"))\n",
    "\n",
    "with open(fname,'w') as f:\n",
    "    writer = csv.writer(f)\n",
    "    writer.writerows(result)\n",
    "\n",
    "print('Done.')\n"
   ]
  },
  {
   "cell_type": "markdown",
   "metadata": {},
   "source": [
    "# 分析"
   ]
  },
  {
   "cell_type": "code",
   "execution_count": 1,
   "metadata": {},
   "outputs": [],
   "source": [
    "import numpy as np\n",
    "import pandas as pd\n",
    "import matplotlib.pyplot as plt"
   ]
  },
  {
   "cell_type": "code",
   "execution_count": 2,
   "metadata": {},
   "outputs": [
    {
     "output_type": "execute_result",
     "data": {
      "text/plain": [
       "       0  1  2\n",
       "0   2000 -2  n\n",
       "1   1000  5  n\n",
       "2   1000  5  n\n",
       "3   1800  9  n\n",
       "4    400  8  n\n",
       "..   ... .. ..\n",
       "45  1200 -7  n\n",
       "46  1600 -7  n\n",
       "47   800 -2  y\n",
       "48   800 -4  n\n",
       "49  1400 -2  y\n",
       "\n",
       "[500 rows x 3 columns]"
      ],
      "text/html": "<div>\n<style scoped>\n    .dataframe tbody tr th:only-of-type {\n        vertical-align: middle;\n    }\n\n    .dataframe tbody tr th {\n        vertical-align: top;\n    }\n\n    .dataframe thead th {\n        text-align: right;\n    }\n</style>\n<table border=\"1\" class=\"dataframe\">\n  <thead>\n    <tr style=\"text-align: right;\">\n      <th></th>\n      <th>0</th>\n      <th>1</th>\n      <th>2</th>\n    </tr>\n  </thead>\n  <tbody>\n    <tr>\n      <th>0</th>\n      <td>2000</td>\n      <td>-2</td>\n      <td>n</td>\n    </tr>\n    <tr>\n      <th>1</th>\n      <td>1000</td>\n      <td>5</td>\n      <td>n</td>\n    </tr>\n    <tr>\n      <th>2</th>\n      <td>1000</td>\n      <td>5</td>\n      <td>n</td>\n    </tr>\n    <tr>\n      <th>3</th>\n      <td>1800</td>\n      <td>9</td>\n      <td>n</td>\n    </tr>\n    <tr>\n      <th>4</th>\n      <td>400</td>\n      <td>8</td>\n      <td>n</td>\n    </tr>\n    <tr>\n      <th>...</th>\n      <td>...</td>\n      <td>...</td>\n      <td>...</td>\n    </tr>\n    <tr>\n      <th>45</th>\n      <td>1200</td>\n      <td>-7</td>\n      <td>n</td>\n    </tr>\n    <tr>\n      <th>46</th>\n      <td>1600</td>\n      <td>-7</td>\n      <td>n</td>\n    </tr>\n    <tr>\n      <th>47</th>\n      <td>800</td>\n      <td>-2</td>\n      <td>y</td>\n    </tr>\n    <tr>\n      <th>48</th>\n      <td>800</td>\n      <td>-4</td>\n      <td>n</td>\n    </tr>\n    <tr>\n      <th>49</th>\n      <td>1400</td>\n      <td>-2</td>\n      <td>y</td>\n    </tr>\n  </tbody>\n</table>\n<p>500 rows × 3 columns</p>\n</div>"
     },
     "metadata": {},
     "execution_count": 2
    }
   ],
   "source": [
    "d1 = pd.read_csv('data_2020_0826_1806.csv', header=None)\n",
    "# NG : df2 = pd.read_csv('data_2020_0826_1817_27.csv', header=None)\n",
    "d3 = pd.read_csv('data_2020_0827_1606_43.csv', header=None)\n",
    "d4 = pd.read_csv('data_2020_0828_1357_41.csv', header=None)\n",
    "d5 = pd.read_csv('data_2020_0829_1220_53.csv', header=None)\n",
    "d6 = pd.read_csv('data_2020_0831_1321_00.csv', header=None)\n",
    "d7 = pd.read_csv('data_2020_0901_0833_52.csv', header=None)\n",
    "d8 = pd.read_csv('data_2020_0902_0813_27.csv', header=None)\n",
    "d9 = pd.read_csv('data_2020_0903_0820_22.csv', header=None)\n",
    "d10 = pd.read_csv('data_2020_0904_0949_58.csv', header=None)\n",
    "d11 = pd.read_csv('data_2020_0904_1059_33.csv', header=None)\n",
    "df = pd.concat([d1,d3,d4,d5,d6,d7,d8,d9,d10,d11])\n",
    "df"
   ]
  },
  {
   "cell_type": "code",
   "execution_count": 3,
   "metadata": {},
   "outputs": [],
   "source": [
    "df.columns = ['f0','diff', 'ans']\n",
    "df = df.reset_index(drop=True)\n",
    "df['diff_abs'] = np.abs(df['diff'])"
   ]
  },
  {
   "cell_type": "code",
   "execution_count": 4,
   "metadata": {},
   "outputs": [
    {
     "output_type": "execute_result",
     "data": {
      "text/plain": [
       "       f0  diff ans  diff_abs\n",
       "0    2000    -2   n         2\n",
       "1    1000     5   n         5\n",
       "2    1000     5   n         5\n",
       "3    1800     9   n         9\n",
       "4     400     8   n         8\n",
       "..    ...   ...  ..       ...\n",
       "495  1200    -7   n         7\n",
       "496  1600    -7   n         7\n",
       "497   800    -2   y         2\n",
       "498   800    -4   n         4\n",
       "499  1400    -2   y         2\n",
       "\n",
       "[500 rows x 4 columns]"
      ],
      "text/html": "<div>\n<style scoped>\n    .dataframe tbody tr th:only-of-type {\n        vertical-align: middle;\n    }\n\n    .dataframe tbody tr th {\n        vertical-align: top;\n    }\n\n    .dataframe thead th {\n        text-align: right;\n    }\n</style>\n<table border=\"1\" class=\"dataframe\">\n  <thead>\n    <tr style=\"text-align: right;\">\n      <th></th>\n      <th>f0</th>\n      <th>diff</th>\n      <th>ans</th>\n      <th>diff_abs</th>\n    </tr>\n  </thead>\n  <tbody>\n    <tr>\n      <th>0</th>\n      <td>2000</td>\n      <td>-2</td>\n      <td>n</td>\n      <td>2</td>\n    </tr>\n    <tr>\n      <th>1</th>\n      <td>1000</td>\n      <td>5</td>\n      <td>n</td>\n      <td>5</td>\n    </tr>\n    <tr>\n      <th>2</th>\n      <td>1000</td>\n      <td>5</td>\n      <td>n</td>\n      <td>5</td>\n    </tr>\n    <tr>\n      <th>3</th>\n      <td>1800</td>\n      <td>9</td>\n      <td>n</td>\n      <td>9</td>\n    </tr>\n    <tr>\n      <th>4</th>\n      <td>400</td>\n      <td>8</td>\n      <td>n</td>\n      <td>8</td>\n    </tr>\n    <tr>\n      <th>...</th>\n      <td>...</td>\n      <td>...</td>\n      <td>...</td>\n      <td>...</td>\n    </tr>\n    <tr>\n      <th>495</th>\n      <td>1200</td>\n      <td>-7</td>\n      <td>n</td>\n      <td>7</td>\n    </tr>\n    <tr>\n      <th>496</th>\n      <td>1600</td>\n      <td>-7</td>\n      <td>n</td>\n      <td>7</td>\n    </tr>\n    <tr>\n      <th>497</th>\n      <td>800</td>\n      <td>-2</td>\n      <td>y</td>\n      <td>2</td>\n    </tr>\n    <tr>\n      <th>498</th>\n      <td>800</td>\n      <td>-4</td>\n      <td>n</td>\n      <td>4</td>\n    </tr>\n    <tr>\n      <th>499</th>\n      <td>1400</td>\n      <td>-2</td>\n      <td>y</td>\n      <td>2</td>\n    </tr>\n  </tbody>\n</table>\n<p>500 rows × 4 columns</p>\n</div>"
     },
     "metadata": {},
     "execution_count": 4
    }
   ],
   "source": [
    "df"
   ]
  },
  {
   "cell_type": "code",
   "execution_count": 5,
   "metadata": {},
   "outputs": [
    {
     "output_type": "execute_result",
     "data": {
      "text/plain": [
       "             ans                                                              \\\n",
       "diff_abs      0          1          2           3            4            5    \n",
       "f0                                                                             \n",
       "200       yynyyy  ynnnnyyyy    nnnnnnn     nnnnnnn          nnn          nnn   \n",
       "400          yyy   yyyyynyy          n        nnnn    nnnnnynnn     nnnnnnnn   \n",
       "600           yy       ynyy  nnnnynnyy  nynnnynynn      nnnnnnn    nnyynnnnn   \n",
       "800          NaN      nyyyy       nyyy         yny          nnn      nnnnnnn   \n",
       "1000        yyyy       yyyy       ynyy      nynnyn  yynnnnynnnn   nnnnnnnnnn   \n",
       "1200          yy       yyyy       yyyy       yyyyn        nnyny          yyn   \n",
       "1400         NaN    yyyyyyy      yyyyy     ynnynyn         nnny         nnyy   \n",
       "1600        yyny         ny          y         yyy         ynny          nny   \n",
       "1800           y         yy      nynyy      ynyyyy           yy  nynyynnyyyy   \n",
       "2000          yy      yyyyy      nyyyy          yy        yyyyn          nyy   \n",
       "\n",
       "                                                      \n",
       "diff_abs      6         7         8         9     10  \n",
       "f0                                                    \n",
       "200       nnnnnn     nnnnn  nnnnnnnn    nnnnnn     n  \n",
       "400       nnnnnn   nnnnnnn    nnnnnn  nnnnnnnn    nn  \n",
       "600        nnnnn   nnnnnnn   nnnnnnn         n   NaN  \n",
       "800         nnnn      nnnn      nnnn    nnnnnn  nnnn  \n",
       "1000        nnnn      nnnn         n       nnn     n  \n",
       "1200        nnnn    nnnnnn         n       nnn     n  \n",
       "1400          yy  nnnnnnny     nnnnn     nnnnn   nnn  \n",
       "1600       ynnnn     nnnnn       nnn  nnnnynnn    nn  \n",
       "1800       yyyyn     ynnyn     nynnn       nnn  nnnn  \n",
       "2000         yyy       nyn  nnnyynnn      nyyn   yyy  "
      ],
      "text/html": "<div>\n<style scoped>\n    .dataframe tbody tr th:only-of-type {\n        vertical-align: middle;\n    }\n\n    .dataframe tbody tr th {\n        vertical-align: top;\n    }\n\n    .dataframe thead tr th {\n        text-align: left;\n    }\n\n    .dataframe thead tr:last-of-type th {\n        text-align: right;\n    }\n</style>\n<table border=\"1\" class=\"dataframe\">\n  <thead>\n    <tr>\n      <th></th>\n      <th colspan=\"11\" halign=\"left\">ans</th>\n    </tr>\n    <tr>\n      <th>diff_abs</th>\n      <th>0</th>\n      <th>1</th>\n      <th>2</th>\n      <th>3</th>\n      <th>4</th>\n      <th>5</th>\n      <th>6</th>\n      <th>7</th>\n      <th>8</th>\n      <th>9</th>\n      <th>10</th>\n    </tr>\n    <tr>\n      <th>f0</th>\n      <th></th>\n      <th></th>\n      <th></th>\n      <th></th>\n      <th></th>\n      <th></th>\n      <th></th>\n      <th></th>\n      <th></th>\n      <th></th>\n      <th></th>\n    </tr>\n  </thead>\n  <tbody>\n    <tr>\n      <th>200</th>\n      <td>yynyyy</td>\n      <td>ynnnnyyyy</td>\n      <td>nnnnnnn</td>\n      <td>nnnnnnn</td>\n      <td>nnn</td>\n      <td>nnn</td>\n      <td>nnnnnn</td>\n      <td>nnnnn</td>\n      <td>nnnnnnnn</td>\n      <td>nnnnnn</td>\n      <td>n</td>\n    </tr>\n    <tr>\n      <th>400</th>\n      <td>yyy</td>\n      <td>yyyyynyy</td>\n      <td>n</td>\n      <td>nnnn</td>\n      <td>nnnnnynnn</td>\n      <td>nnnnnnnn</td>\n      <td>nnnnnn</td>\n      <td>nnnnnnn</td>\n      <td>nnnnnn</td>\n      <td>nnnnnnnn</td>\n      <td>nn</td>\n    </tr>\n    <tr>\n      <th>600</th>\n      <td>yy</td>\n      <td>ynyy</td>\n      <td>nnnnynnyy</td>\n      <td>nynnnynynn</td>\n      <td>nnnnnnn</td>\n      <td>nnyynnnnn</td>\n      <td>nnnnn</td>\n      <td>nnnnnnn</td>\n      <td>nnnnnnn</td>\n      <td>n</td>\n      <td>NaN</td>\n    </tr>\n    <tr>\n      <th>800</th>\n      <td>NaN</td>\n      <td>nyyyy</td>\n      <td>nyyy</td>\n      <td>yny</td>\n      <td>nnn</td>\n      <td>nnnnnnn</td>\n      <td>nnnn</td>\n      <td>nnnn</td>\n      <td>nnnn</td>\n      <td>nnnnnn</td>\n      <td>nnnn</td>\n    </tr>\n    <tr>\n      <th>1000</th>\n      <td>yyyy</td>\n      <td>yyyy</td>\n      <td>ynyy</td>\n      <td>nynnyn</td>\n      <td>yynnnnynnnn</td>\n      <td>nnnnnnnnnn</td>\n      <td>nnnn</td>\n      <td>nnnn</td>\n      <td>n</td>\n      <td>nnn</td>\n      <td>n</td>\n    </tr>\n    <tr>\n      <th>1200</th>\n      <td>yy</td>\n      <td>yyyy</td>\n      <td>yyyy</td>\n      <td>yyyyn</td>\n      <td>nnyny</td>\n      <td>yyn</td>\n      <td>nnnn</td>\n      <td>nnnnnn</td>\n      <td>n</td>\n      <td>nnn</td>\n      <td>n</td>\n    </tr>\n    <tr>\n      <th>1400</th>\n      <td>NaN</td>\n      <td>yyyyyyy</td>\n      <td>yyyyy</td>\n      <td>ynnynyn</td>\n      <td>nnny</td>\n      <td>nnyy</td>\n      <td>yy</td>\n      <td>nnnnnnny</td>\n      <td>nnnnn</td>\n      <td>nnnnn</td>\n      <td>nnn</td>\n    </tr>\n    <tr>\n      <th>1600</th>\n      <td>yyny</td>\n      <td>ny</td>\n      <td>y</td>\n      <td>yyy</td>\n      <td>ynny</td>\n      <td>nny</td>\n      <td>ynnnn</td>\n      <td>nnnnn</td>\n      <td>nnn</td>\n      <td>nnnnynnn</td>\n      <td>nn</td>\n    </tr>\n    <tr>\n      <th>1800</th>\n      <td>y</td>\n      <td>yy</td>\n      <td>nynyy</td>\n      <td>ynyyyy</td>\n      <td>yy</td>\n      <td>nynyynnyyyy</td>\n      <td>yyyyn</td>\n      <td>ynnyn</td>\n      <td>nynnn</td>\n      <td>nnn</td>\n      <td>nnnn</td>\n    </tr>\n    <tr>\n      <th>2000</th>\n      <td>yy</td>\n      <td>yyyyy</td>\n      <td>nyyyy</td>\n      <td>yy</td>\n      <td>yyyyn</td>\n      <td>nyy</td>\n      <td>yyy</td>\n      <td>nyn</td>\n      <td>nnnyynnn</td>\n      <td>nyyn</td>\n      <td>yyy</td>\n    </tr>\n  </tbody>\n</table>\n</div>"
     },
     "metadata": {},
     "execution_count": 5
    }
   ],
   "source": [
    "df = pd.pivot_table(df, index='f0',columns='diff_abs',values=['ans'], aggfunc='sum')\n",
    "df"
   ]
  },
  {
   "cell_type": "code",
   "execution_count": 6,
   "metadata": {
    "tags": []
   },
   "outputs": [],
   "source": [
    "def func(x):\n",
    "    if isinstance(x, str):\n",
    "        n = 0\n",
    "        for s in x:\n",
    "            if s == 'n':\n",
    "                n = n + 1\n",
    "        return n / len(x)\n",
    "    "
   ]
  },
  {
   "cell_type": "code",
   "execution_count": 7,
   "metadata": {
    "tags": []
   },
   "outputs": [
    {
     "output_type": "execute_result",
     "data": {
      "text/plain": [
       "               ans                                                         \\\n",
       "diff_abs        0         1         2         3         4         5    6    \n",
       "f0                                                                          \n",
       "200       0.166667  0.444444  1.000000  1.000000  1.000000  1.000000  1.0   \n",
       "400       0.000000  0.125000  1.000000  1.000000  0.888889  1.000000  1.0   \n",
       "600       0.000000  0.250000  0.666667  0.700000  1.000000  0.777778  1.0   \n",
       "800            NaN  0.200000  0.250000  0.333333  1.000000  1.000000  1.0   \n",
       "1000      0.000000  0.000000  0.250000  0.666667  0.727273  1.000000  1.0   \n",
       "1200      0.000000  0.000000  0.000000  0.200000  0.600000  0.333333  1.0   \n",
       "1400           NaN  0.000000  0.000000  0.571429  0.750000  0.500000  0.0   \n",
       "1600      0.250000  0.500000  0.000000  0.000000  0.500000  0.666667  0.8   \n",
       "1800      0.000000  0.000000  0.400000  0.166667  0.000000  0.363636  0.2   \n",
       "2000      0.000000  0.000000  0.200000  0.000000  0.200000  0.333333  0.0   \n",
       "\n",
       "                                      \n",
       "diff_abs        7     8      9    10  \n",
       "f0                                    \n",
       "200       1.000000  1.00  1.000  1.0  \n",
       "400       1.000000  1.00  1.000  1.0  \n",
       "600       1.000000  1.00  1.000  NaN  \n",
       "800       1.000000  1.00  1.000  1.0  \n",
       "1000      1.000000  1.00  1.000  1.0  \n",
       "1200      1.000000  1.00  1.000  1.0  \n",
       "1400      0.875000  1.00  1.000  1.0  \n",
       "1600      1.000000  1.00  0.875  1.0  \n",
       "1800      0.600000  0.80  1.000  1.0  \n",
       "2000      0.666667  0.75  0.500  0.0  "
      ],
      "text/html": "<div>\n<style scoped>\n    .dataframe tbody tr th:only-of-type {\n        vertical-align: middle;\n    }\n\n    .dataframe tbody tr th {\n        vertical-align: top;\n    }\n\n    .dataframe thead tr th {\n        text-align: left;\n    }\n\n    .dataframe thead tr:last-of-type th {\n        text-align: right;\n    }\n</style>\n<table border=\"1\" class=\"dataframe\">\n  <thead>\n    <tr>\n      <th></th>\n      <th colspan=\"11\" halign=\"left\">ans</th>\n    </tr>\n    <tr>\n      <th>diff_abs</th>\n      <th>0</th>\n      <th>1</th>\n      <th>2</th>\n      <th>3</th>\n      <th>4</th>\n      <th>5</th>\n      <th>6</th>\n      <th>7</th>\n      <th>8</th>\n      <th>9</th>\n      <th>10</th>\n    </tr>\n    <tr>\n      <th>f0</th>\n      <th></th>\n      <th></th>\n      <th></th>\n      <th></th>\n      <th></th>\n      <th></th>\n      <th></th>\n      <th></th>\n      <th></th>\n      <th></th>\n      <th></th>\n    </tr>\n  </thead>\n  <tbody>\n    <tr>\n      <th>200</th>\n      <td>0.166667</td>\n      <td>0.444444</td>\n      <td>1.000000</td>\n      <td>1.000000</td>\n      <td>1.000000</td>\n      <td>1.000000</td>\n      <td>1.0</td>\n      <td>1.000000</td>\n      <td>1.00</td>\n      <td>1.000</td>\n      <td>1.0</td>\n    </tr>\n    <tr>\n      <th>400</th>\n      <td>0.000000</td>\n      <td>0.125000</td>\n      <td>1.000000</td>\n      <td>1.000000</td>\n      <td>0.888889</td>\n      <td>1.000000</td>\n      <td>1.0</td>\n      <td>1.000000</td>\n      <td>1.00</td>\n      <td>1.000</td>\n      <td>1.0</td>\n    </tr>\n    <tr>\n      <th>600</th>\n      <td>0.000000</td>\n      <td>0.250000</td>\n      <td>0.666667</td>\n      <td>0.700000</td>\n      <td>1.000000</td>\n      <td>0.777778</td>\n      <td>1.0</td>\n      <td>1.000000</td>\n      <td>1.00</td>\n      <td>1.000</td>\n      <td>NaN</td>\n    </tr>\n    <tr>\n      <th>800</th>\n      <td>NaN</td>\n      <td>0.200000</td>\n      <td>0.250000</td>\n      <td>0.333333</td>\n      <td>1.000000</td>\n      <td>1.000000</td>\n      <td>1.0</td>\n      <td>1.000000</td>\n      <td>1.00</td>\n      <td>1.000</td>\n      <td>1.0</td>\n    </tr>\n    <tr>\n      <th>1000</th>\n      <td>0.000000</td>\n      <td>0.000000</td>\n      <td>0.250000</td>\n      <td>0.666667</td>\n      <td>0.727273</td>\n      <td>1.000000</td>\n      <td>1.0</td>\n      <td>1.000000</td>\n      <td>1.00</td>\n      <td>1.000</td>\n      <td>1.0</td>\n    </tr>\n    <tr>\n      <th>1200</th>\n      <td>0.000000</td>\n      <td>0.000000</td>\n      <td>0.000000</td>\n      <td>0.200000</td>\n      <td>0.600000</td>\n      <td>0.333333</td>\n      <td>1.0</td>\n      <td>1.000000</td>\n      <td>1.00</td>\n      <td>1.000</td>\n      <td>1.0</td>\n    </tr>\n    <tr>\n      <th>1400</th>\n      <td>NaN</td>\n      <td>0.000000</td>\n      <td>0.000000</td>\n      <td>0.571429</td>\n      <td>0.750000</td>\n      <td>0.500000</td>\n      <td>0.0</td>\n      <td>0.875000</td>\n      <td>1.00</td>\n      <td>1.000</td>\n      <td>1.0</td>\n    </tr>\n    <tr>\n      <th>1600</th>\n      <td>0.250000</td>\n      <td>0.500000</td>\n      <td>0.000000</td>\n      <td>0.000000</td>\n      <td>0.500000</td>\n      <td>0.666667</td>\n      <td>0.8</td>\n      <td>1.000000</td>\n      <td>1.00</td>\n      <td>0.875</td>\n      <td>1.0</td>\n    </tr>\n    <tr>\n      <th>1800</th>\n      <td>0.000000</td>\n      <td>0.000000</td>\n      <td>0.400000</td>\n      <td>0.166667</td>\n      <td>0.000000</td>\n      <td>0.363636</td>\n      <td>0.2</td>\n      <td>0.600000</td>\n      <td>0.80</td>\n      <td>1.000</td>\n      <td>1.0</td>\n    </tr>\n    <tr>\n      <th>2000</th>\n      <td>0.000000</td>\n      <td>0.000000</td>\n      <td>0.200000</td>\n      <td>0.000000</td>\n      <td>0.200000</td>\n      <td>0.333333</td>\n      <td>0.0</td>\n      <td>0.666667</td>\n      <td>0.75</td>\n      <td>0.500</td>\n      <td>0.0</td>\n    </tr>\n  </tbody>\n</table>\n</div>"
     },
     "metadata": {},
     "execution_count": 7
    }
   ],
   "source": [
    "df = df.applymap(func)\n",
    "df"
   ]
  },
  {
   "cell_type": "code",
   "execution_count": 8,
   "metadata": {},
   "outputs": [],
   "source": [
    "df = df.fillna(0)"
   ]
  },
  {
   "cell_type": "code",
   "execution_count": 9,
   "metadata": {},
   "outputs": [
    {
     "output_type": "execute_result",
     "data": {
      "text/plain": [
       "     diff_abs\n",
       "ans  0           0.166667\n",
       "     1           0.444444\n",
       "     2           1.000000\n",
       "     3           1.000000\n",
       "     4           1.000000\n",
       "     5           1.000000\n",
       "     6           1.000000\n",
       "     7           1.000000\n",
       "     8           1.000000\n",
       "     9           1.000000\n",
       "     10          1.000000\n",
       "Name: 200, dtype: float64"
      ]
     },
     "metadata": {},
     "execution_count": 9
    }
   ],
   "source": [
    "df.loc[200]"
   ]
  },
  {
   "cell_type": "code",
   "execution_count": 10,
   "metadata": {},
   "outputs": [
    {
     "output_type": "execute_result",
     "data": {
      "text/plain": [
       "<matplotlib.collections.PathCollection at 0x7fa8e186ee50>"
      ]
     },
     "metadata": {},
     "execution_count": 10
    },
    {
     "output_type": "display_data",
     "data": {
      "text/plain": "<Figure size 432x288 with 1 Axes>",
      "image/svg+xml": "<?xml version=\"1.0\" encoding=\"utf-8\" standalone=\"no\"?>\n<!DOCTYPE svg PUBLIC \"-//W3C//DTD SVG 1.1//EN\"\n  \"http://www.w3.org/Graphics/SVG/1.1/DTD/svg11.dtd\">\n<!-- Created with matplotlib (https://matplotlib.org/) -->\n<svg height=\"248.518125pt\" version=\"1.1\" viewBox=\"0 0 372.103125 248.518125\" width=\"372.103125pt\" xmlns=\"http://www.w3.org/2000/svg\" xmlns:xlink=\"http://www.w3.org/1999/xlink\">\n <metadata>\n  <rdf:RDF xmlns:cc=\"http://creativecommons.org/ns#\" xmlns:dc=\"http://purl.org/dc/elements/1.1/\" xmlns:rdf=\"http://www.w3.org/1999/02/22-rdf-syntax-ns#\">\n   <cc:Work>\n    <dc:type rdf:resource=\"http://purl.org/dc/dcmitype/StillImage\"/>\n    <dc:date>2021-02-15T12:39:31.945233</dc:date>\n    <dc:format>image/svg+xml</dc:format>\n    <dc:creator>\n     <cc:Agent>\n      <dc:title>Matplotlib v3.3.1, https://matplotlib.org/</dc:title>\n     </cc:Agent>\n    </dc:creator>\n   </cc:Work>\n  </rdf:RDF>\n </metadata>\n <defs>\n  <style type=\"text/css\">*{stroke-linecap:butt;stroke-linejoin:round;}</style>\n </defs>\n <g id=\"figure_1\">\n  <g id=\"patch_1\">\n   <path d=\"M 0 248.518125 \nL 372.103125 248.518125 \nL 372.103125 0 \nL 0 0 \nz\n\" style=\"fill:none;\"/>\n  </g>\n  <g id=\"axes_1\">\n   <g id=\"patch_2\">\n    <path d=\"M 30.103125 224.64 \nL 364.903125 224.64 \nL 364.903125 7.2 \nL 30.103125 7.2 \nz\n\" style=\"fill:#ffffff;\"/>\n   </g>\n   <g id=\"PathCollection_1\">\n    <defs>\n     <path d=\"M 0 3 \nC 0.795609 3 1.55874 2.683901 2.12132 2.12132 \nC 2.683901 1.55874 3 0.795609 3 0 \nC 3 -0.795609 2.683901 -1.55874 2.12132 -2.12132 \nC 1.55874 -2.683901 0.795609 -3 0 -3 \nC -0.795609 -3 -1.55874 -2.683901 -2.12132 -2.12132 \nC -2.683901 -1.55874 -3 -0.795609 -3 0 \nC -3 0.795609 -2.683901 1.55874 -2.12132 2.12132 \nC -1.55874 2.683901 -0.795609 3 0 3 \nz\n\" id=\"mf6f6980b1e\" style=\"stroke:#1f77b4;\"/>\n    </defs>\n    <g clip-path=\"url(#p5afd26592b)\">\n     <use style=\"fill:#1f77b4;stroke:#1f77b4;\" x=\"45.321307\" xlink:href=\"#mf6f6980b1e\" y=\"214.756364\"/>\n     <use style=\"fill:#1f77b4;stroke:#1f77b4;\" x=\"75.75767\" xlink:href=\"#mf6f6980b1e\" y=\"214.756364\"/>\n     <use style=\"fill:#1f77b4;stroke:#1f77b4;\" x=\"106.194034\" xlink:href=\"#mf6f6980b1e\" y=\"135.687273\"/>\n     <use style=\"fill:#1f77b4;stroke:#1f77b4;\" x=\"136.630398\" xlink:href=\"#mf6f6980b1e\" y=\"181.810909\"/>\n     <use style=\"fill:#1f77b4;stroke:#1f77b4;\" x=\"167.066761\" xlink:href=\"#mf6f6980b1e\" y=\"214.756364\"/>\n     <use style=\"fill:#1f77b4;stroke:#1f77b4;\" x=\"197.503125\" xlink:href=\"#mf6f6980b1e\" y=\"142.875372\"/>\n     <use style=\"fill:#1f77b4;stroke:#1f77b4;\" x=\"227.939489\" xlink:href=\"#mf6f6980b1e\" y=\"175.221818\"/>\n     <use style=\"fill:#1f77b4;stroke:#1f77b4;\" x=\"258.375852\" xlink:href=\"#mf6f6980b1e\" y=\"96.152727\"/>\n     <use style=\"fill:#1f77b4;stroke:#1f77b4;\" x=\"288.812216\" xlink:href=\"#mf6f6980b1e\" y=\"56.618182\"/>\n     <use style=\"fill:#1f77b4;stroke:#1f77b4;\" x=\"319.24858\" xlink:href=\"#mf6f6980b1e\" y=\"17.083636\"/>\n     <use style=\"fill:#1f77b4;stroke:#1f77b4;\" x=\"349.684943\" xlink:href=\"#mf6f6980b1e\" y=\"17.083636\"/>\n    </g>\n   </g>\n   <g id=\"matplotlib.axis_1\">\n    <g id=\"xtick_1\">\n     <g id=\"line2d_1\">\n      <defs>\n       <path d=\"M 0 0 \nL 0 3.5 \n\" id=\"m436c7a85bf\" style=\"stroke:#000000;stroke-width:0.8;\"/>\n      </defs>\n      <g>\n       <use style=\"stroke:#000000;stroke-width:0.8;\" x=\"45.321307\" xlink:href=\"#m436c7a85bf\" y=\"224.64\"/>\n      </g>\n     </g>\n     <g id=\"text_1\">\n      <!-- 0 -->\n      <g transform=\"translate(42.140057 239.238437)scale(0.1 -0.1)\">\n       <defs>\n        <path d=\"M 31.78125 66.40625 \nQ 24.171875 66.40625 20.328125 58.90625 \nQ 16.5 51.421875 16.5 36.375 \nQ 16.5 21.390625 20.328125 13.890625 \nQ 24.171875 6.390625 31.78125 6.390625 \nQ 39.453125 6.390625 43.28125 13.890625 \nQ 47.125 21.390625 47.125 36.375 \nQ 47.125 51.421875 43.28125 58.90625 \nQ 39.453125 66.40625 31.78125 66.40625 \nz\nM 31.78125 74.21875 \nQ 44.046875 74.21875 50.515625 64.515625 \nQ 56.984375 54.828125 56.984375 36.375 \nQ 56.984375 17.96875 50.515625 8.265625 \nQ 44.046875 -1.421875 31.78125 -1.421875 \nQ 19.53125 -1.421875 13.0625 8.265625 \nQ 6.59375 17.96875 6.59375 36.375 \nQ 6.59375 54.828125 13.0625 64.515625 \nQ 19.53125 74.21875 31.78125 74.21875 \nz\n\" id=\"DejaVuSans-48\"/>\n       </defs>\n       <use xlink:href=\"#DejaVuSans-48\"/>\n      </g>\n     </g>\n    </g>\n    <g id=\"xtick_2\">\n     <g id=\"line2d_2\">\n      <g>\n       <use style=\"stroke:#000000;stroke-width:0.8;\" x=\"106.194034\" xlink:href=\"#m436c7a85bf\" y=\"224.64\"/>\n      </g>\n     </g>\n     <g id=\"text_2\">\n      <!-- 2 -->\n      <g transform=\"translate(103.012784 239.238437)scale(0.1 -0.1)\">\n       <defs>\n        <path d=\"M 19.1875 8.296875 \nL 53.609375 8.296875 \nL 53.609375 0 \nL 7.328125 0 \nL 7.328125 8.296875 \nQ 12.9375 14.109375 22.625 23.890625 \nQ 32.328125 33.6875 34.8125 36.53125 \nQ 39.546875 41.84375 41.421875 45.53125 \nQ 43.3125 49.21875 43.3125 52.78125 \nQ 43.3125 58.59375 39.234375 62.25 \nQ 35.15625 65.921875 28.609375 65.921875 \nQ 23.96875 65.921875 18.8125 64.3125 \nQ 13.671875 62.703125 7.8125 59.421875 \nL 7.8125 69.390625 \nQ 13.765625 71.78125 18.9375 73 \nQ 24.125 74.21875 28.421875 74.21875 \nQ 39.75 74.21875 46.484375 68.546875 \nQ 53.21875 62.890625 53.21875 53.421875 \nQ 53.21875 48.921875 51.53125 44.890625 \nQ 49.859375 40.875 45.40625 35.40625 \nQ 44.1875 33.984375 37.640625 27.21875 \nQ 31.109375 20.453125 19.1875 8.296875 \nz\n\" id=\"DejaVuSans-50\"/>\n       </defs>\n       <use xlink:href=\"#DejaVuSans-50\"/>\n      </g>\n     </g>\n    </g>\n    <g id=\"xtick_3\">\n     <g id=\"line2d_3\">\n      <g>\n       <use style=\"stroke:#000000;stroke-width:0.8;\" x=\"167.066761\" xlink:href=\"#m436c7a85bf\" y=\"224.64\"/>\n      </g>\n     </g>\n     <g id=\"text_3\">\n      <!-- 4 -->\n      <g transform=\"translate(163.885511 239.238437)scale(0.1 -0.1)\">\n       <defs>\n        <path d=\"M 37.796875 64.3125 \nL 12.890625 25.390625 \nL 37.796875 25.390625 \nz\nM 35.203125 72.90625 \nL 47.609375 72.90625 \nL 47.609375 25.390625 \nL 58.015625 25.390625 \nL 58.015625 17.1875 \nL 47.609375 17.1875 \nL 47.609375 0 \nL 37.796875 0 \nL 37.796875 17.1875 \nL 4.890625 17.1875 \nL 4.890625 26.703125 \nz\n\" id=\"DejaVuSans-52\"/>\n       </defs>\n       <use xlink:href=\"#DejaVuSans-52\"/>\n      </g>\n     </g>\n    </g>\n    <g id=\"xtick_4\">\n     <g id=\"line2d_4\">\n      <g>\n       <use style=\"stroke:#000000;stroke-width:0.8;\" x=\"227.939489\" xlink:href=\"#m436c7a85bf\" y=\"224.64\"/>\n      </g>\n     </g>\n     <g id=\"text_4\">\n      <!-- 6 -->\n      <g transform=\"translate(224.758239 239.238437)scale(0.1 -0.1)\">\n       <defs>\n        <path d=\"M 33.015625 40.375 \nQ 26.375 40.375 22.484375 35.828125 \nQ 18.609375 31.296875 18.609375 23.390625 \nQ 18.609375 15.53125 22.484375 10.953125 \nQ 26.375 6.390625 33.015625 6.390625 \nQ 39.65625 6.390625 43.53125 10.953125 \nQ 47.40625 15.53125 47.40625 23.390625 \nQ 47.40625 31.296875 43.53125 35.828125 \nQ 39.65625 40.375 33.015625 40.375 \nz\nM 52.59375 71.296875 \nL 52.59375 62.3125 \nQ 48.875 64.0625 45.09375 64.984375 \nQ 41.3125 65.921875 37.59375 65.921875 \nQ 27.828125 65.921875 22.671875 59.328125 \nQ 17.53125 52.734375 16.796875 39.40625 \nQ 19.671875 43.65625 24.015625 45.921875 \nQ 28.375 48.1875 33.59375 48.1875 \nQ 44.578125 48.1875 50.953125 41.515625 \nQ 57.328125 34.859375 57.328125 23.390625 \nQ 57.328125 12.15625 50.6875 5.359375 \nQ 44.046875 -1.421875 33.015625 -1.421875 \nQ 20.359375 -1.421875 13.671875 8.265625 \nQ 6.984375 17.96875 6.984375 36.375 \nQ 6.984375 53.65625 15.1875 63.9375 \nQ 23.390625 74.21875 37.203125 74.21875 \nQ 40.921875 74.21875 44.703125 73.484375 \nQ 48.484375 72.75 52.59375 71.296875 \nz\n\" id=\"DejaVuSans-54\"/>\n       </defs>\n       <use xlink:href=\"#DejaVuSans-54\"/>\n      </g>\n     </g>\n    </g>\n    <g id=\"xtick_5\">\n     <g id=\"line2d_5\">\n      <g>\n       <use style=\"stroke:#000000;stroke-width:0.8;\" x=\"288.812216\" xlink:href=\"#m436c7a85bf\" y=\"224.64\"/>\n      </g>\n     </g>\n     <g id=\"text_5\">\n      <!-- 8 -->\n      <g transform=\"translate(285.630966 239.238437)scale(0.1 -0.1)\">\n       <defs>\n        <path d=\"M 31.78125 34.625 \nQ 24.75 34.625 20.71875 30.859375 \nQ 16.703125 27.09375 16.703125 20.515625 \nQ 16.703125 13.921875 20.71875 10.15625 \nQ 24.75 6.390625 31.78125 6.390625 \nQ 38.8125 6.390625 42.859375 10.171875 \nQ 46.921875 13.96875 46.921875 20.515625 \nQ 46.921875 27.09375 42.890625 30.859375 \nQ 38.875 34.625 31.78125 34.625 \nz\nM 21.921875 38.8125 \nQ 15.578125 40.375 12.03125 44.71875 \nQ 8.5 49.078125 8.5 55.328125 \nQ 8.5 64.0625 14.71875 69.140625 \nQ 20.953125 74.21875 31.78125 74.21875 \nQ 42.671875 74.21875 48.875 69.140625 \nQ 55.078125 64.0625 55.078125 55.328125 \nQ 55.078125 49.078125 51.53125 44.71875 \nQ 48 40.375 41.703125 38.8125 \nQ 48.828125 37.15625 52.796875 32.3125 \nQ 56.78125 27.484375 56.78125 20.515625 \nQ 56.78125 9.90625 50.3125 4.234375 \nQ 43.84375 -1.421875 31.78125 -1.421875 \nQ 19.734375 -1.421875 13.25 4.234375 \nQ 6.78125 9.90625 6.78125 20.515625 \nQ 6.78125 27.484375 10.78125 32.3125 \nQ 14.796875 37.15625 21.921875 38.8125 \nz\nM 18.3125 54.390625 \nQ 18.3125 48.734375 21.84375 45.5625 \nQ 25.390625 42.390625 31.78125 42.390625 \nQ 38.140625 42.390625 41.71875 45.5625 \nQ 45.3125 48.734375 45.3125 54.390625 \nQ 45.3125 60.0625 41.71875 63.234375 \nQ 38.140625 66.40625 31.78125 66.40625 \nQ 25.390625 66.40625 21.84375 63.234375 \nQ 18.3125 60.0625 18.3125 54.390625 \nz\n\" id=\"DejaVuSans-56\"/>\n       </defs>\n       <use xlink:href=\"#DejaVuSans-56\"/>\n      </g>\n     </g>\n    </g>\n    <g id=\"xtick_6\">\n     <g id=\"line2d_6\">\n      <g>\n       <use style=\"stroke:#000000;stroke-width:0.8;\" x=\"349.684943\" xlink:href=\"#m436c7a85bf\" y=\"224.64\"/>\n      </g>\n     </g>\n     <g id=\"text_6\">\n      <!-- 10 -->\n      <g transform=\"translate(343.322443 239.238437)scale(0.1 -0.1)\">\n       <defs>\n        <path d=\"M 12.40625 8.296875 \nL 28.515625 8.296875 \nL 28.515625 63.921875 \nL 10.984375 60.40625 \nL 10.984375 69.390625 \nL 28.421875 72.90625 \nL 38.28125 72.90625 \nL 38.28125 8.296875 \nL 54.390625 8.296875 \nL 54.390625 0 \nL 12.40625 0 \nz\n\" id=\"DejaVuSans-49\"/>\n       </defs>\n       <use xlink:href=\"#DejaVuSans-49\"/>\n       <use x=\"63.623047\" xlink:href=\"#DejaVuSans-48\"/>\n      </g>\n     </g>\n    </g>\n   </g>\n   <g id=\"matplotlib.axis_2\">\n    <g id=\"ytick_1\">\n     <g id=\"line2d_7\">\n      <defs>\n       <path d=\"M 0 0 \nL -3.5 0 \n\" id=\"mb3a32ea301\" style=\"stroke:#000000;stroke-width:0.8;\"/>\n      </defs>\n      <g>\n       <use style=\"stroke:#000000;stroke-width:0.8;\" x=\"30.103125\" xlink:href=\"#mb3a32ea301\" y=\"214.756364\"/>\n      </g>\n     </g>\n     <g id=\"text_7\">\n      <!-- 0.0 -->\n      <g transform=\"translate(7.2 218.555582)scale(0.1 -0.1)\">\n       <defs>\n        <path d=\"M 10.6875 12.40625 \nL 21 12.40625 \nL 21 0 \nL 10.6875 0 \nz\n\" id=\"DejaVuSans-46\"/>\n       </defs>\n       <use xlink:href=\"#DejaVuSans-48\"/>\n       <use x=\"63.623047\" xlink:href=\"#DejaVuSans-46\"/>\n       <use x=\"95.410156\" xlink:href=\"#DejaVuSans-48\"/>\n      </g>\n     </g>\n    </g>\n    <g id=\"ytick_2\">\n     <g id=\"line2d_8\">\n      <g>\n       <use style=\"stroke:#000000;stroke-width:0.8;\" x=\"30.103125\" xlink:href=\"#mb3a32ea301\" y=\"175.221818\"/>\n      </g>\n     </g>\n     <g id=\"text_8\">\n      <!-- 0.2 -->\n      <g transform=\"translate(7.2 179.021037)scale(0.1 -0.1)\">\n       <use xlink:href=\"#DejaVuSans-48\"/>\n       <use x=\"63.623047\" xlink:href=\"#DejaVuSans-46\"/>\n       <use x=\"95.410156\" xlink:href=\"#DejaVuSans-50\"/>\n      </g>\n     </g>\n    </g>\n    <g id=\"ytick_3\">\n     <g id=\"line2d_9\">\n      <g>\n       <use style=\"stroke:#000000;stroke-width:0.8;\" x=\"30.103125\" xlink:href=\"#mb3a32ea301\" y=\"135.687273\"/>\n      </g>\n     </g>\n     <g id=\"text_9\">\n      <!-- 0.4 -->\n      <g transform=\"translate(7.2 139.486491)scale(0.1 -0.1)\">\n       <use xlink:href=\"#DejaVuSans-48\"/>\n       <use x=\"63.623047\" xlink:href=\"#DejaVuSans-46\"/>\n       <use x=\"95.410156\" xlink:href=\"#DejaVuSans-52\"/>\n      </g>\n     </g>\n    </g>\n    <g id=\"ytick_4\">\n     <g id=\"line2d_10\">\n      <g>\n       <use style=\"stroke:#000000;stroke-width:0.8;\" x=\"30.103125\" xlink:href=\"#mb3a32ea301\" y=\"96.152727\"/>\n      </g>\n     </g>\n     <g id=\"text_10\">\n      <!-- 0.6 -->\n      <g transform=\"translate(7.2 99.951946)scale(0.1 -0.1)\">\n       <use xlink:href=\"#DejaVuSans-48\"/>\n       <use x=\"63.623047\" xlink:href=\"#DejaVuSans-46\"/>\n       <use x=\"95.410156\" xlink:href=\"#DejaVuSans-54\"/>\n      </g>\n     </g>\n    </g>\n    <g id=\"ytick_5\">\n     <g id=\"line2d_11\">\n      <g>\n       <use style=\"stroke:#000000;stroke-width:0.8;\" x=\"30.103125\" xlink:href=\"#mb3a32ea301\" y=\"56.618182\"/>\n      </g>\n     </g>\n     <g id=\"text_11\">\n      <!-- 0.8 -->\n      <g transform=\"translate(7.2 60.417401)scale(0.1 -0.1)\">\n       <use xlink:href=\"#DejaVuSans-48\"/>\n       <use x=\"63.623047\" xlink:href=\"#DejaVuSans-46\"/>\n       <use x=\"95.410156\" xlink:href=\"#DejaVuSans-56\"/>\n      </g>\n     </g>\n    </g>\n    <g id=\"ytick_6\">\n     <g id=\"line2d_12\">\n      <g>\n       <use style=\"stroke:#000000;stroke-width:0.8;\" x=\"30.103125\" xlink:href=\"#mb3a32ea301\" y=\"17.083636\"/>\n      </g>\n     </g>\n     <g id=\"text_12\">\n      <!-- 1.0 -->\n      <g transform=\"translate(7.2 20.882855)scale(0.1 -0.1)\">\n       <use xlink:href=\"#DejaVuSans-49\"/>\n       <use x=\"63.623047\" xlink:href=\"#DejaVuSans-46\"/>\n       <use x=\"95.410156\" xlink:href=\"#DejaVuSans-48\"/>\n      </g>\n     </g>\n    </g>\n   </g>\n   <g id=\"patch_3\">\n    <path d=\"M 30.103125 224.64 \nL 30.103125 7.2 \n\" style=\"fill:none;stroke:#000000;stroke-linecap:square;stroke-linejoin:miter;stroke-width:0.8;\"/>\n   </g>\n   <g id=\"patch_4\">\n    <path d=\"M 364.903125 224.64 \nL 364.903125 7.2 \n\" style=\"fill:none;stroke:#000000;stroke-linecap:square;stroke-linejoin:miter;stroke-width:0.8;\"/>\n   </g>\n   <g id=\"patch_5\">\n    <path d=\"M 30.103125 224.64 \nL 364.903125 224.64 \n\" style=\"fill:none;stroke:#000000;stroke-linecap:square;stroke-linejoin:miter;stroke-width:0.8;\"/>\n   </g>\n   <g id=\"patch_6\">\n    <path d=\"M 30.103125 7.2 \nL 364.903125 7.2 \n\" style=\"fill:none;stroke:#000000;stroke-linecap:square;stroke-linejoin:miter;stroke-width:0.8;\"/>\n   </g>\n  </g>\n </g>\n <defs>\n  <clipPath id=\"p5afd26592b\">\n   <rect height=\"217.44\" width=\"334.8\" x=\"30.103125\" y=\"7.2\"/>\n  </clipPath>\n </defs>\n</svg>\n",
      "image/png": "[encoded data removed]"
     },
     "metadata": {
      "needs_background": "light"
     }
    }
   ],
   "source": [
    "f = 1800\n",
    "X = np.arange(11)\n",
    "y = df.loc[f]\n",
    "\n",
    "plt.scatter(X,y)"
   ]
  },
  {
   "cell_type": "code",
   "execution_count": 144,
   "metadata": {
    "tags": []
   },
   "outputs": [
    {
     "output_type": "display_data",
     "data": {
      "text/plain": "<Figure size 3600x1440 with 10 Axes>",
      "image/svg+xml": "<?xml version=\"1.0\" encoding=\"utf-8\" standalone=\"no\"?>\n<!DOCTYPE svg PUBLIC \"-//W3C//DTD SVG 1.1//EN\"\n  \"http://www.w3.org/Graphics/SVG/1.1/DTD/svg11.dtd\">\n<!-- Created with matplotlib (https://matplotlib.org/) -->\n<svg height=\"1431.59625pt\" version=\"1.1\" viewBox=\"0 0 3592.703125 1431.59625\" width=\"3592.703125pt\" xmlns=\"http://www.w3.org/2000/svg\" xmlns:xlink=\"http://www.w3.org/1999/xlink\">\n <metadata>\n  <rdf:RDF xmlns:cc=\"http://creativecommons.org/ns#\" xmlns:dc=\"http://purl.org/dc/elements/1.1/\" xmlns:rdf=\"http://www.w3.org/1999/02/22-rdf-syntax-ns#\">\n   <cc:Work>\n    <dc:type rdf:resource=\"http://purl.org/dc/dcmitype/StillImage\"/>\n    <dc:date>2020-09-05T15:03:07.571873</dc:date>\n    <dc:format>image/svg+xml</dc:format>\n    <dc:creator>\n     <cc:Agent>\n      <dc:title>Matplotlib v3.3.1, https://matplotlib.org/</dc:title>\n     </cc:Agent>\n    </dc:creator>\n   </cc:Work>\n  </rdf:RDF>\n </metadata>\n <defs>\n  <style type=\"text/css\">*{stroke-linecap:butt;stroke-linejoin:round;}</style>\n </defs>\n <g id=\"figure_1\">\n  <g id=\"patch_1\">\n   <path d=\"M 0 1431.59625 \nL 3592.703125 1431.59625 \nL 3592.703125 0 \nL 0 0 \nz\n\" style=\"fill:none;\"/>\n  </g>\n  <g id=\"axes_1\">\n   <g id=\"patch_2\">\n    <path d=\"M 30.103125 693.118125 \nL 714.143125 693.118125 \nL 714.143125 22.318125 \nL 30.103125 22.318125 \nz\n\" style=\"fill:#ffffff;\"/>\n   </g>\n   <g id=\"PathCollection_1\">\n    <defs>\n     <path d=\"M 0 3 \nC 0.795609 3 1.55874 2.683901 2.12132 2.12132 \nC 2.683901 1.55874 3 0.795609 3 0 \nC 3 -0.795609 2.683901 -1.55874 2.12132 -2.12132 \nC 1.55874 -2.683901 0.795609 -3 0 -3 \nC -0.795609 -3 -1.55874 -2.683901 -2.12132 -2.12132 \nC -2.683901 -1.55874 -3 -0.795609 -3 0 \nC -3 0.795609 -2.683901 1.55874 -2.12132 2.12132 \nC -1.55874 2.683901 -0.795609 3 0 3 \nz\n\" id=\"me40683c5df\" style=\"stroke:#1f77b4;\"/>\n    </defs>\n    <g clip-path=\"url(#p9c5f699637)\">\n     <use style=\"fill:#1f77b4;stroke:#1f77b4;\" x=\"61.195852\" xlink:href=\"#me40683c5df\" y=\"662.627216\"/>\n     <use style=\"fill:#1f77b4;stroke:#1f77b4;\" x=\"123.381307\" xlink:href=\"#me40683c5df\" y=\"459.354489\"/>\n     <use style=\"fill:#1f77b4;stroke:#1f77b4;\" x=\"185.566761\" xlink:href=\"#me40683c5df\" y=\"52.809034\"/>\n     <use style=\"fill:#1f77b4;stroke:#1f77b4;\" x=\"247.752216\" xlink:href=\"#me40683c5df\" y=\"52.809034\"/>\n     <use style=\"fill:#1f77b4;stroke:#1f77b4;\" x=\"309.93767\" xlink:href=\"#me40683c5df\" y=\"52.809034\"/>\n     <use style=\"fill:#1f77b4;stroke:#1f77b4;\" x=\"372.123125\" xlink:href=\"#me40683c5df\" y=\"52.809034\"/>\n     <use style=\"fill:#1f77b4;stroke:#1f77b4;\" x=\"434.30858\" xlink:href=\"#me40683c5df\" y=\"52.809034\"/>\n     <use style=\"fill:#1f77b4;stroke:#1f77b4;\" x=\"496.494034\" xlink:href=\"#me40683c5df\" y=\"52.809034\"/>\n     <use style=\"fill:#1f77b4;stroke:#1f77b4;\" x=\"558.679489\" xlink:href=\"#me40683c5df\" y=\"52.809034\"/>\n     <use style=\"fill:#1f77b4;stroke:#1f77b4;\" x=\"620.864943\" xlink:href=\"#me40683c5df\" y=\"52.809034\"/>\n     <use style=\"fill:#1f77b4;stroke:#1f77b4;\" x=\"683.050398\" xlink:href=\"#me40683c5df\" y=\"52.809034\"/>\n    </g>\n   </g>\n   <g id=\"matplotlib.axis_1\">\n    <g id=\"xtick_1\">\n     <g id=\"line2d_1\">\n      <defs>\n       <path d=\"M 0 0 \nL 0 3.5 \n\" id=\"mebb9b54225\" style=\"stroke:#000000;stroke-width:0.8;\"/>\n      </defs>\n      <g>\n       <use style=\"stroke:#000000;stroke-width:0.8;\" x=\"61.195852\" xlink:href=\"#mebb9b54225\" y=\"693.118125\"/>\n      </g>\n     </g>\n     <g id=\"text_1\">\n      <!-- 0 -->\n      <g transform=\"translate(58.014602 707.716562)scale(0.1 -0.1)\">\n       <defs>\n        <path d=\"M 31.78125 66.40625 \nQ 24.171875 66.40625 20.328125 58.90625 \nQ 16.5 51.421875 16.5 36.375 \nQ 16.5 21.390625 20.328125 13.890625 \nQ 24.171875 6.390625 31.78125 6.390625 \nQ 39.453125 6.390625 43.28125 13.890625 \nQ 47.125 21.390625 47.125 36.375 \nQ 47.125 51.421875 43.28125 58.90625 \nQ 39.453125 66.40625 31.78125 66.40625 \nz\nM 31.78125 74.21875 \nQ 44.046875 74.21875 50.515625 64.515625 \nQ 56.984375 54.828125 56.984375 36.375 \nQ 56.984375 17.96875 50.515625 8.265625 \nQ 44.046875 -1.421875 31.78125 -1.421875 \nQ 19.53125 -1.421875 13.0625 8.265625 \nQ 6.59375 17.96875 6.59375 36.375 \nQ 6.59375 54.828125 13.0625 64.515625 \nQ 19.53125 74.21875 31.78125 74.21875 \nz\n\" id=\"DejaVuSans-48\"/>\n       </defs>\n       <use xlink:href=\"#DejaVuSans-48\"/>\n      </g>\n     </g>\n    </g>\n    <g id=\"xtick_2\">\n     <g id=\"line2d_2\">\n      <g>\n       <use style=\"stroke:#000000;stroke-width:0.8;\" x=\"185.566761\" xlink:href=\"#mebb9b54225\" y=\"693.118125\"/>\n      </g>\n     </g>\n     <g id=\"text_2\">\n      <!-- 2 -->\n      <g transform=\"translate(182.385511 707.716562)scale(0.1 -0.1)\">\n       <defs>\n        <path d=\"M 19.1875 8.296875 \nL 53.609375 8.296875 \nL 53.609375 0 \nL 7.328125 0 \nL 7.328125 8.296875 \nQ 12.9375 14.109375 22.625 23.890625 \nQ 32.328125 33.6875 34.8125 36.53125 \nQ 39.546875 41.84375 41.421875 45.53125 \nQ 43.3125 49.21875 43.3125 52.78125 \nQ 43.3125 58.59375 39.234375 62.25 \nQ 35.15625 65.921875 28.609375 65.921875 \nQ 23.96875 65.921875 18.8125 64.3125 \nQ 13.671875 62.703125 7.8125 59.421875 \nL 7.8125 69.390625 \nQ 13.765625 71.78125 18.9375 73 \nQ 24.125 74.21875 28.421875 74.21875 \nQ 39.75 74.21875 46.484375 68.546875 \nQ 53.21875 62.890625 53.21875 53.421875 \nQ 53.21875 48.921875 51.53125 44.890625 \nQ 49.859375 40.875 45.40625 35.40625 \nQ 44.1875 33.984375 37.640625 27.21875 \nQ 31.109375 20.453125 19.1875 8.296875 \nz\n\" id=\"DejaVuSans-50\"/>\n       </defs>\n       <use xlink:href=\"#DejaVuSans-50\"/>\n      </g>\n     </g>\n    </g>\n    <g id=\"xtick_3\">\n     <g id=\"line2d_3\">\n      <g>\n       <use style=\"stroke:#000000;stroke-width:0.8;\" x=\"309.93767\" xlink:href=\"#mebb9b54225\" y=\"693.118125\"/>\n      </g>\n     </g>\n     <g id=\"text_3\">\n      <!-- 4 -->\n      <g transform=\"translate(306.75642 707.716562)scale(0.1 -0.1)\">\n       <defs>\n        <path d=\"M 37.796875 64.3125 \nL 12.890625 25.390625 \nL 37.796875 25.390625 \nz\nM 35.203125 72.90625 \nL 47.609375 72.90625 \nL 47.609375 25.390625 \nL 58.015625 25.390625 \nL 58.015625 17.1875 \nL 47.609375 17.1875 \nL 47.609375 0 \nL 37.796875 0 \nL 37.796875 17.1875 \nL 4.890625 17.1875 \nL 4.890625 26.703125 \nz\n\" id=\"DejaVuSans-52\"/>\n       </defs>\n       <use xlink:href=\"#DejaVuSans-52\"/>\n      </g>\n     </g>\n    </g>\n    <g id=\"xtick_4\">\n     <g id=\"line2d_4\">\n      <g>\n       <use style=\"stroke:#000000;stroke-width:0.8;\" x=\"434.30858\" xlink:href=\"#mebb9b54225\" y=\"693.118125\"/>\n      </g>\n     </g>\n     <g id=\"text_4\">\n      <!-- 6 -->\n      <g transform=\"translate(431.12733 707.716562)scale(0.1 -0.1)\">\n       <defs>\n        <path d=\"M 33.015625 40.375 \nQ 26.375 40.375 22.484375 35.828125 \nQ 18.609375 31.296875 18.609375 23.390625 \nQ 18.609375 15.53125 22.484375 10.953125 \nQ 26.375 6.390625 33.015625 6.390625 \nQ 39.65625 6.390625 43.53125 10.953125 \nQ 47.40625 15.53125 47.40625 23.390625 \nQ 47.40625 31.296875 43.53125 35.828125 \nQ 39.65625 40.375 33.015625 40.375 \nz\nM 52.59375 71.296875 \nL 52.59375 62.3125 \nQ 48.875 64.0625 45.09375 64.984375 \nQ 41.3125 65.921875 37.59375 65.921875 \nQ 27.828125 65.921875 22.671875 59.328125 \nQ 17.53125 52.734375 16.796875 39.40625 \nQ 19.671875 43.65625 24.015625 45.921875 \nQ 28.375 48.1875 33.59375 48.1875 \nQ 44.578125 48.1875 50.953125 41.515625 \nQ 57.328125 34.859375 57.328125 23.390625 \nQ 57.328125 12.15625 50.6875 5.359375 \nQ 44.046875 -1.421875 33.015625 -1.421875 \nQ 20.359375 -1.421875 13.671875 8.265625 \nQ 6.984375 17.96875 6.984375 36.375 \nQ 6.984375 53.65625 15.1875 63.9375 \nQ 23.390625 74.21875 37.203125 74.21875 \nQ 40.921875 74.21875 44.703125 73.484375 \nQ 48.484375 72.75 52.59375 71.296875 \nz\n\" id=\"DejaVuSans-54\"/>\n       </defs>\n       <use xlink:href=\"#DejaVuSans-54\"/>\n      </g>\n     </g>\n    </g>\n    <g id=\"xtick_5\">\n     <g id=\"line2d_5\">\n      <g>\n       <use style=\"stroke:#000000;stroke-width:0.8;\" x=\"558.679489\" xlink:href=\"#mebb9b54225\" y=\"693.118125\"/>\n      </g>\n     </g>\n     <g id=\"text_5\">\n      <!-- 8 -->\n      <g transform=\"translate(555.498239 707.716562)scale(0.1 -0.1)\">\n       <defs>\n        <path d=\"M 31.78125 34.625 \nQ 24.75 34.625 20.71875 30.859375 \nQ 16.703125 27.09375 16.703125 20.515625 \nQ 16.703125 13.921875 20.71875 10.15625 \nQ 24.75 6.390625 31.78125 6.390625 \nQ 38.8125 6.390625 42.859375 10.171875 \nQ 46.921875 13.96875 46.921875 20.515625 \nQ 46.921875 27.09375 42.890625 30.859375 \nQ 38.875 34.625 31.78125 34.625 \nz\nM 21.921875 38.8125 \nQ 15.578125 40.375 12.03125 44.71875 \nQ 8.5 49.078125 8.5 55.328125 \nQ 8.5 64.0625 14.71875 69.140625 \nQ 20.953125 74.21875 31.78125 74.21875 \nQ 42.671875 74.21875 48.875 69.140625 \nQ 55.078125 64.0625 55.078125 55.328125 \nQ 55.078125 49.078125 51.53125 44.71875 \nQ 48 40.375 41.703125 38.8125 \nQ 48.828125 37.15625 52.796875 32.3125 \nQ 56.78125 27.484375 56.78125 20.515625 \nQ 56.78125 9.90625 50.3125 4.234375 \nQ 43.84375 -1.421875 31.78125 -1.421875 \nQ 19.734375 -1.421875 13.25 4.234375 \nQ 6.78125 9.90625 6.78125 20.515625 \nQ 6.78125 27.484375 10.78125 32.3125 \nQ 14.796875 37.15625 21.921875 38.8125 \nz\nM 18.3125 54.390625 \nQ 18.3125 48.734375 21.84375 45.5625 \nQ 25.390625 42.390625 31.78125 42.390625 \nQ 38.140625 42.390625 41.71875 45.5625 \nQ 45.3125 48.734375 45.3125 54.390625 \nQ 45.3125 60.0625 41.71875 63.234375 \nQ 38.140625 66.40625 31.78125 66.40625 \nQ 25.390625 66.40625 21.84375 63.234375 \nQ 18.3125 60.0625 18.3125 54.390625 \nz\n\" id=\"DejaVuSans-56\"/>\n       </defs>\n       <use xlink:href=\"#DejaVuSans-56\"/>\n      </g>\n     </g>\n    </g>\n    <g id=\"xtick_6\">\n     <g id=\"line2d_6\">\n      <g>\n       <use style=\"stroke:#000000;stroke-width:0.8;\" x=\"683.050398\" xlink:href=\"#mebb9b54225\" y=\"693.118125\"/>\n      </g>\n     </g>\n     <g id=\"text_6\">\n      <!-- 10 -->\n      <g transform=\"translate(676.687898 707.716562)scale(0.1 -0.1)\">\n       <defs>\n        <path d=\"M 12.40625 8.296875 \nL 28.515625 8.296875 \nL 28.515625 63.921875 \nL 10.984375 60.40625 \nL 10.984375 69.390625 \nL 28.421875 72.90625 \nL 38.28125 72.90625 \nL 38.28125 8.296875 \nL 54.390625 8.296875 \nL 54.390625 0 \nL 12.40625 0 \nz\n\" id=\"DejaVuSans-49\"/>\n       </defs>\n       <use xlink:href=\"#DejaVuSans-49\"/>\n       <use x=\"63.623047\" xlink:href=\"#DejaVuSans-48\"/>\n      </g>\n     </g>\n    </g>\n   </g>\n   <g id=\"matplotlib.axis_2\">\n    <g id=\"ytick_1\">\n     <g id=\"line2d_7\">\n      <defs>\n       <path d=\"M 0 0 \nL -3.5 0 \n\" id=\"m4fa1d159ba\" style=\"stroke:#000000;stroke-width:0.8;\"/>\n      </defs>\n      <g>\n       <use style=\"stroke:#000000;stroke-width:0.8;\" x=\"30.103125\" xlink:href=\"#m4fa1d159ba\" y=\"638.234489\"/>\n      </g>\n     </g>\n     <g id=\"text_7\">\n      <!-- 0.2 -->\n      <g transform=\"translate(7.2 642.033707)scale(0.1 -0.1)\">\n       <defs>\n        <path d=\"M 10.6875 12.40625 \nL 21 12.40625 \nL 21 0 \nL 10.6875 0 \nz\n\" id=\"DejaVuSans-46\"/>\n       </defs>\n       <use xlink:href=\"#DejaVuSans-48\"/>\n       <use x=\"63.623047\" xlink:href=\"#DejaVuSans-46\"/>\n       <use x=\"95.410156\" xlink:href=\"#DejaVuSans-50\"/>\n      </g>\n     </g>\n    </g>\n    <g id=\"ytick_2\">\n     <g id=\"line2d_8\">\n      <g>\n       <use style=\"stroke:#000000;stroke-width:0.8;\" x=\"30.103125\" xlink:href=\"#m4fa1d159ba\" y=\"491.878125\"/>\n      </g>\n     </g>\n     <g id=\"text_8\">\n      <!-- 0.4 -->\n      <g transform=\"translate(7.2 495.677344)scale(0.1 -0.1)\">\n       <use xlink:href=\"#DejaVuSans-48\"/>\n       <use x=\"63.623047\" xlink:href=\"#DejaVuSans-46\"/>\n       <use x=\"95.410156\" xlink:href=\"#DejaVuSans-52\"/>\n      </g>\n     </g>\n    </g>\n    <g id=\"ytick_3\">\n     <g id=\"line2d_9\">\n      <g>\n       <use style=\"stroke:#000000;stroke-width:0.8;\" x=\"30.103125\" xlink:href=\"#m4fa1d159ba\" y=\"345.521761\"/>\n      </g>\n     </g>\n     <g id=\"text_9\">\n      <!-- 0.6 -->\n      <g transform=\"translate(7.2 349.32098)scale(0.1 -0.1)\">\n       <use xlink:href=\"#DejaVuSans-48\"/>\n       <use x=\"63.623047\" xlink:href=\"#DejaVuSans-46\"/>\n       <use x=\"95.410156\" xlink:href=\"#DejaVuSans-54\"/>\n      </g>\n     </g>\n    </g>\n    <g id=\"ytick_4\">\n     <g id=\"line2d_10\">\n      <g>\n       <use style=\"stroke:#000000;stroke-width:0.8;\" x=\"30.103125\" xlink:href=\"#m4fa1d159ba\" y=\"199.165398\"/>\n      </g>\n     </g>\n     <g id=\"text_10\">\n      <!-- 0.8 -->\n      <g transform=\"translate(7.2 202.964616)scale(0.1 -0.1)\">\n       <use xlink:href=\"#DejaVuSans-48\"/>\n       <use x=\"63.623047\" xlink:href=\"#DejaVuSans-46\"/>\n       <use x=\"95.410156\" xlink:href=\"#DejaVuSans-56\"/>\n      </g>\n     </g>\n    </g>\n    <g id=\"ytick_5\">\n     <g id=\"line2d_11\">\n      <g>\n       <use style=\"stroke:#000000;stroke-width:0.8;\" x=\"30.103125\" xlink:href=\"#m4fa1d159ba\" y=\"52.809034\"/>\n      </g>\n     </g>\n     <g id=\"text_11\">\n      <!-- 1.0 -->\n      <g transform=\"translate(7.2 56.608253)scale(0.1 -0.1)\">\n       <use xlink:href=\"#DejaVuSans-49\"/>\n       <use x=\"63.623047\" xlink:href=\"#DejaVuSans-46\"/>\n       <use x=\"95.410156\" xlink:href=\"#DejaVuSans-48\"/>\n      </g>\n     </g>\n    </g>\n   </g>\n   <g id=\"patch_3\">\n    <path d=\"M 30.103125 693.118125 \nL 30.103125 22.318125 \n\" style=\"fill:none;stroke:#000000;stroke-linecap:square;stroke-linejoin:miter;stroke-width:0.8;\"/>\n   </g>\n   <g id=\"patch_4\">\n    <path d=\"M 714.143125 693.118125 \nL 714.143125 22.318125 \n\" style=\"fill:none;stroke:#000000;stroke-linecap:square;stroke-linejoin:miter;stroke-width:0.8;\"/>\n   </g>\n   <g id=\"patch_5\">\n    <path d=\"M 30.103125 693.118125 \nL 714.143125 693.118125 \n\" style=\"fill:none;stroke:#000000;stroke-linecap:square;stroke-linejoin:miter;stroke-width:0.8;\"/>\n   </g>\n   <g id=\"patch_6\">\n    <path d=\"M 30.103125 22.318125 \nL 714.143125 22.318125 \n\" style=\"fill:none;stroke:#000000;stroke-linecap:square;stroke-linejoin:miter;stroke-width:0.8;\"/>\n   </g>\n   <g id=\"text_12\">\n    <!-- 200 -->\n    <g transform=\"translate(360.670625 16.318125)scale(0.12 -0.12)\">\n     <use xlink:href=\"#DejaVuSans-50\"/>\n     <use x=\"63.623047\" xlink:href=\"#DejaVuSans-48\"/>\n     <use x=\"127.246094\" xlink:href=\"#DejaVuSans-48\"/>\n    </g>\n   </g>\n  </g>\n  <g id=\"axes_2\">\n   <g id=\"patch_7\">\n    <path d=\"M 747.943125 693.118125 \nL 1431.983125 693.118125 \nL 1431.983125 22.318125 \nL 747.943125 22.318125 \nz\n\" style=\"fill:#ffffff;\"/>\n   </g>\n   <g id=\"PathCollection_2\">\n    <g clip-path=\"url(#p7098945a61)\">\n     <use style=\"fill:#1f77b4;stroke:#1f77b4;\" x=\"779.035852\" xlink:href=\"#me40683c5df\" y=\"662.627216\"/>\n     <use style=\"fill:#1f77b4;stroke:#1f77b4;\" x=\"841.221307\" xlink:href=\"#me40683c5df\" y=\"586.399943\"/>\n     <use style=\"fill:#1f77b4;stroke:#1f77b4;\" x=\"903.406761\" xlink:href=\"#me40683c5df\" y=\"52.809034\"/>\n     <use style=\"fill:#1f77b4;stroke:#1f77b4;\" x=\"965.592216\" xlink:href=\"#me40683c5df\" y=\"52.809034\"/>\n     <use style=\"fill:#1f77b4;stroke:#1f77b4;\" x=\"1027.77767\" xlink:href=\"#me40683c5df\" y=\"120.56661\"/>\n     <use style=\"fill:#1f77b4;stroke:#1f77b4;\" x=\"1089.963125\" xlink:href=\"#me40683c5df\" y=\"52.809034\"/>\n     <use style=\"fill:#1f77b4;stroke:#1f77b4;\" x=\"1152.14858\" xlink:href=\"#me40683c5df\" y=\"52.809034\"/>\n     <use style=\"fill:#1f77b4;stroke:#1f77b4;\" x=\"1214.334034\" xlink:href=\"#me40683c5df\" y=\"52.809034\"/>\n     <use style=\"fill:#1f77b4;stroke:#1f77b4;\" x=\"1276.519489\" xlink:href=\"#me40683c5df\" y=\"52.809034\"/>\n     <use style=\"fill:#1f77b4;stroke:#1f77b4;\" x=\"1338.704943\" xlink:href=\"#me40683c5df\" y=\"52.809034\"/>\n     <use style=\"fill:#1f77b4;stroke:#1f77b4;\" x=\"1400.890398\" xlink:href=\"#me40683c5df\" y=\"52.809034\"/>\n    </g>\n   </g>\n   <g id=\"matplotlib.axis_3\">\n    <g id=\"xtick_7\">\n     <g id=\"line2d_12\">\n      <g>\n       <use style=\"stroke:#000000;stroke-width:0.8;\" x=\"779.035852\" xlink:href=\"#mebb9b54225\" y=\"693.118125\"/>\n      </g>\n     </g>\n     <g id=\"text_13\">\n      <!-- 0 -->\n      <g transform=\"translate(775.854602 707.716562)scale(0.1 -0.1)\">\n       <use xlink:href=\"#DejaVuSans-48\"/>\n      </g>\n     </g>\n    </g>\n    <g id=\"xtick_8\">\n     <g id=\"line2d_13\">\n      <g>\n       <use style=\"stroke:#000000;stroke-width:0.8;\" x=\"903.406761\" xlink:href=\"#mebb9b54225\" y=\"693.118125\"/>\n      </g>\n     </g>\n     <g id=\"text_14\">\n      <!-- 2 -->\n      <g transform=\"translate(900.225511 707.716562)scale(0.1 -0.1)\">\n       <use xlink:href=\"#DejaVuSans-50\"/>\n      </g>\n     </g>\n    </g>\n    <g id=\"xtick_9\">\n     <g id=\"line2d_14\">\n      <g>\n       <use style=\"stroke:#000000;stroke-width:0.8;\" x=\"1027.77767\" xlink:href=\"#mebb9b54225\" y=\"693.118125\"/>\n      </g>\n     </g>\n     <g id=\"text_15\">\n      <!-- 4 -->\n      <g transform=\"translate(1024.59642 707.716562)scale(0.1 -0.1)\">\n       <use xlink:href=\"#DejaVuSans-52\"/>\n      </g>\n     </g>\n    </g>\n    <g id=\"xtick_10\">\n     <g id=\"line2d_15\">\n      <g>\n       <use style=\"stroke:#000000;stroke-width:0.8;\" x=\"1152.14858\" xlink:href=\"#mebb9b54225\" y=\"693.118125\"/>\n      </g>\n     </g>\n     <g id=\"text_16\">\n      <!-- 6 -->\n      <g transform=\"translate(1148.96733 707.716562)scale(0.1 -0.1)\">\n       <use xlink:href=\"#DejaVuSans-54\"/>\n      </g>\n     </g>\n    </g>\n    <g id=\"xtick_11\">\n     <g id=\"line2d_16\">\n      <g>\n       <use style=\"stroke:#000000;stroke-width:0.8;\" x=\"1276.519489\" xlink:href=\"#mebb9b54225\" y=\"693.118125\"/>\n      </g>\n     </g>\n     <g id=\"text_17\">\n      <!-- 8 -->\n      <g transform=\"translate(1273.338239 707.716562)scale(0.1 -0.1)\">\n       <use xlink:href=\"#DejaVuSans-56\"/>\n      </g>\n     </g>\n    </g>\n    <g id=\"xtick_12\">\n     <g id=\"line2d_17\">\n      <g>\n       <use style=\"stroke:#000000;stroke-width:0.8;\" x=\"1400.890398\" xlink:href=\"#mebb9b54225\" y=\"693.118125\"/>\n      </g>\n     </g>\n     <g id=\"text_18\">\n      <!-- 10 -->\n      <g transform=\"translate(1394.527898 707.716562)scale(0.1 -0.1)\">\n       <use xlink:href=\"#DejaVuSans-49\"/>\n       <use x=\"63.623047\" xlink:href=\"#DejaVuSans-48\"/>\n      </g>\n     </g>\n    </g>\n   </g>\n   <g id=\"matplotlib.axis_4\">\n    <g id=\"ytick_6\">\n     <g id=\"line2d_18\">\n      <g>\n       <use style=\"stroke:#000000;stroke-width:0.8;\" x=\"747.943125\" xlink:href=\"#m4fa1d159ba\" y=\"662.627216\"/>\n      </g>\n     </g>\n     <g id=\"text_19\">\n      <!-- 0.0 -->\n      <g transform=\"translate(725.04 666.426435)scale(0.1 -0.1)\">\n       <use xlink:href=\"#DejaVuSans-48\"/>\n       <use x=\"63.623047\" xlink:href=\"#DejaVuSans-46\"/>\n       <use x=\"95.410156\" xlink:href=\"#DejaVuSans-48\"/>\n      </g>\n     </g>\n    </g>\n    <g id=\"ytick_7\">\n     <g id=\"line2d_19\">\n      <g>\n       <use style=\"stroke:#000000;stroke-width:0.8;\" x=\"747.943125\" xlink:href=\"#m4fa1d159ba\" y=\"540.66358\"/>\n      </g>\n     </g>\n     <g id=\"text_20\">\n      <!-- 0.2 -->\n      <g transform=\"translate(725.04 544.462798)scale(0.1 -0.1)\">\n       <use xlink:href=\"#DejaVuSans-48\"/>\n       <use x=\"63.623047\" xlink:href=\"#DejaVuSans-46\"/>\n       <use x=\"95.410156\" xlink:href=\"#DejaVuSans-50\"/>\n      </g>\n     </g>\n    </g>\n    <g id=\"ytick_8\">\n     <g id=\"line2d_20\">\n      <g>\n       <use style=\"stroke:#000000;stroke-width:0.8;\" x=\"747.943125\" xlink:href=\"#m4fa1d159ba\" y=\"418.699943\"/>\n      </g>\n     </g>\n     <g id=\"text_21\">\n      <!-- 0.4 -->\n      <g transform=\"translate(725.04 422.499162)scale(0.1 -0.1)\">\n       <use xlink:href=\"#DejaVuSans-48\"/>\n       <use x=\"63.623047\" xlink:href=\"#DejaVuSans-46\"/>\n       <use x=\"95.410156\" xlink:href=\"#DejaVuSans-52\"/>\n      </g>\n     </g>\n    </g>\n    <g id=\"ytick_9\">\n     <g id=\"line2d_21\">\n      <g>\n       <use style=\"stroke:#000000;stroke-width:0.8;\" x=\"747.943125\" xlink:href=\"#m4fa1d159ba\" y=\"296.736307\"/>\n      </g>\n     </g>\n     <g id=\"text_22\">\n      <!-- 0.6 -->\n      <g transform=\"translate(725.04 300.535526)scale(0.1 -0.1)\">\n       <use xlink:href=\"#DejaVuSans-48\"/>\n       <use x=\"63.623047\" xlink:href=\"#DejaVuSans-46\"/>\n       <use x=\"95.410156\" xlink:href=\"#DejaVuSans-54\"/>\n      </g>\n     </g>\n    </g>\n    <g id=\"ytick_10\">\n     <g id=\"line2d_22\">\n      <g>\n       <use style=\"stroke:#000000;stroke-width:0.8;\" x=\"747.943125\" xlink:href=\"#m4fa1d159ba\" y=\"174.77267\"/>\n      </g>\n     </g>\n     <g id=\"text_23\">\n      <!-- 0.8 -->\n      <g transform=\"translate(725.04 178.571889)scale(0.1 -0.1)\">\n       <use xlink:href=\"#DejaVuSans-48\"/>\n       <use x=\"63.623047\" xlink:href=\"#DejaVuSans-46\"/>\n       <use x=\"95.410156\" xlink:href=\"#DejaVuSans-56\"/>\n      </g>\n     </g>\n    </g>\n    <g id=\"ytick_11\">\n     <g id=\"line2d_23\">\n      <g>\n       <use style=\"stroke:#000000;stroke-width:0.8;\" x=\"747.943125\" xlink:href=\"#m4fa1d159ba\" y=\"52.809034\"/>\n      </g>\n     </g>\n     <g id=\"text_24\">\n      <!-- 1.0 -->\n      <g transform=\"translate(725.04 56.608253)scale(0.1 -0.1)\">\n       <use xlink:href=\"#DejaVuSans-49\"/>\n       <use x=\"63.623047\" xlink:href=\"#DejaVuSans-46\"/>\n       <use x=\"95.410156\" xlink:href=\"#DejaVuSans-48\"/>\n      </g>\n     </g>\n    </g>\n   </g>\n   <g id=\"patch_8\">\n    <path d=\"M 747.943125 693.118125 \nL 747.943125 22.318125 \n\" style=\"fill:none;stroke:#000000;stroke-linecap:square;stroke-linejoin:miter;stroke-width:0.8;\"/>\n   </g>\n   <g id=\"patch_9\">\n    <path d=\"M 1431.983125 693.118125 \nL 1431.983125 22.318125 \n\" style=\"fill:none;stroke:#000000;stroke-linecap:square;stroke-linejoin:miter;stroke-width:0.8;\"/>\n   </g>\n   <g id=\"patch_10\">\n    <path d=\"M 747.943125 693.118125 \nL 1431.983125 693.118125 \n\" style=\"fill:none;stroke:#000000;stroke-linecap:square;stroke-linejoin:miter;stroke-width:0.8;\"/>\n   </g>\n   <g id=\"patch_11\">\n    <path d=\"M 747.943125 22.318125 \nL 1431.983125 22.318125 \n\" style=\"fill:none;stroke:#000000;stroke-linecap:square;stroke-linejoin:miter;stroke-width:0.8;\"/>\n   </g>\n   <g id=\"text_25\">\n    <!-- 400 -->\n    <g transform=\"translate(1078.510625 16.318125)scale(0.12 -0.12)\">\n     <use xlink:href=\"#DejaVuSans-52\"/>\n     <use x=\"63.623047\" xlink:href=\"#DejaVuSans-48\"/>\n     <use x=\"127.246094\" xlink:href=\"#DejaVuSans-48\"/>\n    </g>\n   </g>\n  </g>\n  <g id=\"axes_3\">\n   <g id=\"patch_12\">\n    <path d=\"M 1465.783125 693.118125 \nL 2149.823125 693.118125 \nL 2149.823125 22.318125 \nL 1465.783125 22.318125 \nz\n\" style=\"fill:#ffffff;\"/>\n   </g>\n   <g id=\"PathCollection_3\">\n    <g clip-path=\"url(#paaa12642d1)\">\n     <use style=\"fill:#1f77b4;stroke:#1f77b4;\" x=\"1496.875852\" xlink:href=\"#me40683c5df\" y=\"662.627216\"/>\n     <use style=\"fill:#1f77b4;stroke:#1f77b4;\" x=\"1565.970802\" xlink:href=\"#me40683c5df\" y=\"510.17267\"/>\n     <use style=\"fill:#1f77b4;stroke:#1f77b4;\" x=\"1635.065751\" xlink:href=\"#me40683c5df\" y=\"256.081761\"/>\n     <use style=\"fill:#1f77b4;stroke:#1f77b4;\" x=\"1704.160701\" xlink:href=\"#me40683c5df\" y=\"235.754489\"/>\n     <use style=\"fill:#1f77b4;stroke:#1f77b4;\" x=\"1773.25565\" xlink:href=\"#me40683c5df\" y=\"52.809034\"/>\n     <use style=\"fill:#1f77b4;stroke:#1f77b4;\" x=\"1842.3506\" xlink:href=\"#me40683c5df\" y=\"188.324186\"/>\n     <use style=\"fill:#1f77b4;stroke:#1f77b4;\" x=\"1911.445549\" xlink:href=\"#me40683c5df\" y=\"52.809034\"/>\n     <use style=\"fill:#1f77b4;stroke:#1f77b4;\" x=\"1980.540499\" xlink:href=\"#me40683c5df\" y=\"52.809034\"/>\n     <use style=\"fill:#1f77b4;stroke:#1f77b4;\" x=\"2049.635448\" xlink:href=\"#me40683c5df\" y=\"52.809034\"/>\n     <use style=\"fill:#1f77b4;stroke:#1f77b4;\" x=\"2118.730398\" xlink:href=\"#me40683c5df\" y=\"52.809034\"/>\n    </g>\n   </g>\n   <g id=\"matplotlib.axis_5\">\n    <g id=\"xtick_13\">\n     <g id=\"line2d_24\">\n      <g>\n       <use style=\"stroke:#000000;stroke-width:0.8;\" x=\"1496.875852\" xlink:href=\"#mebb9b54225\" y=\"693.118125\"/>\n      </g>\n     </g>\n     <g id=\"text_26\">\n      <!-- 0 -->\n      <g transform=\"translate(1493.694602 707.716562)scale(0.1 -0.1)\">\n       <use xlink:href=\"#DejaVuSans-48\"/>\n      </g>\n     </g>\n    </g>\n    <g id=\"xtick_14\">\n     <g id=\"line2d_25\">\n      <g>\n       <use style=\"stroke:#000000;stroke-width:0.8;\" x=\"1635.065751\" xlink:href=\"#mebb9b54225\" y=\"693.118125\"/>\n      </g>\n     </g>\n     <g id=\"text_27\">\n      <!-- 2 -->\n      <g transform=\"translate(1631.884501 707.716562)scale(0.1 -0.1)\">\n       <use xlink:href=\"#DejaVuSans-50\"/>\n      </g>\n     </g>\n    </g>\n    <g id=\"xtick_15\">\n     <g id=\"line2d_26\">\n      <g>\n       <use style=\"stroke:#000000;stroke-width:0.8;\" x=\"1773.25565\" xlink:href=\"#mebb9b54225\" y=\"693.118125\"/>\n      </g>\n     </g>\n     <g id=\"text_28\">\n      <!-- 4 -->\n      <g transform=\"translate(1770.0744 707.716562)scale(0.1 -0.1)\">\n       <use xlink:href=\"#DejaVuSans-52\"/>\n      </g>\n     </g>\n    </g>\n    <g id=\"xtick_16\">\n     <g id=\"line2d_27\">\n      <g>\n       <use style=\"stroke:#000000;stroke-width:0.8;\" x=\"1911.445549\" xlink:href=\"#mebb9b54225\" y=\"693.118125\"/>\n      </g>\n     </g>\n     <g id=\"text_29\">\n      <!-- 6 -->\n      <g transform=\"translate(1908.264299 707.716562)scale(0.1 -0.1)\">\n       <use xlink:href=\"#DejaVuSans-54\"/>\n      </g>\n     </g>\n    </g>\n    <g id=\"xtick_17\">\n     <g id=\"line2d_28\">\n      <g>\n       <use style=\"stroke:#000000;stroke-width:0.8;\" x=\"2049.635448\" xlink:href=\"#mebb9b54225\" y=\"693.118125\"/>\n      </g>\n     </g>\n     <g id=\"text_30\">\n      <!-- 8 -->\n      <g transform=\"translate(2046.454198 707.716562)scale(0.1 -0.1)\">\n       <use xlink:href=\"#DejaVuSans-56\"/>\n      </g>\n     </g>\n    </g>\n   </g>\n   <g id=\"matplotlib.axis_6\">\n    <g id=\"ytick_12\">\n     <g id=\"line2d_29\">\n      <g>\n       <use style=\"stroke:#000000;stroke-width:0.8;\" x=\"1465.783125\" xlink:href=\"#m4fa1d159ba\" y=\"662.627216\"/>\n      </g>\n     </g>\n     <g id=\"text_31\">\n      <!-- 0.0 -->\n      <g transform=\"translate(1442.88 666.426435)scale(0.1 -0.1)\">\n       <use xlink:href=\"#DejaVuSans-48\"/>\n       <use x=\"63.623047\" xlink:href=\"#DejaVuSans-46\"/>\n       <use x=\"95.410156\" xlink:href=\"#DejaVuSans-48\"/>\n      </g>\n     </g>\n    </g>\n    <g id=\"ytick_13\">\n     <g id=\"line2d_30\">\n      <g>\n       <use style=\"stroke:#000000;stroke-width:0.8;\" x=\"1465.783125\" xlink:href=\"#m4fa1d159ba\" y=\"540.66358\"/>\n      </g>\n     </g>\n     <g id=\"text_32\">\n      <!-- 0.2 -->\n      <g transform=\"translate(1442.88 544.462798)scale(0.1 -0.1)\">\n       <use xlink:href=\"#DejaVuSans-48\"/>\n       <use x=\"63.623047\" xlink:href=\"#DejaVuSans-46\"/>\n       <use x=\"95.410156\" xlink:href=\"#DejaVuSans-50\"/>\n      </g>\n     </g>\n    </g>\n    <g id=\"ytick_14\">\n     <g id=\"line2d_31\">\n      <g>\n       <use style=\"stroke:#000000;stroke-width:0.8;\" x=\"1465.783125\" xlink:href=\"#m4fa1d159ba\" y=\"418.699943\"/>\n      </g>\n     </g>\n     <g id=\"text_33\">\n      <!-- 0.4 -->\n      <g transform=\"translate(1442.88 422.499162)scale(0.1 -0.1)\">\n       <use xlink:href=\"#DejaVuSans-48\"/>\n       <use x=\"63.623047\" xlink:href=\"#DejaVuSans-46\"/>\n       <use x=\"95.410156\" xlink:href=\"#DejaVuSans-52\"/>\n      </g>\n     </g>\n    </g>\n    <g id=\"ytick_15\">\n     <g id=\"line2d_32\">\n      <g>\n       <use style=\"stroke:#000000;stroke-width:0.8;\" x=\"1465.783125\" xlink:href=\"#m4fa1d159ba\" y=\"296.736307\"/>\n      </g>\n     </g>\n     <g id=\"text_34\">\n      <!-- 0.6 -->\n      <g transform=\"translate(1442.88 300.535526)scale(0.1 -0.1)\">\n       <use xlink:href=\"#DejaVuSans-48\"/>\n       <use x=\"63.623047\" xlink:href=\"#DejaVuSans-46\"/>\n       <use x=\"95.410156\" xlink:href=\"#DejaVuSans-54\"/>\n      </g>\n     </g>\n    </g>\n    <g id=\"ytick_16\">\n     <g id=\"line2d_33\">\n      <g>\n       <use style=\"stroke:#000000;stroke-width:0.8;\" x=\"1465.783125\" xlink:href=\"#m4fa1d159ba\" y=\"174.77267\"/>\n      </g>\n     </g>\n     <g id=\"text_35\">\n      <!-- 0.8 -->\n      <g transform=\"translate(1442.88 178.571889)scale(0.1 -0.1)\">\n       <use xlink:href=\"#DejaVuSans-48\"/>\n       <use x=\"63.623047\" xlink:href=\"#DejaVuSans-46\"/>\n       <use x=\"95.410156\" xlink:href=\"#DejaVuSans-56\"/>\n      </g>\n     </g>\n    </g>\n    <g id=\"ytick_17\">\n     <g id=\"line2d_34\">\n      <g>\n       <use style=\"stroke:#000000;stroke-width:0.8;\" x=\"1465.783125\" xlink:href=\"#m4fa1d159ba\" y=\"52.809034\"/>\n      </g>\n     </g>\n     <g id=\"text_36\">\n      <!-- 1.0 -->\n      <g transform=\"translate(1442.88 56.608253)scale(0.1 -0.1)\">\n       <use xlink:href=\"#DejaVuSans-49\"/>\n       <use x=\"63.623047\" xlink:href=\"#DejaVuSans-46\"/>\n       <use x=\"95.410156\" xlink:href=\"#DejaVuSans-48\"/>\n      </g>\n     </g>\n    </g>\n   </g>\n   <g id=\"patch_13\">\n    <path d=\"M 1465.783125 693.118125 \nL 1465.783125 22.318125 \n\" style=\"fill:none;stroke:#000000;stroke-linecap:square;stroke-linejoin:miter;stroke-width:0.8;\"/>\n   </g>\n   <g id=\"patch_14\">\n    <path d=\"M 2149.823125 693.118125 \nL 2149.823125 22.318125 \n\" style=\"fill:none;stroke:#000000;stroke-linecap:square;stroke-linejoin:miter;stroke-width:0.8;\"/>\n   </g>\n   <g id=\"patch_15\">\n    <path d=\"M 1465.783125 693.118125 \nL 2149.823125 693.118125 \n\" style=\"fill:none;stroke:#000000;stroke-linecap:square;stroke-linejoin:miter;stroke-width:0.8;\"/>\n   </g>\n   <g id=\"patch_16\">\n    <path d=\"M 1465.783125 22.318125 \nL 2149.823125 22.318125 \n\" style=\"fill:none;stroke:#000000;stroke-linecap:square;stroke-linejoin:miter;stroke-width:0.8;\"/>\n   </g>\n   <g id=\"text_37\">\n    <!-- 600 -->\n    <g transform=\"translate(1796.350625 16.318125)scale(0.12 -0.12)\">\n     <use xlink:href=\"#DejaVuSans-54\"/>\n     <use x=\"63.623047\" xlink:href=\"#DejaVuSans-48\"/>\n     <use x=\"127.246094\" xlink:href=\"#DejaVuSans-48\"/>\n    </g>\n   </g>\n  </g>\n  <g id=\"axes_4\">\n   <g id=\"patch_17\">\n    <path d=\"M 2183.623125 693.118125 \nL 2867.663125 693.118125 \nL 2867.663125 22.318125 \nL 2183.623125 22.318125 \nz\n\" style=\"fill:#ffffff;\"/>\n   </g>\n   <g id=\"PathCollection_4\">\n    <g clip-path=\"url(#p706b4413b8)\">\n     <use style=\"fill:#1f77b4;stroke:#1f77b4;\" x=\"2214.715852\" xlink:href=\"#me40683c5df\" y=\"662.627216\"/>\n     <use style=\"fill:#1f77b4;stroke:#1f77b4;\" x=\"2283.810802\" xlink:href=\"#me40683c5df\" y=\"624.51358\"/>\n     <use style=\"fill:#1f77b4;stroke:#1f77b4;\" x=\"2352.905751\" xlink:href=\"#me40683c5df\" y=\"560.990852\"/>\n     <use style=\"fill:#1f77b4;stroke:#1f77b4;\" x=\"2422.000701\" xlink:href=\"#me40683c5df\" y=\"52.809034\"/>\n     <use style=\"fill:#1f77b4;stroke:#1f77b4;\" x=\"2491.09565\" xlink:href=\"#me40683c5df\" y=\"52.809034\"/>\n     <use style=\"fill:#1f77b4;stroke:#1f77b4;\" x=\"2560.1906\" xlink:href=\"#me40683c5df\" y=\"52.809034\"/>\n     <use style=\"fill:#1f77b4;stroke:#1f77b4;\" x=\"2629.285549\" xlink:href=\"#me40683c5df\" y=\"52.809034\"/>\n     <use style=\"fill:#1f77b4;stroke:#1f77b4;\" x=\"2698.380499\" xlink:href=\"#me40683c5df\" y=\"52.809034\"/>\n     <use style=\"fill:#1f77b4;stroke:#1f77b4;\" x=\"2767.475448\" xlink:href=\"#me40683c5df\" y=\"52.809034\"/>\n     <use style=\"fill:#1f77b4;stroke:#1f77b4;\" x=\"2836.570398\" xlink:href=\"#me40683c5df\" y=\"52.809034\"/>\n    </g>\n   </g>\n   <g id=\"matplotlib.axis_7\">\n    <g id=\"xtick_18\">\n     <g id=\"line2d_35\">\n      <g>\n       <use style=\"stroke:#000000;stroke-width:0.8;\" x=\"2283.810802\" xlink:href=\"#mebb9b54225\" y=\"693.118125\"/>\n      </g>\n     </g>\n     <g id=\"text_38\">\n      <!-- 2 -->\n      <g transform=\"translate(2280.629552 707.716562)scale(0.1 -0.1)\">\n       <use xlink:href=\"#DejaVuSans-50\"/>\n      </g>\n     </g>\n    </g>\n    <g id=\"xtick_19\">\n     <g id=\"line2d_36\">\n      <g>\n       <use style=\"stroke:#000000;stroke-width:0.8;\" x=\"2422.000701\" xlink:href=\"#mebb9b54225\" y=\"693.118125\"/>\n      </g>\n     </g>\n     <g id=\"text_39\">\n      <!-- 4 -->\n      <g transform=\"translate(2418.819451 707.716562)scale(0.1 -0.1)\">\n       <use xlink:href=\"#DejaVuSans-52\"/>\n      </g>\n     </g>\n    </g>\n    <g id=\"xtick_20\">\n     <g id=\"line2d_37\">\n      <g>\n       <use style=\"stroke:#000000;stroke-width:0.8;\" x=\"2560.1906\" xlink:href=\"#mebb9b54225\" y=\"693.118125\"/>\n      </g>\n     </g>\n     <g id=\"text_40\">\n      <!-- 6 -->\n      <g transform=\"translate(2557.00935 707.716562)scale(0.1 -0.1)\">\n       <use xlink:href=\"#DejaVuSans-54\"/>\n      </g>\n     </g>\n    </g>\n    <g id=\"xtick_21\">\n     <g id=\"line2d_38\">\n      <g>\n       <use style=\"stroke:#000000;stroke-width:0.8;\" x=\"2698.380499\" xlink:href=\"#mebb9b54225\" y=\"693.118125\"/>\n      </g>\n     </g>\n     <g id=\"text_41\">\n      <!-- 8 -->\n      <g transform=\"translate(2695.199249 707.716562)scale(0.1 -0.1)\">\n       <use xlink:href=\"#DejaVuSans-56\"/>\n      </g>\n     </g>\n    </g>\n    <g id=\"xtick_22\">\n     <g id=\"line2d_39\">\n      <g>\n       <use style=\"stroke:#000000;stroke-width:0.8;\" x=\"2836.570398\" xlink:href=\"#mebb9b54225\" y=\"693.118125\"/>\n      </g>\n     </g>\n     <g id=\"text_42\">\n      <!-- 10 -->\n      <g transform=\"translate(2830.207898 707.716562)scale(0.1 -0.1)\">\n       <use xlink:href=\"#DejaVuSans-49\"/>\n       <use x=\"63.623047\" xlink:href=\"#DejaVuSans-48\"/>\n      </g>\n     </g>\n    </g>\n   </g>\n   <g id=\"matplotlib.axis_8\">\n    <g id=\"ytick_18\">\n     <g id=\"line2d_40\">\n      <g>\n       <use style=\"stroke:#000000;stroke-width:0.8;\" x=\"2183.623125\" xlink:href=\"#m4fa1d159ba\" y=\"662.627216\"/>\n      </g>\n     </g>\n     <g id=\"text_43\">\n      <!-- 0.2 -->\n      <g transform=\"translate(2160.72 666.426435)scale(0.1 -0.1)\">\n       <use xlink:href=\"#DejaVuSans-48\"/>\n       <use x=\"63.623047\" xlink:href=\"#DejaVuSans-46\"/>\n       <use x=\"95.410156\" xlink:href=\"#DejaVuSans-50\"/>\n      </g>\n     </g>\n    </g>\n    <g id=\"ytick_19\">\n     <g id=\"line2d_41\">\n      <g>\n       <use style=\"stroke:#000000;stroke-width:0.8;\" x=\"2183.623125\" xlink:href=\"#m4fa1d159ba\" y=\"586.399943\"/>\n      </g>\n     </g>\n     <g id=\"text_44\">\n      <!-- 0.3 -->\n      <g transform=\"translate(2160.72 590.199162)scale(0.1 -0.1)\">\n       <defs>\n        <path d=\"M 40.578125 39.3125 \nQ 47.65625 37.796875 51.625 33 \nQ 55.609375 28.21875 55.609375 21.1875 \nQ 55.609375 10.40625 48.1875 4.484375 \nQ 40.765625 -1.421875 27.09375 -1.421875 \nQ 22.515625 -1.421875 17.65625 -0.515625 \nQ 12.796875 0.390625 7.625 2.203125 \nL 7.625 11.71875 \nQ 11.71875 9.328125 16.59375 8.109375 \nQ 21.484375 6.890625 26.8125 6.890625 \nQ 36.078125 6.890625 40.9375 10.546875 \nQ 45.796875 14.203125 45.796875 21.1875 \nQ 45.796875 27.640625 41.28125 31.265625 \nQ 36.765625 34.90625 28.71875 34.90625 \nL 20.21875 34.90625 \nL 20.21875 43.015625 \nL 29.109375 43.015625 \nQ 36.375 43.015625 40.234375 45.921875 \nQ 44.09375 48.828125 44.09375 54.296875 \nQ 44.09375 59.90625 40.109375 62.90625 \nQ 36.140625 65.921875 28.71875 65.921875 \nQ 24.65625 65.921875 20.015625 65.03125 \nQ 15.375 64.15625 9.8125 62.3125 \nL 9.8125 71.09375 \nQ 15.4375 72.65625 20.34375 73.4375 \nQ 25.25 74.21875 29.59375 74.21875 \nQ 40.828125 74.21875 47.359375 69.109375 \nQ 53.90625 64.015625 53.90625 55.328125 \nQ 53.90625 49.265625 50.4375 45.09375 \nQ 46.96875 40.921875 40.578125 39.3125 \nz\n\" id=\"DejaVuSans-51\"/>\n       </defs>\n       <use xlink:href=\"#DejaVuSans-48\"/>\n       <use x=\"63.623047\" xlink:href=\"#DejaVuSans-46\"/>\n       <use x=\"95.410156\" xlink:href=\"#DejaVuSans-51\"/>\n      </g>\n     </g>\n    </g>\n    <g id=\"ytick_20\">\n     <g id=\"line2d_42\">\n      <g>\n       <use style=\"stroke:#000000;stroke-width:0.8;\" x=\"2183.623125\" xlink:href=\"#m4fa1d159ba\" y=\"510.17267\"/>\n      </g>\n     </g>\n     <g id=\"text_45\">\n      <!-- 0.4 -->\n      <g transform=\"translate(2160.72 513.971889)scale(0.1 -0.1)\">\n       <use xlink:href=\"#DejaVuSans-48\"/>\n       <use x=\"63.623047\" xlink:href=\"#DejaVuSans-46\"/>\n       <use x=\"95.410156\" xlink:href=\"#DejaVuSans-52\"/>\n      </g>\n     </g>\n    </g>\n    <g id=\"ytick_21\">\n     <g id=\"line2d_43\">\n      <g>\n       <use style=\"stroke:#000000;stroke-width:0.8;\" x=\"2183.623125\" xlink:href=\"#m4fa1d159ba\" y=\"433.945398\"/>\n      </g>\n     </g>\n     <g id=\"text_46\">\n      <!-- 0.5 -->\n      <g transform=\"translate(2160.72 437.744616)scale(0.1 -0.1)\">\n       <defs>\n        <path d=\"M 10.796875 72.90625 \nL 49.515625 72.90625 \nL 49.515625 64.59375 \nL 19.828125 64.59375 \nL 19.828125 46.734375 \nQ 21.96875 47.46875 24.109375 47.828125 \nQ 26.265625 48.1875 28.421875 48.1875 \nQ 40.625 48.1875 47.75 41.5 \nQ 54.890625 34.8125 54.890625 23.390625 \nQ 54.890625 11.625 47.5625 5.09375 \nQ 40.234375 -1.421875 26.90625 -1.421875 \nQ 22.3125 -1.421875 17.546875 -0.640625 \nQ 12.796875 0.140625 7.71875 1.703125 \nL 7.71875 11.625 \nQ 12.109375 9.234375 16.796875 8.0625 \nQ 21.484375 6.890625 26.703125 6.890625 \nQ 35.15625 6.890625 40.078125 11.328125 \nQ 45.015625 15.765625 45.015625 23.390625 \nQ 45.015625 31 40.078125 35.4375 \nQ 35.15625 39.890625 26.703125 39.890625 \nQ 22.75 39.890625 18.8125 39.015625 \nQ 14.890625 38.140625 10.796875 36.28125 \nz\n\" id=\"DejaVuSans-53\"/>\n       </defs>\n       <use xlink:href=\"#DejaVuSans-48\"/>\n       <use x=\"63.623047\" xlink:href=\"#DejaVuSans-46\"/>\n       <use x=\"95.410156\" xlink:href=\"#DejaVuSans-53\"/>\n      </g>\n     </g>\n    </g>\n    <g id=\"ytick_22\">\n     <g id=\"line2d_44\">\n      <g>\n       <use style=\"stroke:#000000;stroke-width:0.8;\" x=\"2183.623125\" xlink:href=\"#m4fa1d159ba\" y=\"357.718125\"/>\n      </g>\n     </g>\n     <g id=\"text_47\">\n      <!-- 0.6 -->\n      <g transform=\"translate(2160.72 361.517344)scale(0.1 -0.1)\">\n       <use xlink:href=\"#DejaVuSans-48\"/>\n       <use x=\"63.623047\" xlink:href=\"#DejaVuSans-46\"/>\n       <use x=\"95.410156\" xlink:href=\"#DejaVuSans-54\"/>\n      </g>\n     </g>\n    </g>\n    <g id=\"ytick_23\">\n     <g id=\"line2d_45\">\n      <g>\n       <use style=\"stroke:#000000;stroke-width:0.8;\" x=\"2183.623125\" xlink:href=\"#m4fa1d159ba\" y=\"281.490852\"/>\n      </g>\n     </g>\n     <g id=\"text_48\">\n      <!-- 0.7 -->\n      <g transform=\"translate(2160.72 285.290071)scale(0.1 -0.1)\">\n       <defs>\n        <path d=\"M 8.203125 72.90625 \nL 55.078125 72.90625 \nL 55.078125 68.703125 \nL 28.609375 0 \nL 18.3125 0 \nL 43.21875 64.59375 \nL 8.203125 64.59375 \nz\n\" id=\"DejaVuSans-55\"/>\n       </defs>\n       <use xlink:href=\"#DejaVuSans-48\"/>\n       <use x=\"63.623047\" xlink:href=\"#DejaVuSans-46\"/>\n       <use x=\"95.410156\" xlink:href=\"#DejaVuSans-55\"/>\n      </g>\n     </g>\n    </g>\n    <g id=\"ytick_24\">\n     <g id=\"line2d_46\">\n      <g>\n       <use style=\"stroke:#000000;stroke-width:0.8;\" x=\"2183.623125\" xlink:href=\"#m4fa1d159ba\" y=\"205.26358\"/>\n      </g>\n     </g>\n     <g id=\"text_49\">\n      <!-- 0.8 -->\n      <g transform=\"translate(2160.72 209.062798)scale(0.1 -0.1)\">\n       <use xlink:href=\"#DejaVuSans-48\"/>\n       <use x=\"63.623047\" xlink:href=\"#DejaVuSans-46\"/>\n       <use x=\"95.410156\" xlink:href=\"#DejaVuSans-56\"/>\n      </g>\n     </g>\n    </g>\n    <g id=\"ytick_25\">\n     <g id=\"line2d_47\">\n      <g>\n       <use style=\"stroke:#000000;stroke-width:0.8;\" x=\"2183.623125\" xlink:href=\"#m4fa1d159ba\" y=\"129.036307\"/>\n      </g>\n     </g>\n     <g id=\"text_50\">\n      <!-- 0.9 -->\n      <g transform=\"translate(2160.72 132.835526)scale(0.1 -0.1)\">\n       <defs>\n        <path d=\"M 10.984375 1.515625 \nL 10.984375 10.5 \nQ 14.703125 8.734375 18.5 7.8125 \nQ 22.3125 6.890625 25.984375 6.890625 \nQ 35.75 6.890625 40.890625 13.453125 \nQ 46.046875 20.015625 46.78125 33.40625 \nQ 43.953125 29.203125 39.59375 26.953125 \nQ 35.25 24.703125 29.984375 24.703125 \nQ 19.046875 24.703125 12.671875 31.3125 \nQ 6.296875 37.9375 6.296875 49.421875 \nQ 6.296875 60.640625 12.9375 67.421875 \nQ 19.578125 74.21875 30.609375 74.21875 \nQ 43.265625 74.21875 49.921875 64.515625 \nQ 56.59375 54.828125 56.59375 36.375 \nQ 56.59375 19.140625 48.40625 8.859375 \nQ 40.234375 -1.421875 26.421875 -1.421875 \nQ 22.703125 -1.421875 18.890625 -0.6875 \nQ 15.09375 0.046875 10.984375 1.515625 \nz\nM 30.609375 32.421875 \nQ 37.25 32.421875 41.125 36.953125 \nQ 45.015625 41.5 45.015625 49.421875 \nQ 45.015625 57.28125 41.125 61.84375 \nQ 37.25 66.40625 30.609375 66.40625 \nQ 23.96875 66.40625 20.09375 61.84375 \nQ 16.21875 57.28125 16.21875 49.421875 \nQ 16.21875 41.5 20.09375 36.953125 \nQ 23.96875 32.421875 30.609375 32.421875 \nz\n\" id=\"DejaVuSans-57\"/>\n       </defs>\n       <use xlink:href=\"#DejaVuSans-48\"/>\n       <use x=\"63.623047\" xlink:href=\"#DejaVuSans-46\"/>\n       <use x=\"95.410156\" xlink:href=\"#DejaVuSans-57\"/>\n      </g>\n     </g>\n    </g>\n    <g id=\"ytick_26\">\n     <g id=\"line2d_48\">\n      <g>\n       <use style=\"stroke:#000000;stroke-width:0.8;\" x=\"2183.623125\" xlink:href=\"#m4fa1d159ba\" y=\"52.809034\"/>\n      </g>\n     </g>\n     <g id=\"text_51\">\n      <!-- 1.0 -->\n      <g transform=\"translate(2160.72 56.608253)scale(0.1 -0.1)\">\n       <use xlink:href=\"#DejaVuSans-49\"/>\n       <use x=\"63.623047\" xlink:href=\"#DejaVuSans-46\"/>\n       <use x=\"95.410156\" xlink:href=\"#DejaVuSans-48\"/>\n      </g>\n     </g>\n    </g>\n   </g>\n   <g id=\"patch_18\">\n    <path d=\"M 2183.623125 693.118125 \nL 2183.623125 22.318125 \n\" style=\"fill:none;stroke:#000000;stroke-linecap:square;stroke-linejoin:miter;stroke-width:0.8;\"/>\n   </g>\n   <g id=\"patch_19\">\n    <path d=\"M 2867.663125 693.118125 \nL 2867.663125 22.318125 \n\" style=\"fill:none;stroke:#000000;stroke-linecap:square;stroke-linejoin:miter;stroke-width:0.8;\"/>\n   </g>\n   <g id=\"patch_20\">\n    <path d=\"M 2183.623125 693.118125 \nL 2867.663125 693.118125 \n\" style=\"fill:none;stroke:#000000;stroke-linecap:square;stroke-linejoin:miter;stroke-width:0.8;\"/>\n   </g>\n   <g id=\"patch_21\">\n    <path d=\"M 2183.623125 22.318125 \nL 2867.663125 22.318125 \n\" style=\"fill:none;stroke:#000000;stroke-linecap:square;stroke-linejoin:miter;stroke-width:0.8;\"/>\n   </g>\n   <g id=\"text_52\">\n    <!-- 800 -->\n    <g transform=\"translate(2514.190625 16.318125)scale(0.12 -0.12)\">\n     <use xlink:href=\"#DejaVuSans-56\"/>\n     <use x=\"63.623047\" xlink:href=\"#DejaVuSans-48\"/>\n     <use x=\"127.246094\" xlink:href=\"#DejaVuSans-48\"/>\n    </g>\n   </g>\n  </g>\n  <g id=\"axes_5\">\n   <g id=\"patch_22\">\n    <path d=\"M 2901.463125 693.118125 \nL 3585.503125 693.118125 \nL 3585.503125 22.318125 \nL 2901.463125 22.318125 \nz\n\" style=\"fill:#ffffff;\"/>\n   </g>\n   <g id=\"PathCollection_5\">\n    <g clip-path=\"url(#pc12b615b1c)\">\n     <use style=\"fill:#1f77b4;stroke:#1f77b4;\" x=\"2932.555852\" xlink:href=\"#me40683c5df\" y=\"662.627216\"/>\n     <use style=\"fill:#1f77b4;stroke:#1f77b4;\" x=\"2994.741307\" xlink:href=\"#me40683c5df\" y=\"662.627216\"/>\n     <use style=\"fill:#1f77b4;stroke:#1f77b4;\" x=\"3056.926761\" xlink:href=\"#me40683c5df\" y=\"510.17267\"/>\n     <use style=\"fill:#1f77b4;stroke:#1f77b4;\" x=\"3119.112216\" xlink:href=\"#me40683c5df\" y=\"256.081761\"/>\n     <use style=\"fill:#1f77b4;stroke:#1f77b4;\" x=\"3181.29767\" xlink:href=\"#me40683c5df\" y=\"219.123084\"/>\n     <use style=\"fill:#1f77b4;stroke:#1f77b4;\" x=\"3243.483125\" xlink:href=\"#me40683c5df\" y=\"52.809034\"/>\n     <use style=\"fill:#1f77b4;stroke:#1f77b4;\" x=\"3305.66858\" xlink:href=\"#me40683c5df\" y=\"52.809034\"/>\n     <use style=\"fill:#1f77b4;stroke:#1f77b4;\" x=\"3367.854034\" xlink:href=\"#me40683c5df\" y=\"52.809034\"/>\n     <use style=\"fill:#1f77b4;stroke:#1f77b4;\" x=\"3430.039489\" xlink:href=\"#me40683c5df\" y=\"52.809034\"/>\n     <use style=\"fill:#1f77b4;stroke:#1f77b4;\" x=\"3492.224943\" xlink:href=\"#me40683c5df\" y=\"52.809034\"/>\n     <use style=\"fill:#1f77b4;stroke:#1f77b4;\" x=\"3554.410398\" xlink:href=\"#me40683c5df\" y=\"52.809034\"/>\n    </g>\n   </g>\n   <g id=\"matplotlib.axis_9\">\n    <g id=\"xtick_23\">\n     <g id=\"line2d_49\">\n      <g>\n       <use style=\"stroke:#000000;stroke-width:0.8;\" x=\"2932.555852\" xlink:href=\"#mebb9b54225\" y=\"693.118125\"/>\n      </g>\n     </g>\n     <g id=\"text_53\">\n      <!-- 0 -->\n      <g transform=\"translate(2929.374602 707.716562)scale(0.1 -0.1)\">\n       <use xlink:href=\"#DejaVuSans-48\"/>\n      </g>\n     </g>\n    </g>\n    <g id=\"xtick_24\">\n     <g id=\"line2d_50\">\n      <g>\n       <use style=\"stroke:#000000;stroke-width:0.8;\" x=\"3056.926761\" xlink:href=\"#mebb9b54225\" y=\"693.118125\"/>\n      </g>\n     </g>\n     <g id=\"text_54\">\n      <!-- 2 -->\n      <g transform=\"translate(3053.745511 707.716562)scale(0.1 -0.1)\">\n       <use xlink:href=\"#DejaVuSans-50\"/>\n      </g>\n     </g>\n    </g>\n    <g id=\"xtick_25\">\n     <g id=\"line2d_51\">\n      <g>\n       <use style=\"stroke:#000000;stroke-width:0.8;\" x=\"3181.29767\" xlink:href=\"#mebb9b54225\" y=\"693.118125\"/>\n      </g>\n     </g>\n     <g id=\"text_55\">\n      <!-- 4 -->\n      <g transform=\"translate(3178.11642 707.716562)scale(0.1 -0.1)\">\n       <use xlink:href=\"#DejaVuSans-52\"/>\n      </g>\n     </g>\n    </g>\n    <g id=\"xtick_26\">\n     <g id=\"line2d_52\">\n      <g>\n       <use style=\"stroke:#000000;stroke-width:0.8;\" x=\"3305.66858\" xlink:href=\"#mebb9b54225\" y=\"693.118125\"/>\n      </g>\n     </g>\n     <g id=\"text_56\">\n      <!-- 6 -->\n      <g transform=\"translate(3302.48733 707.716562)scale(0.1 -0.1)\">\n       <use xlink:href=\"#DejaVuSans-54\"/>\n      </g>\n     </g>\n    </g>\n    <g id=\"xtick_27\">\n     <g id=\"line2d_53\">\n      <g>\n       <use style=\"stroke:#000000;stroke-width:0.8;\" x=\"3430.039489\" xlink:href=\"#mebb9b54225\" y=\"693.118125\"/>\n      </g>\n     </g>\n     <g id=\"text_57\">\n      <!-- 8 -->\n      <g transform=\"translate(3426.858239 707.716562)scale(0.1 -0.1)\">\n       <use xlink:href=\"#DejaVuSans-56\"/>\n      </g>\n     </g>\n    </g>\n    <g id=\"xtick_28\">\n     <g id=\"line2d_54\">\n      <g>\n       <use style=\"stroke:#000000;stroke-width:0.8;\" x=\"3554.410398\" xlink:href=\"#mebb9b54225\" y=\"693.118125\"/>\n      </g>\n     </g>\n     <g id=\"text_58\">\n      <!-- 10 -->\n      <g transform=\"translate(3548.047898 707.716562)scale(0.1 -0.1)\">\n       <use xlink:href=\"#DejaVuSans-49\"/>\n       <use x=\"63.623047\" xlink:href=\"#DejaVuSans-48\"/>\n      </g>\n     </g>\n    </g>\n   </g>\n   <g id=\"matplotlib.axis_10\">\n    <g id=\"ytick_27\">\n     <g id=\"line2d_55\">\n      <g>\n       <use style=\"stroke:#000000;stroke-width:0.8;\" x=\"2901.463125\" xlink:href=\"#m4fa1d159ba\" y=\"662.627216\"/>\n      </g>\n     </g>\n     <g id=\"text_59\">\n      <!-- 0.0 -->\n      <g transform=\"translate(2878.56 666.426435)scale(0.1 -0.1)\">\n       <use xlink:href=\"#DejaVuSans-48\"/>\n       <use x=\"63.623047\" xlink:href=\"#DejaVuSans-46\"/>\n       <use x=\"95.410156\" xlink:href=\"#DejaVuSans-48\"/>\n      </g>\n     </g>\n    </g>\n    <g id=\"ytick_28\">\n     <g id=\"line2d_56\">\n      <g>\n       <use style=\"stroke:#000000;stroke-width:0.8;\" x=\"2901.463125\" xlink:href=\"#m4fa1d159ba\" y=\"540.66358\"/>\n      </g>\n     </g>\n     <g id=\"text_60\">\n      <!-- 0.2 -->\n      <g transform=\"translate(2878.56 544.462798)scale(0.1 -0.1)\">\n       <use xlink:href=\"#DejaVuSans-48\"/>\n       <use x=\"63.623047\" xlink:href=\"#DejaVuSans-46\"/>\n       <use x=\"95.410156\" xlink:href=\"#DejaVuSans-50\"/>\n      </g>\n     </g>\n    </g>\n    <g id=\"ytick_29\">\n     <g id=\"line2d_57\">\n      <g>\n       <use style=\"stroke:#000000;stroke-width:0.8;\" x=\"2901.463125\" xlink:href=\"#m4fa1d159ba\" y=\"418.699943\"/>\n      </g>\n     </g>\n     <g id=\"text_61\">\n      <!-- 0.4 -->\n      <g transform=\"translate(2878.56 422.499162)scale(0.1 -0.1)\">\n       <use xlink:href=\"#DejaVuSans-48\"/>\n       <use x=\"63.623047\" xlink:href=\"#DejaVuSans-46\"/>\n       <use x=\"95.410156\" xlink:href=\"#DejaVuSans-52\"/>\n      </g>\n     </g>\n    </g>\n    <g id=\"ytick_30\">\n     <g id=\"line2d_58\">\n      <g>\n       <use style=\"stroke:#000000;stroke-width:0.8;\" x=\"2901.463125\" xlink:href=\"#m4fa1d159ba\" y=\"296.736307\"/>\n      </g>\n     </g>\n     <g id=\"text_62\">\n      <!-- 0.6 -->\n      <g transform=\"translate(2878.56 300.535526)scale(0.1 -0.1)\">\n       <use xlink:href=\"#DejaVuSans-48\"/>\n       <use x=\"63.623047\" xlink:href=\"#DejaVuSans-46\"/>\n       <use x=\"95.410156\" xlink:href=\"#DejaVuSans-54\"/>\n      </g>\n     </g>\n    </g>\n    <g id=\"ytick_31\">\n     <g id=\"line2d_59\">\n      <g>\n       <use style=\"stroke:#000000;stroke-width:0.8;\" x=\"2901.463125\" xlink:href=\"#m4fa1d159ba\" y=\"174.77267\"/>\n      </g>\n     </g>\n     <g id=\"text_63\">\n      <!-- 0.8 -->\n      <g transform=\"translate(2878.56 178.571889)scale(0.1 -0.1)\">\n       <use xlink:href=\"#DejaVuSans-48\"/>\n       <use x=\"63.623047\" xlink:href=\"#DejaVuSans-46\"/>\n       <use x=\"95.410156\" xlink:href=\"#DejaVuSans-56\"/>\n      </g>\n     </g>\n    </g>\n    <g id=\"ytick_32\">\n     <g id=\"line2d_60\">\n      <g>\n       <use style=\"stroke:#000000;stroke-width:0.8;\" x=\"2901.463125\" xlink:href=\"#m4fa1d159ba\" y=\"52.809034\"/>\n      </g>\n     </g>\n     <g id=\"text_64\">\n      <!-- 1.0 -->\n      <g transform=\"translate(2878.56 56.608253)scale(0.1 -0.1)\">\n       <use xlink:href=\"#DejaVuSans-49\"/>\n       <use x=\"63.623047\" xlink:href=\"#DejaVuSans-46\"/>\n       <use x=\"95.410156\" xlink:href=\"#DejaVuSans-48\"/>\n      </g>\n     </g>\n    </g>\n   </g>\n   <g id=\"patch_23\">\n    <path d=\"M 2901.463125 693.118125 \nL 2901.463125 22.318125 \n\" style=\"fill:none;stroke:#000000;stroke-linecap:square;stroke-linejoin:miter;stroke-width:0.8;\"/>\n   </g>\n   <g id=\"patch_24\">\n    <path d=\"M 3585.503125 693.118125 \nL 3585.503125 22.318125 \n\" style=\"fill:none;stroke:#000000;stroke-linecap:square;stroke-linejoin:miter;stroke-width:0.8;\"/>\n   </g>\n   <g id=\"patch_25\">\n    <path d=\"M 2901.463125 693.118125 \nL 3585.503125 693.118125 \n\" style=\"fill:none;stroke:#000000;stroke-linecap:square;stroke-linejoin:miter;stroke-width:0.8;\"/>\n   </g>\n   <g id=\"patch_26\">\n    <path d=\"M 2901.463125 22.318125 \nL 3585.503125 22.318125 \n\" style=\"fill:none;stroke:#000000;stroke-linecap:square;stroke-linejoin:miter;stroke-width:0.8;\"/>\n   </g>\n   <g id=\"text_65\">\n    <!-- 1000 -->\n    <g transform=\"translate(3228.213125 16.318125)scale(0.12 -0.12)\">\n     <use xlink:href=\"#DejaVuSans-49\"/>\n     <use x=\"63.623047\" xlink:href=\"#DejaVuSans-48\"/>\n     <use x=\"127.246094\" xlink:href=\"#DejaVuSans-48\"/>\n     <use x=\"190.869141\" xlink:href=\"#DejaVuSans-48\"/>\n    </g>\n   </g>\n  </g>\n  <g id=\"axes_6\">\n   <g id=\"patch_27\">\n    <path d=\"M 30.103125 1407.718125 \nL 714.143125 1407.718125 \nL 714.143125 736.918125 \nL 30.103125 736.918125 \nz\n\" style=\"fill:#ffffff;\"/>\n   </g>\n   <g id=\"PathCollection_6\">\n    <g clip-path=\"url(#p9f715c1350)\">\n     <use style=\"fill:#1f77b4;stroke:#1f77b4;\" x=\"61.195852\" xlink:href=\"#me40683c5df\" y=\"1377.227216\"/>\n     <use style=\"fill:#1f77b4;stroke:#1f77b4;\" x=\"123.381307\" xlink:href=\"#me40683c5df\" y=\"1377.227216\"/>\n     <use style=\"fill:#1f77b4;stroke:#1f77b4;\" x=\"185.566761\" xlink:href=\"#me40683c5df\" y=\"1377.227216\"/>\n     <use style=\"fill:#1f77b4;stroke:#1f77b4;\" x=\"247.752216\" xlink:href=\"#me40683c5df\" y=\"1255.26358\"/>\n     <use style=\"fill:#1f77b4;stroke:#1f77b4;\" x=\"309.93767\" xlink:href=\"#me40683c5df\" y=\"1011.336307\"/>\n     <use style=\"fill:#1f77b4;stroke:#1f77b4;\" x=\"372.123125\" xlink:href=\"#me40683c5df\" y=\"1173.954489\"/>\n     <use style=\"fill:#1f77b4;stroke:#1f77b4;\" x=\"434.30858\" xlink:href=\"#me40683c5df\" y=\"767.409034\"/>\n     <use style=\"fill:#1f77b4;stroke:#1f77b4;\" x=\"496.494034\" xlink:href=\"#me40683c5df\" y=\"767.409034\"/>\n     <use style=\"fill:#1f77b4;stroke:#1f77b4;\" x=\"558.679489\" xlink:href=\"#me40683c5df\" y=\"767.409034\"/>\n     <use style=\"fill:#1f77b4;stroke:#1f77b4;\" x=\"620.864943\" xlink:href=\"#me40683c5df\" y=\"767.409034\"/>\n     <use style=\"fill:#1f77b4;stroke:#1f77b4;\" x=\"683.050398\" xlink:href=\"#me40683c5df\" y=\"767.409034\"/>\n    </g>\n   </g>\n   <g id=\"matplotlib.axis_11\">\n    <g id=\"xtick_29\">\n     <g id=\"line2d_61\">\n      <g>\n       <use style=\"stroke:#000000;stroke-width:0.8;\" x=\"61.195852\" xlink:href=\"#mebb9b54225\" y=\"1407.718125\"/>\n      </g>\n     </g>\n     <g id=\"text_66\">\n      <!-- 0 -->\n      <g transform=\"translate(58.014602 1422.316562)scale(0.1 -0.1)\">\n       <use xlink:href=\"#DejaVuSans-48\"/>\n      </g>\n     </g>\n    </g>\n    <g id=\"xtick_30\">\n     <g id=\"line2d_62\">\n      <g>\n       <use style=\"stroke:#000000;stroke-width:0.8;\" x=\"185.566761\" xlink:href=\"#mebb9b54225\" y=\"1407.718125\"/>\n      </g>\n     </g>\n     <g id=\"text_67\">\n      <!-- 2 -->\n      <g transform=\"translate(182.385511 1422.316562)scale(0.1 -0.1)\">\n       <use xlink:href=\"#DejaVuSans-50\"/>\n      </g>\n     </g>\n    </g>\n    <g id=\"xtick_31\">\n     <g id=\"line2d_63\">\n      <g>\n       <use style=\"stroke:#000000;stroke-width:0.8;\" x=\"309.93767\" xlink:href=\"#mebb9b54225\" y=\"1407.718125\"/>\n      </g>\n     </g>\n     <g id=\"text_68\">\n      <!-- 4 -->\n      <g transform=\"translate(306.75642 1422.316562)scale(0.1 -0.1)\">\n       <use xlink:href=\"#DejaVuSans-52\"/>\n      </g>\n     </g>\n    </g>\n    <g id=\"xtick_32\">\n     <g id=\"line2d_64\">\n      <g>\n       <use style=\"stroke:#000000;stroke-width:0.8;\" x=\"434.30858\" xlink:href=\"#mebb9b54225\" y=\"1407.718125\"/>\n      </g>\n     </g>\n     <g id=\"text_69\">\n      <!-- 6 -->\n      <g transform=\"translate(431.12733 1422.316562)scale(0.1 -0.1)\">\n       <use xlink:href=\"#DejaVuSans-54\"/>\n      </g>\n     </g>\n    </g>\n    <g id=\"xtick_33\">\n     <g id=\"line2d_65\">\n      <g>\n       <use style=\"stroke:#000000;stroke-width:0.8;\" x=\"558.679489\" xlink:href=\"#mebb9b54225\" y=\"1407.718125\"/>\n      </g>\n     </g>\n     <g id=\"text_70\">\n      <!-- 8 -->\n      <g transform=\"translate(555.498239 1422.316562)scale(0.1 -0.1)\">\n       <use xlink:href=\"#DejaVuSans-56\"/>\n      </g>\n     </g>\n    </g>\n    <g id=\"xtick_34\">\n     <g id=\"line2d_66\">\n      <g>\n       <use style=\"stroke:#000000;stroke-width:0.8;\" x=\"683.050398\" xlink:href=\"#mebb9b54225\" y=\"1407.718125\"/>\n      </g>\n     </g>\n     <g id=\"text_71\">\n      <!-- 10 -->\n      <g transform=\"translate(676.687898 1422.316562)scale(0.1 -0.1)\">\n       <use xlink:href=\"#DejaVuSans-49\"/>\n       <use x=\"63.623047\" xlink:href=\"#DejaVuSans-48\"/>\n      </g>\n     </g>\n    </g>\n   </g>\n   <g id=\"matplotlib.axis_12\">\n    <g id=\"ytick_33\">\n     <g id=\"line2d_67\">\n      <g>\n       <use style=\"stroke:#000000;stroke-width:0.8;\" x=\"30.103125\" xlink:href=\"#m4fa1d159ba\" y=\"1377.227216\"/>\n      </g>\n     </g>\n     <g id=\"text_72\">\n      <!-- 0.0 -->\n      <g transform=\"translate(7.2 1381.026435)scale(0.1 -0.1)\">\n       <use xlink:href=\"#DejaVuSans-48\"/>\n       <use x=\"63.623047\" xlink:href=\"#DejaVuSans-46\"/>\n       <use x=\"95.410156\" xlink:href=\"#DejaVuSans-48\"/>\n      </g>\n     </g>\n    </g>\n    <g id=\"ytick_34\">\n     <g id=\"line2d_68\">\n      <g>\n       <use style=\"stroke:#000000;stroke-width:0.8;\" x=\"30.103125\" xlink:href=\"#m4fa1d159ba\" y=\"1255.26358\"/>\n      </g>\n     </g>\n     <g id=\"text_73\">\n      <!-- 0.2 -->\n      <g transform=\"translate(7.2 1259.062798)scale(0.1 -0.1)\">\n       <use xlink:href=\"#DejaVuSans-48\"/>\n       <use x=\"63.623047\" xlink:href=\"#DejaVuSans-46\"/>\n       <use x=\"95.410156\" xlink:href=\"#DejaVuSans-50\"/>\n      </g>\n     </g>\n    </g>\n    <g id=\"ytick_35\">\n     <g id=\"line2d_69\">\n      <g>\n       <use style=\"stroke:#000000;stroke-width:0.8;\" x=\"30.103125\" xlink:href=\"#m4fa1d159ba\" y=\"1133.299943\"/>\n      </g>\n     </g>\n     <g id=\"text_74\">\n      <!-- 0.4 -->\n      <g transform=\"translate(7.2 1137.099162)scale(0.1 -0.1)\">\n       <use xlink:href=\"#DejaVuSans-48\"/>\n       <use x=\"63.623047\" xlink:href=\"#DejaVuSans-46\"/>\n       <use x=\"95.410156\" xlink:href=\"#DejaVuSans-52\"/>\n      </g>\n     </g>\n    </g>\n    <g id=\"ytick_36\">\n     <g id=\"line2d_70\">\n      <g>\n       <use style=\"stroke:#000000;stroke-width:0.8;\" x=\"30.103125\" xlink:href=\"#m4fa1d159ba\" y=\"1011.336307\"/>\n      </g>\n     </g>\n     <g id=\"text_75\">\n      <!-- 0.6 -->\n      <g transform=\"translate(7.2 1015.135526)scale(0.1 -0.1)\">\n       <use xlink:href=\"#DejaVuSans-48\"/>\n       <use x=\"63.623047\" xlink:href=\"#DejaVuSans-46\"/>\n       <use x=\"95.410156\" xlink:href=\"#DejaVuSans-54\"/>\n      </g>\n     </g>\n    </g>\n    <g id=\"ytick_37\">\n     <g id=\"line2d_71\">\n      <g>\n       <use style=\"stroke:#000000;stroke-width:0.8;\" x=\"30.103125\" xlink:href=\"#m4fa1d159ba\" y=\"889.37267\"/>\n      </g>\n     </g>\n     <g id=\"text_76\">\n      <!-- 0.8 -->\n      <g transform=\"translate(7.2 893.171889)scale(0.1 -0.1)\">\n       <use xlink:href=\"#DejaVuSans-48\"/>\n       <use x=\"63.623047\" xlink:href=\"#DejaVuSans-46\"/>\n       <use x=\"95.410156\" xlink:href=\"#DejaVuSans-56\"/>\n      </g>\n     </g>\n    </g>\n    <g id=\"ytick_38\">\n     <g id=\"line2d_72\">\n      <g>\n       <use style=\"stroke:#000000;stroke-width:0.8;\" x=\"30.103125\" xlink:href=\"#m4fa1d159ba\" y=\"767.409034\"/>\n      </g>\n     </g>\n     <g id=\"text_77\">\n      <!-- 1.0 -->\n      <g transform=\"translate(7.2 771.208253)scale(0.1 -0.1)\">\n       <use xlink:href=\"#DejaVuSans-49\"/>\n       <use x=\"63.623047\" xlink:href=\"#DejaVuSans-46\"/>\n       <use x=\"95.410156\" xlink:href=\"#DejaVuSans-48\"/>\n      </g>\n     </g>\n    </g>\n   </g>\n   <g id=\"patch_28\">\n    <path d=\"M 30.103125 1407.718125 \nL 30.103125 736.918125 \n\" style=\"fill:none;stroke:#000000;stroke-linecap:square;stroke-linejoin:miter;stroke-width:0.8;\"/>\n   </g>\n   <g id=\"patch_29\">\n    <path d=\"M 714.143125 1407.718125 \nL 714.143125 736.918125 \n\" style=\"fill:none;stroke:#000000;stroke-linecap:square;stroke-linejoin:miter;stroke-width:0.8;\"/>\n   </g>\n   <g id=\"patch_30\">\n    <path d=\"M 30.103125 1407.718125 \nL 714.143125 1407.718125 \n\" style=\"fill:none;stroke:#000000;stroke-linecap:square;stroke-linejoin:miter;stroke-width:0.8;\"/>\n   </g>\n   <g id=\"patch_31\">\n    <path d=\"M 30.103125 736.918125 \nL 714.143125 736.918125 \n\" style=\"fill:none;stroke:#000000;stroke-linecap:square;stroke-linejoin:miter;stroke-width:0.8;\"/>\n   </g>\n   <g id=\"text_78\">\n    <!-- 1200 -->\n    <g transform=\"translate(356.853125 730.918125)scale(0.12 -0.12)\">\n     <use xlink:href=\"#DejaVuSans-49\"/>\n     <use x=\"63.623047\" xlink:href=\"#DejaVuSans-50\"/>\n     <use x=\"127.246094\" xlink:href=\"#DejaVuSans-48\"/>\n     <use x=\"190.869141\" xlink:href=\"#DejaVuSans-48\"/>\n    </g>\n   </g>\n  </g>\n  <g id=\"axes_7\">\n   <g id=\"patch_32\">\n    <path d=\"M 747.943125 1407.718125 \nL 1431.983125 1407.718125 \nL 1431.983125 736.918125 \nL 747.943125 736.918125 \nz\n\" style=\"fill:#ffffff;\"/>\n   </g>\n   <g id=\"PathCollection_7\">\n    <g clip-path=\"url(#p5756bba147)\">\n     <use style=\"fill:#1f77b4;stroke:#1f77b4;\" x=\"779.035852\" xlink:href=\"#me40683c5df\" y=\"1377.227216\"/>\n     <use style=\"fill:#1f77b4;stroke:#1f77b4;\" x=\"848.130802\" xlink:href=\"#me40683c5df\" y=\"1377.227216\"/>\n     <use style=\"fill:#1f77b4;stroke:#1f77b4;\" x=\"917.225751\" xlink:href=\"#me40683c5df\" y=\"1028.759683\"/>\n     <use style=\"fill:#1f77b4;stroke:#1f77b4;\" x=\"986.320701\" xlink:href=\"#me40683c5df\" y=\"919.86358\"/>\n     <use style=\"fill:#1f77b4;stroke:#1f77b4;\" x=\"1055.41565\" xlink:href=\"#me40683c5df\" y=\"1072.318125\"/>\n     <use style=\"fill:#1f77b4;stroke:#1f77b4;\" x=\"1124.5106\" xlink:href=\"#me40683c5df\" y=\"1377.227216\"/>\n     <use style=\"fill:#1f77b4;stroke:#1f77b4;\" x=\"1193.605549\" xlink:href=\"#me40683c5df\" y=\"843.636307\"/>\n     <use style=\"fill:#1f77b4;stroke:#1f77b4;\" x=\"1262.700499\" xlink:href=\"#me40683c5df\" y=\"767.409034\"/>\n     <use style=\"fill:#1f77b4;stroke:#1f77b4;\" x=\"1331.795448\" xlink:href=\"#me40683c5df\" y=\"767.409034\"/>\n     <use style=\"fill:#1f77b4;stroke:#1f77b4;\" x=\"1400.890398\" xlink:href=\"#me40683c5df\" y=\"767.409034\"/>\n    </g>\n   </g>\n   <g id=\"matplotlib.axis_13\">\n    <g id=\"xtick_35\">\n     <g id=\"line2d_73\">\n      <g>\n       <use style=\"stroke:#000000;stroke-width:0.8;\" x=\"848.130802\" xlink:href=\"#mebb9b54225\" y=\"1407.718125\"/>\n      </g>\n     </g>\n     <g id=\"text_79\">\n      <!-- 2 -->\n      <g transform=\"translate(844.949552 1422.316562)scale(0.1 -0.1)\">\n       <use xlink:href=\"#DejaVuSans-50\"/>\n      </g>\n     </g>\n    </g>\n    <g id=\"xtick_36\">\n     <g id=\"line2d_74\">\n      <g>\n       <use style=\"stroke:#000000;stroke-width:0.8;\" x=\"986.320701\" xlink:href=\"#mebb9b54225\" y=\"1407.718125\"/>\n      </g>\n     </g>\n     <g id=\"text_80\">\n      <!-- 4 -->\n      <g transform=\"translate(983.139451 1422.316562)scale(0.1 -0.1)\">\n       <use xlink:href=\"#DejaVuSans-52\"/>\n      </g>\n     </g>\n    </g>\n    <g id=\"xtick_37\">\n     <g id=\"line2d_75\">\n      <g>\n       <use style=\"stroke:#000000;stroke-width:0.8;\" x=\"1124.5106\" xlink:href=\"#mebb9b54225\" y=\"1407.718125\"/>\n      </g>\n     </g>\n     <g id=\"text_81\">\n      <!-- 6 -->\n      <g transform=\"translate(1121.32935 1422.316562)scale(0.1 -0.1)\">\n       <use xlink:href=\"#DejaVuSans-54\"/>\n      </g>\n     </g>\n    </g>\n    <g id=\"xtick_38\">\n     <g id=\"line2d_76\">\n      <g>\n       <use style=\"stroke:#000000;stroke-width:0.8;\" x=\"1262.700499\" xlink:href=\"#mebb9b54225\" y=\"1407.718125\"/>\n      </g>\n     </g>\n     <g id=\"text_82\">\n      <!-- 8 -->\n      <g transform=\"translate(1259.519249 1422.316562)scale(0.1 -0.1)\">\n       <use xlink:href=\"#DejaVuSans-56\"/>\n      </g>\n     </g>\n    </g>\n    <g id=\"xtick_39\">\n     <g id=\"line2d_77\">\n      <g>\n       <use style=\"stroke:#000000;stroke-width:0.8;\" x=\"1400.890398\" xlink:href=\"#mebb9b54225\" y=\"1407.718125\"/>\n      </g>\n     </g>\n     <g id=\"text_83\">\n      <!-- 10 -->\n      <g transform=\"translate(1394.527898 1422.316562)scale(0.1 -0.1)\">\n       <use xlink:href=\"#DejaVuSans-49\"/>\n       <use x=\"63.623047\" xlink:href=\"#DejaVuSans-48\"/>\n      </g>\n     </g>\n    </g>\n   </g>\n   <g id=\"matplotlib.axis_14\">\n    <g id=\"ytick_39\">\n     <g id=\"line2d_78\">\n      <g>\n       <use style=\"stroke:#000000;stroke-width:0.8;\" x=\"747.943125\" xlink:href=\"#m4fa1d159ba\" y=\"1377.227216\"/>\n      </g>\n     </g>\n     <g id=\"text_84\">\n      <!-- 0.0 -->\n      <g transform=\"translate(725.04 1381.026435)scale(0.1 -0.1)\">\n       <use xlink:href=\"#DejaVuSans-48\"/>\n       <use x=\"63.623047\" xlink:href=\"#DejaVuSans-46\"/>\n       <use x=\"95.410156\" xlink:href=\"#DejaVuSans-48\"/>\n      </g>\n     </g>\n    </g>\n    <g id=\"ytick_40\">\n     <g id=\"line2d_79\">\n      <g>\n       <use style=\"stroke:#000000;stroke-width:0.8;\" x=\"747.943125\" xlink:href=\"#m4fa1d159ba\" y=\"1255.26358\"/>\n      </g>\n     </g>\n     <g id=\"text_85\">\n      <!-- 0.2 -->\n      <g transform=\"translate(725.04 1259.062798)scale(0.1 -0.1)\">\n       <use xlink:href=\"#DejaVuSans-48\"/>\n       <use x=\"63.623047\" xlink:href=\"#DejaVuSans-46\"/>\n       <use x=\"95.410156\" xlink:href=\"#DejaVuSans-50\"/>\n      </g>\n     </g>\n    </g>\n    <g id=\"ytick_41\">\n     <g id=\"line2d_80\">\n      <g>\n       <use style=\"stroke:#000000;stroke-width:0.8;\" x=\"747.943125\" xlink:href=\"#m4fa1d159ba\" y=\"1133.299943\"/>\n      </g>\n     </g>\n     <g id=\"text_86\">\n      <!-- 0.4 -->\n      <g transform=\"translate(725.04 1137.099162)scale(0.1 -0.1)\">\n       <use xlink:href=\"#DejaVuSans-48\"/>\n       <use x=\"63.623047\" xlink:href=\"#DejaVuSans-46\"/>\n       <use x=\"95.410156\" xlink:href=\"#DejaVuSans-52\"/>\n      </g>\n     </g>\n    </g>\n    <g id=\"ytick_42\">\n     <g id=\"line2d_81\">\n      <g>\n       <use style=\"stroke:#000000;stroke-width:0.8;\" x=\"747.943125\" xlink:href=\"#m4fa1d159ba\" y=\"1011.336307\"/>\n      </g>\n     </g>\n     <g id=\"text_87\">\n      <!-- 0.6 -->\n      <g transform=\"translate(725.04 1015.135526)scale(0.1 -0.1)\">\n       <use xlink:href=\"#DejaVuSans-48\"/>\n       <use x=\"63.623047\" xlink:href=\"#DejaVuSans-46\"/>\n       <use x=\"95.410156\" xlink:href=\"#DejaVuSans-54\"/>\n      </g>\n     </g>\n    </g>\n    <g id=\"ytick_43\">\n     <g id=\"line2d_82\">\n      <g>\n       <use style=\"stroke:#000000;stroke-width:0.8;\" x=\"747.943125\" xlink:href=\"#m4fa1d159ba\" y=\"889.37267\"/>\n      </g>\n     </g>\n     <g id=\"text_88\">\n      <!-- 0.8 -->\n      <g transform=\"translate(725.04 893.171889)scale(0.1 -0.1)\">\n       <use xlink:href=\"#DejaVuSans-48\"/>\n       <use x=\"63.623047\" xlink:href=\"#DejaVuSans-46\"/>\n       <use x=\"95.410156\" xlink:href=\"#DejaVuSans-56\"/>\n      </g>\n     </g>\n    </g>\n    <g id=\"ytick_44\">\n     <g id=\"line2d_83\">\n      <g>\n       <use style=\"stroke:#000000;stroke-width:0.8;\" x=\"747.943125\" xlink:href=\"#m4fa1d159ba\" y=\"767.409034\"/>\n      </g>\n     </g>\n     <g id=\"text_89\">\n      <!-- 1.0 -->\n      <g transform=\"translate(725.04 771.208253)scale(0.1 -0.1)\">\n       <use xlink:href=\"#DejaVuSans-49\"/>\n       <use x=\"63.623047\" xlink:href=\"#DejaVuSans-46\"/>\n       <use x=\"95.410156\" xlink:href=\"#DejaVuSans-48\"/>\n      </g>\n     </g>\n    </g>\n   </g>\n   <g id=\"patch_33\">\n    <path d=\"M 747.943125 1407.718125 \nL 747.943125 736.918125 \n\" style=\"fill:none;stroke:#000000;stroke-linecap:square;stroke-linejoin:miter;stroke-width:0.8;\"/>\n   </g>\n   <g id=\"patch_34\">\n    <path d=\"M 1431.983125 1407.718125 \nL 1431.983125 736.918125 \n\" style=\"fill:none;stroke:#000000;stroke-linecap:square;stroke-linejoin:miter;stroke-width:0.8;\"/>\n   </g>\n   <g id=\"patch_35\">\n    <path d=\"M 747.943125 1407.718125 \nL 1431.983125 1407.718125 \n\" style=\"fill:none;stroke:#000000;stroke-linecap:square;stroke-linejoin:miter;stroke-width:0.8;\"/>\n   </g>\n   <g id=\"patch_36\">\n    <path d=\"M 747.943125 736.918125 \nL 1431.983125 736.918125 \n\" style=\"fill:none;stroke:#000000;stroke-linecap:square;stroke-linejoin:miter;stroke-width:0.8;\"/>\n   </g>\n   <g id=\"text_90\">\n    <!-- 1400 -->\n    <g transform=\"translate(1074.693125 730.918125)scale(0.12 -0.12)\">\n     <use xlink:href=\"#DejaVuSans-49\"/>\n     <use x=\"63.623047\" xlink:href=\"#DejaVuSans-52\"/>\n     <use x=\"127.246094\" xlink:href=\"#DejaVuSans-48\"/>\n     <use x=\"190.869141\" xlink:href=\"#DejaVuSans-48\"/>\n    </g>\n   </g>\n  </g>\n  <g id=\"axes_8\">\n   <g id=\"patch_37\">\n    <path d=\"M 1465.783125 1407.718125 \nL 2149.823125 1407.718125 \nL 2149.823125 736.918125 \nL 1465.783125 736.918125 \nz\n\" style=\"fill:#ffffff;\"/>\n   </g>\n   <g id=\"PathCollection_8\">\n    <g clip-path=\"url(#pc9f022f5c2)\">\n     <use style=\"fill:#1f77b4;stroke:#1f77b4;\" x=\"1496.875852\" xlink:href=\"#me40683c5df\" y=\"1224.77267\"/>\n     <use style=\"fill:#1f77b4;stroke:#1f77b4;\" x=\"1559.061307\" xlink:href=\"#me40683c5df\" y=\"1072.318125\"/>\n     <use style=\"fill:#1f77b4;stroke:#1f77b4;\" x=\"1621.246761\" xlink:href=\"#me40683c5df\" y=\"1377.227216\"/>\n     <use style=\"fill:#1f77b4;stroke:#1f77b4;\" x=\"1683.432216\" xlink:href=\"#me40683c5df\" y=\"1377.227216\"/>\n     <use style=\"fill:#1f77b4;stroke:#1f77b4;\" x=\"1745.61767\" xlink:href=\"#me40683c5df\" y=\"1072.318125\"/>\n     <use style=\"fill:#1f77b4;stroke:#1f77b4;\" x=\"1807.803125\" xlink:href=\"#me40683c5df\" y=\"970.681761\"/>\n     <use style=\"fill:#1f77b4;stroke:#1f77b4;\" x=\"1869.98858\" xlink:href=\"#me40683c5df\" y=\"889.37267\"/>\n     <use style=\"fill:#1f77b4;stroke:#1f77b4;\" x=\"1932.174034\" xlink:href=\"#me40683c5df\" y=\"767.409034\"/>\n     <use style=\"fill:#1f77b4;stroke:#1f77b4;\" x=\"1994.359489\" xlink:href=\"#me40683c5df\" y=\"767.409034\"/>\n     <use style=\"fill:#1f77b4;stroke:#1f77b4;\" x=\"2056.544943\" xlink:href=\"#me40683c5df\" y=\"843.636307\"/>\n     <use style=\"fill:#1f77b4;stroke:#1f77b4;\" x=\"2118.730398\" xlink:href=\"#me40683c5df\" y=\"767.409034\"/>\n    </g>\n   </g>\n   <g id=\"matplotlib.axis_15\">\n    <g id=\"xtick_40\">\n     <g id=\"line2d_84\">\n      <g>\n       <use style=\"stroke:#000000;stroke-width:0.8;\" x=\"1496.875852\" xlink:href=\"#mebb9b54225\" y=\"1407.718125\"/>\n      </g>\n     </g>\n     <g id=\"text_91\">\n      <!-- 0 -->\n      <g transform=\"translate(1493.694602 1422.316562)scale(0.1 -0.1)\">\n       <use xlink:href=\"#DejaVuSans-48\"/>\n      </g>\n     </g>\n    </g>\n    <g id=\"xtick_41\">\n     <g id=\"line2d_85\">\n      <g>\n       <use style=\"stroke:#000000;stroke-width:0.8;\" x=\"1621.246761\" xlink:href=\"#mebb9b54225\" y=\"1407.718125\"/>\n      </g>\n     </g>\n     <g id=\"text_92\">\n      <!-- 2 -->\n      <g transform=\"translate(1618.065511 1422.316562)scale(0.1 -0.1)\">\n       <use xlink:href=\"#DejaVuSans-50\"/>\n      </g>\n     </g>\n    </g>\n    <g id=\"xtick_42\">\n     <g id=\"line2d_86\">\n      <g>\n       <use style=\"stroke:#000000;stroke-width:0.8;\" x=\"1745.61767\" xlink:href=\"#mebb9b54225\" y=\"1407.718125\"/>\n      </g>\n     </g>\n     <g id=\"text_93\">\n      <!-- 4 -->\n      <g transform=\"translate(1742.43642 1422.316562)scale(0.1 -0.1)\">\n       <use xlink:href=\"#DejaVuSans-52\"/>\n      </g>\n     </g>\n    </g>\n    <g id=\"xtick_43\">\n     <g id=\"line2d_87\">\n      <g>\n       <use style=\"stroke:#000000;stroke-width:0.8;\" x=\"1869.98858\" xlink:href=\"#mebb9b54225\" y=\"1407.718125\"/>\n      </g>\n     </g>\n     <g id=\"text_94\">\n      <!-- 6 -->\n      <g transform=\"translate(1866.80733 1422.316562)scale(0.1 -0.1)\">\n       <use xlink:href=\"#DejaVuSans-54\"/>\n      </g>\n     </g>\n    </g>\n    <g id=\"xtick_44\">\n     <g id=\"line2d_88\">\n      <g>\n       <use style=\"stroke:#000000;stroke-width:0.8;\" x=\"1994.359489\" xlink:href=\"#mebb9b54225\" y=\"1407.718125\"/>\n      </g>\n     </g>\n     <g id=\"text_95\">\n      <!-- 8 -->\n      <g transform=\"translate(1991.178239 1422.316562)scale(0.1 -0.1)\">\n       <use xlink:href=\"#DejaVuSans-56\"/>\n      </g>\n     </g>\n    </g>\n    <g id=\"xtick_45\">\n     <g id=\"line2d_89\">\n      <g>\n       <use style=\"stroke:#000000;stroke-width:0.8;\" x=\"2118.730398\" xlink:href=\"#mebb9b54225\" y=\"1407.718125\"/>\n      </g>\n     </g>\n     <g id=\"text_96\">\n      <!-- 10 -->\n      <g transform=\"translate(2112.367898 1422.316562)scale(0.1 -0.1)\">\n       <use xlink:href=\"#DejaVuSans-49\"/>\n       <use x=\"63.623047\" xlink:href=\"#DejaVuSans-48\"/>\n      </g>\n     </g>\n    </g>\n   </g>\n   <g id=\"matplotlib.axis_16\">\n    <g id=\"ytick_45\">\n     <g id=\"line2d_90\">\n      <g>\n       <use style=\"stroke:#000000;stroke-width:0.8;\" x=\"1465.783125\" xlink:href=\"#m4fa1d159ba\" y=\"1377.227216\"/>\n      </g>\n     </g>\n     <g id=\"text_97\">\n      <!-- 0.0 -->\n      <g transform=\"translate(1442.88 1381.026435)scale(0.1 -0.1)\">\n       <use xlink:href=\"#DejaVuSans-48\"/>\n       <use x=\"63.623047\" xlink:href=\"#DejaVuSans-46\"/>\n       <use x=\"95.410156\" xlink:href=\"#DejaVuSans-48\"/>\n      </g>\n     </g>\n    </g>\n    <g id=\"ytick_46\">\n     <g id=\"line2d_91\">\n      <g>\n       <use style=\"stroke:#000000;stroke-width:0.8;\" x=\"1465.783125\" xlink:href=\"#m4fa1d159ba\" y=\"1255.26358\"/>\n      </g>\n     </g>\n     <g id=\"text_98\">\n      <!-- 0.2 -->\n      <g transform=\"translate(1442.88 1259.062798)scale(0.1 -0.1)\">\n       <use xlink:href=\"#DejaVuSans-48\"/>\n       <use x=\"63.623047\" xlink:href=\"#DejaVuSans-46\"/>\n       <use x=\"95.410156\" xlink:href=\"#DejaVuSans-50\"/>\n      </g>\n     </g>\n    </g>\n    <g id=\"ytick_47\">\n     <g id=\"line2d_92\">\n      <g>\n       <use style=\"stroke:#000000;stroke-width:0.8;\" x=\"1465.783125\" xlink:href=\"#m4fa1d159ba\" y=\"1133.299943\"/>\n      </g>\n     </g>\n     <g id=\"text_99\">\n      <!-- 0.4 -->\n      <g transform=\"translate(1442.88 1137.099162)scale(0.1 -0.1)\">\n       <use xlink:href=\"#DejaVuSans-48\"/>\n       <use x=\"63.623047\" xlink:href=\"#DejaVuSans-46\"/>\n       <use x=\"95.410156\" xlink:href=\"#DejaVuSans-52\"/>\n      </g>\n     </g>\n    </g>\n    <g id=\"ytick_48\">\n     <g id=\"line2d_93\">\n      <g>\n       <use style=\"stroke:#000000;stroke-width:0.8;\" x=\"1465.783125\" xlink:href=\"#m4fa1d159ba\" y=\"1011.336307\"/>\n      </g>\n     </g>\n     <g id=\"text_100\">\n      <!-- 0.6 -->\n      <g transform=\"translate(1442.88 1015.135526)scale(0.1 -0.1)\">\n       <use xlink:href=\"#DejaVuSans-48\"/>\n       <use x=\"63.623047\" xlink:href=\"#DejaVuSans-46\"/>\n       <use x=\"95.410156\" xlink:href=\"#DejaVuSans-54\"/>\n      </g>\n     </g>\n    </g>\n    <g id=\"ytick_49\">\n     <g id=\"line2d_94\">\n      <g>\n       <use style=\"stroke:#000000;stroke-width:0.8;\" x=\"1465.783125\" xlink:href=\"#m4fa1d159ba\" y=\"889.37267\"/>\n      </g>\n     </g>\n     <g id=\"text_101\">\n      <!-- 0.8 -->\n      <g transform=\"translate(1442.88 893.171889)scale(0.1 -0.1)\">\n       <use xlink:href=\"#DejaVuSans-48\"/>\n       <use x=\"63.623047\" xlink:href=\"#DejaVuSans-46\"/>\n       <use x=\"95.410156\" xlink:href=\"#DejaVuSans-56\"/>\n      </g>\n     </g>\n    </g>\n    <g id=\"ytick_50\">\n     <g id=\"line2d_95\">\n      <g>\n       <use style=\"stroke:#000000;stroke-width:0.8;\" x=\"1465.783125\" xlink:href=\"#m4fa1d159ba\" y=\"767.409034\"/>\n      </g>\n     </g>\n     <g id=\"text_102\">\n      <!-- 1.0 -->\n      <g transform=\"translate(1442.88 771.208253)scale(0.1 -0.1)\">\n       <use xlink:href=\"#DejaVuSans-49\"/>\n       <use x=\"63.623047\" xlink:href=\"#DejaVuSans-46\"/>\n       <use x=\"95.410156\" xlink:href=\"#DejaVuSans-48\"/>\n      </g>\n     </g>\n    </g>\n   </g>\n   <g id=\"patch_38\">\n    <path d=\"M 1465.783125 1407.718125 \nL 1465.783125 736.918125 \n\" style=\"fill:none;stroke:#000000;stroke-linecap:square;stroke-linejoin:miter;stroke-width:0.8;\"/>\n   </g>\n   <g id=\"patch_39\">\n    <path d=\"M 2149.823125 1407.718125 \nL 2149.823125 736.918125 \n\" style=\"fill:none;stroke:#000000;stroke-linecap:square;stroke-linejoin:miter;stroke-width:0.8;\"/>\n   </g>\n   <g id=\"patch_40\">\n    <path d=\"M 1465.783125 1407.718125 \nL 2149.823125 1407.718125 \n\" style=\"fill:none;stroke:#000000;stroke-linecap:square;stroke-linejoin:miter;stroke-width:0.8;\"/>\n   </g>\n   <g id=\"patch_41\">\n    <path d=\"M 1465.783125 736.918125 \nL 2149.823125 736.918125 \n\" style=\"fill:none;stroke:#000000;stroke-linecap:square;stroke-linejoin:miter;stroke-width:0.8;\"/>\n   </g>\n   <g id=\"text_103\">\n    <!-- 1600 -->\n    <g transform=\"translate(1792.533125 730.918125)scale(0.12 -0.12)\">\n     <use xlink:href=\"#DejaVuSans-49\"/>\n     <use x=\"63.623047\" xlink:href=\"#DejaVuSans-54\"/>\n     <use x=\"127.246094\" xlink:href=\"#DejaVuSans-48\"/>\n     <use x=\"190.869141\" xlink:href=\"#DejaVuSans-48\"/>\n    </g>\n   </g>\n  </g>\n  <g id=\"axes_9\">\n   <g id=\"patch_42\">\n    <path d=\"M 2183.623125 1407.718125 \nL 2867.663125 1407.718125 \nL 2867.663125 736.918125 \nL 2183.623125 736.918125 \nz\n\" style=\"fill:#ffffff;\"/>\n   </g>\n   <g id=\"PathCollection_9\">\n    <g clip-path=\"url(#pa92863741a)\">\n     <use style=\"fill:#1f77b4;stroke:#1f77b4;\" x=\"2214.715852\" xlink:href=\"#me40683c5df\" y=\"1377.227216\"/>\n     <use style=\"fill:#1f77b4;stroke:#1f77b4;\" x=\"2276.901307\" xlink:href=\"#me40683c5df\" y=\"1377.227216\"/>\n     <use style=\"fill:#1f77b4;stroke:#1f77b4;\" x=\"2339.086761\" xlink:href=\"#me40683c5df\" y=\"1133.299943\"/>\n     <use style=\"fill:#1f77b4;stroke:#1f77b4;\" x=\"2401.272216\" xlink:href=\"#me40683c5df\" y=\"1275.590852\"/>\n     <use style=\"fill:#1f77b4;stroke:#1f77b4;\" x=\"2463.45767\" xlink:href=\"#me40683c5df\" y=\"1377.227216\"/>\n     <use style=\"fill:#1f77b4;stroke:#1f77b4;\" x=\"2525.643125\" xlink:href=\"#me40683c5df\" y=\"1155.47515\"/>\n     <use style=\"fill:#1f77b4;stroke:#1f77b4;\" x=\"2587.82858\" xlink:href=\"#me40683c5df\" y=\"1255.26358\"/>\n     <use style=\"fill:#1f77b4;stroke:#1f77b4;\" x=\"2650.014034\" xlink:href=\"#me40683c5df\" y=\"1011.336307\"/>\n     <use style=\"fill:#1f77b4;stroke:#1f77b4;\" x=\"2712.199489\" xlink:href=\"#me40683c5df\" y=\"889.37267\"/>\n     <use style=\"fill:#1f77b4;stroke:#1f77b4;\" x=\"2774.384943\" xlink:href=\"#me40683c5df\" y=\"767.409034\"/>\n     <use style=\"fill:#1f77b4;stroke:#1f77b4;\" x=\"2836.570398\" xlink:href=\"#me40683c5df\" y=\"767.409034\"/>\n    </g>\n   </g>\n   <g id=\"matplotlib.axis_17\">\n    <g id=\"xtick_46\">\n     <g id=\"line2d_96\">\n      <g>\n       <use style=\"stroke:#000000;stroke-width:0.8;\" x=\"2214.715852\" xlink:href=\"#mebb9b54225\" y=\"1407.718125\"/>\n      </g>\n     </g>\n     <g id=\"text_104\">\n      <!-- 0 -->\n      <g transform=\"translate(2211.534602 1422.316562)scale(0.1 -0.1)\">\n       <use xlink:href=\"#DejaVuSans-48\"/>\n      </g>\n     </g>\n    </g>\n    <g id=\"xtick_47\">\n     <g id=\"line2d_97\">\n      <g>\n       <use style=\"stroke:#000000;stroke-width:0.8;\" x=\"2339.086761\" xlink:href=\"#mebb9b54225\" y=\"1407.718125\"/>\n      </g>\n     </g>\n     <g id=\"text_105\">\n      <!-- 2 -->\n      <g transform=\"translate(2335.905511 1422.316562)scale(0.1 -0.1)\">\n       <use xlink:href=\"#DejaVuSans-50\"/>\n      </g>\n     </g>\n    </g>\n    <g id=\"xtick_48\">\n     <g id=\"line2d_98\">\n      <g>\n       <use style=\"stroke:#000000;stroke-width:0.8;\" x=\"2463.45767\" xlink:href=\"#mebb9b54225\" y=\"1407.718125\"/>\n      </g>\n     </g>\n     <g id=\"text_106\">\n      <!-- 4 -->\n      <g transform=\"translate(2460.27642 1422.316562)scale(0.1 -0.1)\">\n       <use xlink:href=\"#DejaVuSans-52\"/>\n      </g>\n     </g>\n    </g>\n    <g id=\"xtick_49\">\n     <g id=\"line2d_99\">\n      <g>\n       <use style=\"stroke:#000000;stroke-width:0.8;\" x=\"2587.82858\" xlink:href=\"#mebb9b54225\" y=\"1407.718125\"/>\n      </g>\n     </g>\n     <g id=\"text_107\">\n      <!-- 6 -->\n      <g transform=\"translate(2584.64733 1422.316562)scale(0.1 -0.1)\">\n       <use xlink:href=\"#DejaVuSans-54\"/>\n      </g>\n     </g>\n    </g>\n    <g id=\"xtick_50\">\n     <g id=\"line2d_100\">\n      <g>\n       <use style=\"stroke:#000000;stroke-width:0.8;\" x=\"2712.199489\" xlink:href=\"#mebb9b54225\" y=\"1407.718125\"/>\n      </g>\n     </g>\n     <g id=\"text_108\">\n      <!-- 8 -->\n      <g transform=\"translate(2709.018239 1422.316562)scale(0.1 -0.1)\">\n       <use xlink:href=\"#DejaVuSans-56\"/>\n      </g>\n     </g>\n    </g>\n    <g id=\"xtick_51\">\n     <g id=\"line2d_101\">\n      <g>\n       <use style=\"stroke:#000000;stroke-width:0.8;\" x=\"2836.570398\" xlink:href=\"#mebb9b54225\" y=\"1407.718125\"/>\n      </g>\n     </g>\n     <g id=\"text_109\">\n      <!-- 10 -->\n      <g transform=\"translate(2830.207898 1422.316562)scale(0.1 -0.1)\">\n       <use xlink:href=\"#DejaVuSans-49\"/>\n       <use x=\"63.623047\" xlink:href=\"#DejaVuSans-48\"/>\n      </g>\n     </g>\n    </g>\n   </g>\n   <g id=\"matplotlib.axis_18\">\n    <g id=\"ytick_51\">\n     <g id=\"line2d_102\">\n      <g>\n       <use style=\"stroke:#000000;stroke-width:0.8;\" x=\"2183.623125\" xlink:href=\"#m4fa1d159ba\" y=\"1377.227216\"/>\n      </g>\n     </g>\n     <g id=\"text_110\">\n      <!-- 0.0 -->\n      <g transform=\"translate(2160.72 1381.026435)scale(0.1 -0.1)\">\n       <use xlink:href=\"#DejaVuSans-48\"/>\n       <use x=\"63.623047\" xlink:href=\"#DejaVuSans-46\"/>\n       <use x=\"95.410156\" xlink:href=\"#DejaVuSans-48\"/>\n      </g>\n     </g>\n    </g>\n    <g id=\"ytick_52\">\n     <g id=\"line2d_103\">\n      <g>\n       <use style=\"stroke:#000000;stroke-width:0.8;\" x=\"2183.623125\" xlink:href=\"#m4fa1d159ba\" y=\"1255.26358\"/>\n      </g>\n     </g>\n     <g id=\"text_111\">\n      <!-- 0.2 -->\n      <g transform=\"translate(2160.72 1259.062798)scale(0.1 -0.1)\">\n       <use xlink:href=\"#DejaVuSans-48\"/>\n       <use x=\"63.623047\" xlink:href=\"#DejaVuSans-46\"/>\n       <use x=\"95.410156\" xlink:href=\"#DejaVuSans-50\"/>\n      </g>\n     </g>\n    </g>\n    <g id=\"ytick_53\">\n     <g id=\"line2d_104\">\n      <g>\n       <use style=\"stroke:#000000;stroke-width:0.8;\" x=\"2183.623125\" xlink:href=\"#m4fa1d159ba\" y=\"1133.299943\"/>\n      </g>\n     </g>\n     <g id=\"text_112\">\n      <!-- 0.4 -->\n      <g transform=\"translate(2160.72 1137.099162)scale(0.1 -0.1)\">\n       <use xlink:href=\"#DejaVuSans-48\"/>\n       <use x=\"63.623047\" xlink:href=\"#DejaVuSans-46\"/>\n       <use x=\"95.410156\" xlink:href=\"#DejaVuSans-52\"/>\n      </g>\n     </g>\n    </g>\n    <g id=\"ytick_54\">\n     <g id=\"line2d_105\">\n      <g>\n       <use style=\"stroke:#000000;stroke-width:0.8;\" x=\"2183.623125\" xlink:href=\"#m4fa1d159ba\" y=\"1011.336307\"/>\n      </g>\n     </g>\n     <g id=\"text_113\">\n      <!-- 0.6 -->\n      <g transform=\"translate(2160.72 1015.135526)scale(0.1 -0.1)\">\n       <use xlink:href=\"#DejaVuSans-48\"/>\n       <use x=\"63.623047\" xlink:href=\"#DejaVuSans-46\"/>\n       <use x=\"95.410156\" xlink:href=\"#DejaVuSans-54\"/>\n      </g>\n     </g>\n    </g>\n    <g id=\"ytick_55\">\n     <g id=\"line2d_106\">\n      <g>\n       <use style=\"stroke:#000000;stroke-width:0.8;\" x=\"2183.623125\" xlink:href=\"#m4fa1d159ba\" y=\"889.37267\"/>\n      </g>\n     </g>\n     <g id=\"text_114\">\n      <!-- 0.8 -->\n      <g transform=\"translate(2160.72 893.171889)scale(0.1 -0.1)\">\n       <use xlink:href=\"#DejaVuSans-48\"/>\n       <use x=\"63.623047\" xlink:href=\"#DejaVuSans-46\"/>\n       <use x=\"95.410156\" xlink:href=\"#DejaVuSans-56\"/>\n      </g>\n     </g>\n    </g>\n    <g id=\"ytick_56\">\n     <g id=\"line2d_107\">\n      <g>\n       <use style=\"stroke:#000000;stroke-width:0.8;\" x=\"2183.623125\" xlink:href=\"#m4fa1d159ba\" y=\"767.409034\"/>\n      </g>\n     </g>\n     <g id=\"text_115\">\n      <!-- 1.0 -->\n      <g transform=\"translate(2160.72 771.208253)scale(0.1 -0.1)\">\n       <use xlink:href=\"#DejaVuSans-49\"/>\n       <use x=\"63.623047\" xlink:href=\"#DejaVuSans-46\"/>\n       <use x=\"95.410156\" xlink:href=\"#DejaVuSans-48\"/>\n      </g>\n     </g>\n    </g>\n   </g>\n   <g id=\"patch_43\">\n    <path d=\"M 2183.623125 1407.718125 \nL 2183.623125 736.918125 \n\" style=\"fill:none;stroke:#000000;stroke-linecap:square;stroke-linejoin:miter;stroke-width:0.8;\"/>\n   </g>\n   <g id=\"patch_44\">\n    <path d=\"M 2867.663125 1407.718125 \nL 2867.663125 736.918125 \n\" style=\"fill:none;stroke:#000000;stroke-linecap:square;stroke-linejoin:miter;stroke-width:0.8;\"/>\n   </g>\n   <g id=\"patch_45\">\n    <path d=\"M 2183.623125 1407.718125 \nL 2867.663125 1407.718125 \n\" style=\"fill:none;stroke:#000000;stroke-linecap:square;stroke-linejoin:miter;stroke-width:0.8;\"/>\n   </g>\n   <g id=\"patch_46\">\n    <path d=\"M 2183.623125 736.918125 \nL 2867.663125 736.918125 \n\" style=\"fill:none;stroke:#000000;stroke-linecap:square;stroke-linejoin:miter;stroke-width:0.8;\"/>\n   </g>\n   <g id=\"text_116\">\n    <!-- 1800 -->\n    <g transform=\"translate(2510.373125 730.918125)scale(0.12 -0.12)\">\n     <use xlink:href=\"#DejaVuSans-49\"/>\n     <use x=\"63.623047\" xlink:href=\"#DejaVuSans-56\"/>\n     <use x=\"127.246094\" xlink:href=\"#DejaVuSans-48\"/>\n     <use x=\"190.869141\" xlink:href=\"#DejaVuSans-48\"/>\n    </g>\n   </g>\n  </g>\n  <g id=\"axes_10\">\n   <g id=\"patch_47\">\n    <path d=\"M 2901.463125 1407.718125 \nL 3585.503125 1407.718125 \nL 3585.503125 736.918125 \nL 2901.463125 736.918125 \nz\n\" style=\"fill:#ffffff;\"/>\n   </g>\n   <g id=\"PathCollection_10\">\n    <g clip-path=\"url(#p35115c976f)\">\n     <use style=\"fill:#1f77b4;stroke:#1f77b4;\" x=\"2932.555852\" xlink:href=\"#me40683c5df\" y=\"1377.227216\"/>\n     <use style=\"fill:#1f77b4;stroke:#1f77b4;\" x=\"2994.741307\" xlink:href=\"#me40683c5df\" y=\"1377.227216\"/>\n     <use style=\"fill:#1f77b4;stroke:#1f77b4;\" x=\"3056.926761\" xlink:href=\"#me40683c5df\" y=\"1214.609034\"/>\n     <use style=\"fill:#1f77b4;stroke:#1f77b4;\" x=\"3119.112216\" xlink:href=\"#me40683c5df\" y=\"1377.227216\"/>\n     <use style=\"fill:#1f77b4;stroke:#1f77b4;\" x=\"3181.29767\" xlink:href=\"#me40683c5df\" y=\"1214.609034\"/>\n     <use style=\"fill:#1f77b4;stroke:#1f77b4;\" x=\"3243.483125\" xlink:href=\"#me40683c5df\" y=\"1106.196913\"/>\n     <use style=\"fill:#1f77b4;stroke:#1f77b4;\" x=\"3305.66858\" xlink:href=\"#me40683c5df\" y=\"1377.227216\"/>\n     <use style=\"fill:#1f77b4;stroke:#1f77b4;\" x=\"3367.854034\" xlink:href=\"#me40683c5df\" y=\"835.16661\"/>\n     <use style=\"fill:#1f77b4;stroke:#1f77b4;\" x=\"3430.039489\" xlink:href=\"#me40683c5df\" y=\"767.409034\"/>\n     <use style=\"fill:#1f77b4;stroke:#1f77b4;\" x=\"3492.224943\" xlink:href=\"#me40683c5df\" y=\"970.681761\"/>\n     <use style=\"fill:#1f77b4;stroke:#1f77b4;\" x=\"3554.410398\" xlink:href=\"#me40683c5df\" y=\"1377.227216\"/>\n    </g>\n   </g>\n   <g id=\"matplotlib.axis_19\">\n    <g id=\"xtick_52\">\n     <g id=\"line2d_108\">\n      <g>\n       <use style=\"stroke:#000000;stroke-width:0.8;\" x=\"2932.555852\" xlink:href=\"#mebb9b54225\" y=\"1407.718125\"/>\n      </g>\n     </g>\n     <g id=\"text_117\">\n      <!-- 0 -->\n      <g transform=\"translate(2929.374602 1422.316562)scale(0.1 -0.1)\">\n       <use xlink:href=\"#DejaVuSans-48\"/>\n      </g>\n     </g>\n    </g>\n    <g id=\"xtick_53\">\n     <g id=\"line2d_109\">\n      <g>\n       <use style=\"stroke:#000000;stroke-width:0.8;\" x=\"3056.926761\" xlink:href=\"#mebb9b54225\" y=\"1407.718125\"/>\n      </g>\n     </g>\n     <g id=\"text_118\">\n      <!-- 2 -->\n      <g transform=\"translate(3053.745511 1422.316562)scale(0.1 -0.1)\">\n       <use xlink:href=\"#DejaVuSans-50\"/>\n      </g>\n     </g>\n    </g>\n    <g id=\"xtick_54\">\n     <g id=\"line2d_110\">\n      <g>\n       <use style=\"stroke:#000000;stroke-width:0.8;\" x=\"3181.29767\" xlink:href=\"#mebb9b54225\" y=\"1407.718125\"/>\n      </g>\n     </g>\n     <g id=\"text_119\">\n      <!-- 4 -->\n      <g transform=\"translate(3178.11642 1422.316562)scale(0.1 -0.1)\">\n       <use xlink:href=\"#DejaVuSans-52\"/>\n      </g>\n     </g>\n    </g>\n    <g id=\"xtick_55\">\n     <g id=\"line2d_111\">\n      <g>\n       <use style=\"stroke:#000000;stroke-width:0.8;\" x=\"3305.66858\" xlink:href=\"#mebb9b54225\" y=\"1407.718125\"/>\n      </g>\n     </g>\n     <g id=\"text_120\">\n      <!-- 6 -->\n      <g transform=\"translate(3302.48733 1422.316562)scale(0.1 -0.1)\">\n       <use xlink:href=\"#DejaVuSans-54\"/>\n      </g>\n     </g>\n    </g>\n    <g id=\"xtick_56\">\n     <g id=\"line2d_112\">\n      <g>\n       <use style=\"stroke:#000000;stroke-width:0.8;\" x=\"3430.039489\" xlink:href=\"#mebb9b54225\" y=\"1407.718125\"/>\n      </g>\n     </g>\n     <g id=\"text_121\">\n      <!-- 8 -->\n      <g transform=\"translate(3426.858239 1422.316562)scale(0.1 -0.1)\">\n       <use xlink:href=\"#DejaVuSans-56\"/>\n      </g>\n     </g>\n    </g>\n    <g id=\"xtick_57\">\n     <g id=\"line2d_113\">\n      <g>\n       <use style=\"stroke:#000000;stroke-width:0.8;\" x=\"3554.410398\" xlink:href=\"#mebb9b54225\" y=\"1407.718125\"/>\n      </g>\n     </g>\n     <g id=\"text_122\">\n      <!-- 10 -->\n      <g transform=\"translate(3548.047898 1422.316562)scale(0.1 -0.1)\">\n       <use xlink:href=\"#DejaVuSans-49\"/>\n       <use x=\"63.623047\" xlink:href=\"#DejaVuSans-48\"/>\n      </g>\n     </g>\n    </g>\n   </g>\n   <g id=\"matplotlib.axis_20\">\n    <g id=\"ytick_57\">\n     <g id=\"line2d_114\">\n      <g>\n       <use style=\"stroke:#000000;stroke-width:0.8;\" x=\"2901.463125\" xlink:href=\"#m4fa1d159ba\" y=\"1377.227216\"/>\n      </g>\n     </g>\n     <g id=\"text_123\">\n      <!-- 0.0 -->\n      <g transform=\"translate(2878.56 1381.026435)scale(0.1 -0.1)\">\n       <use xlink:href=\"#DejaVuSans-48\"/>\n       <use x=\"63.623047\" xlink:href=\"#DejaVuSans-46\"/>\n       <use x=\"95.410156\" xlink:href=\"#DejaVuSans-48\"/>\n      </g>\n     </g>\n    </g>\n    <g id=\"ytick_58\">\n     <g id=\"line2d_115\">\n      <g>\n       <use style=\"stroke:#000000;stroke-width:0.8;\" x=\"2901.463125\" xlink:href=\"#m4fa1d159ba\" y=\"1295.918125\"/>\n      </g>\n     </g>\n     <g id=\"text_124\">\n      <!-- 0.1 -->\n      <g transform=\"translate(2878.56 1299.717344)scale(0.1 -0.1)\">\n       <use xlink:href=\"#DejaVuSans-48\"/>\n       <use x=\"63.623047\" xlink:href=\"#DejaVuSans-46\"/>\n       <use x=\"95.410156\" xlink:href=\"#DejaVuSans-49\"/>\n      </g>\n     </g>\n    </g>\n    <g id=\"ytick_59\">\n     <g id=\"line2d_116\">\n      <g>\n       <use style=\"stroke:#000000;stroke-width:0.8;\" x=\"2901.463125\" xlink:href=\"#m4fa1d159ba\" y=\"1214.609034\"/>\n      </g>\n     </g>\n     <g id=\"text_125\">\n      <!-- 0.2 -->\n      <g transform=\"translate(2878.56 1218.408253)scale(0.1 -0.1)\">\n       <use xlink:href=\"#DejaVuSans-48\"/>\n       <use x=\"63.623047\" xlink:href=\"#DejaVuSans-46\"/>\n       <use x=\"95.410156\" xlink:href=\"#DejaVuSans-50\"/>\n      </g>\n     </g>\n    </g>\n    <g id=\"ytick_60\">\n     <g id=\"line2d_117\">\n      <g>\n       <use style=\"stroke:#000000;stroke-width:0.8;\" x=\"2901.463125\" xlink:href=\"#m4fa1d159ba\" y=\"1133.299943\"/>\n      </g>\n     </g>\n     <g id=\"text_126\">\n      <!-- 0.3 -->\n      <g transform=\"translate(2878.56 1137.099162)scale(0.1 -0.1)\">\n       <use xlink:href=\"#DejaVuSans-48\"/>\n       <use x=\"63.623047\" xlink:href=\"#DejaVuSans-46\"/>\n       <use x=\"95.410156\" xlink:href=\"#DejaVuSans-51\"/>\n      </g>\n     </g>\n    </g>\n    <g id=\"ytick_61\">\n     <g id=\"line2d_118\">\n      <g>\n       <use style=\"stroke:#000000;stroke-width:0.8;\" x=\"2901.463125\" xlink:href=\"#m4fa1d159ba\" y=\"1051.990852\"/>\n      </g>\n     </g>\n     <g id=\"text_127\">\n      <!-- 0.4 -->\n      <g transform=\"translate(2878.56 1055.790071)scale(0.1 -0.1)\">\n       <use xlink:href=\"#DejaVuSans-48\"/>\n       <use x=\"63.623047\" xlink:href=\"#DejaVuSans-46\"/>\n       <use x=\"95.410156\" xlink:href=\"#DejaVuSans-52\"/>\n      </g>\n     </g>\n    </g>\n    <g id=\"ytick_62\">\n     <g id=\"line2d_119\">\n      <g>\n       <use style=\"stroke:#000000;stroke-width:0.8;\" x=\"2901.463125\" xlink:href=\"#m4fa1d159ba\" y=\"970.681761\"/>\n      </g>\n     </g>\n     <g id=\"text_128\">\n      <!-- 0.5 -->\n      <g transform=\"translate(2878.56 974.48098)scale(0.1 -0.1)\">\n       <use xlink:href=\"#DejaVuSans-48\"/>\n       <use x=\"63.623047\" xlink:href=\"#DejaVuSans-46\"/>\n       <use x=\"95.410156\" xlink:href=\"#DejaVuSans-53\"/>\n      </g>\n     </g>\n    </g>\n    <g id=\"ytick_63\">\n     <g id=\"line2d_120\">\n      <g>\n       <use style=\"stroke:#000000;stroke-width:0.8;\" x=\"2901.463125\" xlink:href=\"#m4fa1d159ba\" y=\"889.37267\"/>\n      </g>\n     </g>\n     <g id=\"text_129\">\n      <!-- 0.6 -->\n      <g transform=\"translate(2878.56 893.171889)scale(0.1 -0.1)\">\n       <use xlink:href=\"#DejaVuSans-48\"/>\n       <use x=\"63.623047\" xlink:href=\"#DejaVuSans-46\"/>\n       <use x=\"95.410156\" xlink:href=\"#DejaVuSans-54\"/>\n      </g>\n     </g>\n    </g>\n    <g id=\"ytick_64\">\n     <g id=\"line2d_121\">\n      <g>\n       <use style=\"stroke:#000000;stroke-width:0.8;\" x=\"2901.463125\" xlink:href=\"#m4fa1d159ba\" y=\"808.06358\"/>\n      </g>\n     </g>\n     <g id=\"text_130\">\n      <!-- 0.7 -->\n      <g transform=\"translate(2878.56 811.862798)scale(0.1 -0.1)\">\n       <use xlink:href=\"#DejaVuSans-48\"/>\n       <use x=\"63.623047\" xlink:href=\"#DejaVuSans-46\"/>\n       <use x=\"95.410156\" xlink:href=\"#DejaVuSans-55\"/>\n      </g>\n     </g>\n    </g>\n   </g>\n   <g id=\"patch_48\">\n    <path d=\"M 2901.463125 1407.718125 \nL 2901.463125 736.918125 \n\" style=\"fill:none;stroke:#000000;stroke-linecap:square;stroke-linejoin:miter;stroke-width:0.8;\"/>\n   </g>\n   <g id=\"patch_49\">\n    <path d=\"M 3585.503125 1407.718125 \nL 3585.503125 736.918125 \n\" style=\"fill:none;stroke:#000000;stroke-linecap:square;stroke-linejoin:miter;stroke-width:0.8;\"/>\n   </g>\n   <g id=\"patch_50\">\n    <path d=\"M 2901.463125 1407.718125 \nL 3585.503125 1407.718125 \n\" style=\"fill:none;stroke:#000000;stroke-linecap:square;stroke-linejoin:miter;stroke-width:0.8;\"/>\n   </g>\n   <g id=\"patch_51\">\n    <path d=\"M 2901.463125 736.918125 \nL 3585.503125 736.918125 \n\" style=\"fill:none;stroke:#000000;stroke-linecap:square;stroke-linejoin:miter;stroke-width:0.8;\"/>\n   </g>\n   <g id=\"text_131\">\n    <!-- 2000 -->\n    <g transform=\"translate(3228.213125 730.918125)scale(0.12 -0.12)\">\n     <use xlink:href=\"#DejaVuSans-50\"/>\n     <use x=\"63.623047\" xlink:href=\"#DejaVuSans-48\"/>\n     <use x=\"127.246094\" xlink:href=\"#DejaVuSans-48\"/>\n     <use x=\"190.869141\" xlink:href=\"#DejaVuSans-48\"/>\n    </g>\n   </g>\n  </g>\n </g>\n <defs>\n  <clipPath id=\"p9c5f699637\">\n   <rect height=\"670.8\" width=\"684.04\" x=\"30.103125\" y=\"22.318125\"/>\n  </clipPath>\n  <clipPath id=\"p7098945a61\">\n   <rect height=\"670.8\" width=\"684.04\" x=\"747.943125\" y=\"22.318125\"/>\n  </clipPath>\n  <clipPath id=\"paaa12642d1\">\n   <rect height=\"670.8\" width=\"684.04\" x=\"1465.783125\" y=\"22.318125\"/>\n  </clipPath>\n  <clipPath id=\"p706b4413b8\">\n   <rect height=\"670.8\" width=\"684.04\" x=\"2183.623125\" y=\"22.318125\"/>\n  </clipPath>\n  <clipPath id=\"pc12b615b1c\">\n   <rect height=\"670.8\" width=\"684.04\" x=\"2901.463125\" y=\"22.318125\"/>\n  </clipPath>\n  <clipPath id=\"p9f715c1350\">\n   <rect height=\"670.8\" width=\"684.04\" x=\"30.103125\" y=\"736.918125\"/>\n  </clipPath>\n  <clipPath id=\"p5756bba147\">\n   <rect height=\"670.8\" width=\"684.04\" x=\"747.943125\" y=\"736.918125\"/>\n  </clipPath>\n  <clipPath id=\"pc9f022f5c2\">\n   <rect height=\"670.8\" width=\"684.04\" x=\"1465.783125\" y=\"736.918125\"/>\n  </clipPath>\n  <clipPath id=\"pa92863741a\">\n   <rect height=\"670.8\" width=\"684.04\" x=\"2183.623125\" y=\"736.918125\"/>\n  </clipPath>\n  <clipPath id=\"p35115c976f\">\n   <rect height=\"670.8\" width=\"684.04\" x=\"2901.463125\" y=\"736.918125\"/>\n  </clipPath>\n </defs>\n</svg>\n",
      "image/png": "[encoded data removed]"
     },
     "metadata": {
      "needs_background": "light"
     }
    }
   ],
   "source": [
    "from scipy.optimize import curve_fit\n",
    "\n",
    "def sigmoid(x, xc, k):\n",
    "     y = 1 / (1 + np.exp(-k*(x-xc)))\n",
    "     return y\n",
    "\n",
    "\n",
    "fig, axes = plt.subplots(2,5, figsize=(50,20))\n",
    "ax = axes.ravel()\n",
    "\n",
    "base_freq = df.index.values\n",
    "X = np.arange(11)\n",
    "\n",
    "\n",
    "for i in range(10):\n",
    "    y = df.loc[base_freq[i]]\n",
    "    ax[i].set_title(str(base_freq[i]))\n",
    "    ax[i].scatter(X, y)\n",
    "    param, cov = curve_fit(sigmoid, X, y)\n",
    "    xfit = np.linspace(0,10)\n",
    "    ax[i].plot(xfit, sigmoid(xfit, *param))\n",
    "\n",
    "fig.tight_layout()\n"
   ]
  },
  {
   "cell_type": "markdown",
   "metadata": {},
   "source": [
    "$$ y = \\frac{a}{1+e^{-k(x-xc)}} $$"
   ]
  },
  {
   "cell_type": "code",
   "execution_count": 128,
   "metadata": {},
   "outputs": [],
   "source": []
  },
  {
   "cell_type": "code",
   "execution_count": 135,
   "metadata": {},
   "outputs": [],
   "source": [
    "X = np.arange(11)\n",
    "y = df.loc[200]\n",
    "\n"
   ]
  },
  {
   "cell_type": "code",
   "execution_count": 136,
   "metadata": {},
   "outputs": [
    {
     "output_type": "execute_result",
     "data": {
      "text/plain": "[<matplotlib.lines.Line2D at 0x7fac57535fa0>]"
     },
     "metadata": {},
     "execution_count": 136
    },
    {
     "output_type": "display_data",
     "data": {
      "text/plain": "<Figure size 432x288 with 1 Axes>",
      "image/svg+xml": "<?xml version=\"1.0\" encoding=\"utf-8\" standalone=\"no\"?>\n<!DOCTYPE svg PUBLIC \"-//W3C//DTD SVG 1.1//EN\"\n  \"http://www.w3.org/Graphics/SVG/1.1/DTD/svg11.dtd\">\n<!-- Created with matplotlib (https://matplotlib.org/) -->\n<svg height=\"248.518125pt\" version=\"1.1\" viewBox=\"0 0 372.103125 248.518125\" width=\"372.103125pt\" xmlns=\"http://www.w3.org/2000/svg\" xmlns:xlink=\"http://www.w3.org/1999/xlink\">\n <metadata>\n  <rdf:RDF xmlns:cc=\"http://creativecommons.org/ns#\" xmlns:dc=\"http://purl.org/dc/elements/1.1/\" xmlns:rdf=\"http://www.w3.org/1999/02/22-rdf-syntax-ns#\">\n   <cc:Work>\n    <dc:type rdf:resource=\"http://purl.org/dc/dcmitype/StillImage\"/>\n    <dc:date>2020-09-05T14:46:37.451552</dc:date>\n    <dc:format>image/svg+xml</dc:format>\n    <dc:creator>\n     <cc:Agent>\n      <dc:title>Matplotlib v3.3.1, https://matplotlib.org/</dc:title>\n     </cc:Agent>\n    </dc:creator>\n   </cc:Work>\n  </rdf:RDF>\n </metadata>\n <defs>\n  <style type=\"text/css\">*{stroke-linecap:butt;stroke-linejoin:round;}</style>\n </defs>\n <g id=\"figure_1\">\n  <g id=\"patch_1\">\n   <path d=\"M 0 248.518125 \nL 372.103125 248.518125 \nL 372.103125 0 \nL 0 0 \nz\n\" style=\"fill:none;\"/>\n  </g>\n  <g id=\"axes_1\">\n   <g id=\"patch_2\">\n    <path d=\"M 30.103125 224.64 \nL 364.903125 224.64 \nL 364.903125 7.2 \nL 30.103125 7.2 \nz\n\" style=\"fill:#ffffff;\"/>\n   </g>\n   <g id=\"PathCollection_1\">\n    <defs>\n     <path d=\"M 0 3 \nC 0.795609 3 1.55874 2.683901 2.12132 2.12132 \nC 2.683901 1.55874 3 0.795609 3 0 \nC 3 -0.795609 2.683901 -1.55874 2.12132 -2.12132 \nC 1.55874 -2.683901 0.795609 -3 0 -3 \nC -0.795609 -3 -1.55874 -2.683901 -2.12132 -2.12132 \nC -2.683901 -1.55874 -3 -0.795609 -3 0 \nC -3 0.795609 -2.683901 1.55874 -2.12132 2.12132 \nC -1.55874 2.683901 -0.795609 3 0 3 \nz\n\" id=\"m12ad902770\" style=\"stroke:#1f77b4;\"/>\n    </defs>\n    <g clip-path=\"url(#p674fb4a51d)\">\n     <use style=\"fill:#1f77b4;stroke:#1f77b4;\" x=\"45.321307\" xlink:href=\"#m12ad902770\" y=\"196.080894\"/>\n     <use style=\"fill:#1f77b4;stroke:#1f77b4;\" x=\"75.75767\" xlink:href=\"#m12ad902770\" y=\"136.415141\"/>\n     <use style=\"fill:#1f77b4;stroke:#1f77b4;\" x=\"106.194034\" xlink:href=\"#m12ad902770\" y=\"17.083636\"/>\n     <use style=\"fill:#1f77b4;stroke:#1f77b4;\" x=\"136.630398\" xlink:href=\"#m12ad902770\" y=\"17.083636\"/>\n     <use style=\"fill:#1f77b4;stroke:#1f77b4;\" x=\"167.066761\" xlink:href=\"#m12ad902770\" y=\"17.083636\"/>\n     <use style=\"fill:#1f77b4;stroke:#1f77b4;\" x=\"197.503125\" xlink:href=\"#m12ad902770\" y=\"17.083636\"/>\n     <use style=\"fill:#1f77b4;stroke:#1f77b4;\" x=\"227.939489\" xlink:href=\"#m12ad902770\" y=\"17.083636\"/>\n     <use style=\"fill:#1f77b4;stroke:#1f77b4;\" x=\"258.375852\" xlink:href=\"#m12ad902770\" y=\"17.083636\"/>\n     <use style=\"fill:#1f77b4;stroke:#1f77b4;\" x=\"288.812216\" xlink:href=\"#m12ad902770\" y=\"17.083636\"/>\n     <use style=\"fill:#1f77b4;stroke:#1f77b4;\" x=\"319.24858\" xlink:href=\"#m12ad902770\" y=\"17.083636\"/>\n     <use style=\"fill:#1f77b4;stroke:#1f77b4;\" x=\"349.684943\" xlink:href=\"#m12ad902770\" y=\"17.083636\"/>\n    </g>\n   </g>\n   <g id=\"matplotlib.axis_1\">\n    <g id=\"xtick_1\">\n     <g id=\"line2d_1\">\n      <defs>\n       <path d=\"M 0 0 \nL 0 3.5 \n\" id=\"m4623e74175\" style=\"stroke:#000000;stroke-width:0.8;\"/>\n      </defs>\n      <g>\n       <use style=\"stroke:#000000;stroke-width:0.8;\" x=\"45.321307\" xlink:href=\"#m4623e74175\" y=\"224.64\"/>\n      </g>\n     </g>\n     <g id=\"text_1\">\n      <!-- 0 -->\n      <g transform=\"translate(42.140057 239.238437)scale(0.1 -0.1)\">\n       <defs>\n        <path d=\"M 31.78125 66.40625 \nQ 24.171875 66.40625 20.328125 58.90625 \nQ 16.5 51.421875 16.5 36.375 \nQ 16.5 21.390625 20.328125 13.890625 \nQ 24.171875 6.390625 31.78125 6.390625 \nQ 39.453125 6.390625 43.28125 13.890625 \nQ 47.125 21.390625 47.125 36.375 \nQ 47.125 51.421875 43.28125 58.90625 \nQ 39.453125 66.40625 31.78125 66.40625 \nz\nM 31.78125 74.21875 \nQ 44.046875 74.21875 50.515625 64.515625 \nQ 56.984375 54.828125 56.984375 36.375 \nQ 56.984375 17.96875 50.515625 8.265625 \nQ 44.046875 -1.421875 31.78125 -1.421875 \nQ 19.53125 -1.421875 13.0625 8.265625 \nQ 6.59375 17.96875 6.59375 36.375 \nQ 6.59375 54.828125 13.0625 64.515625 \nQ 19.53125 74.21875 31.78125 74.21875 \nz\n\" id=\"DejaVuSans-48\"/>\n       </defs>\n       <use xlink:href=\"#DejaVuSans-48\"/>\n      </g>\n     </g>\n    </g>\n    <g id=\"xtick_2\">\n     <g id=\"line2d_2\">\n      <g>\n       <use style=\"stroke:#000000;stroke-width:0.8;\" x=\"106.194034\" xlink:href=\"#m4623e74175\" y=\"224.64\"/>\n      </g>\n     </g>\n     <g id=\"text_2\">\n      <!-- 2 -->\n      <g transform=\"translate(103.012784 239.238437)scale(0.1 -0.1)\">\n       <defs>\n        <path d=\"M 19.1875 8.296875 \nL 53.609375 8.296875 \nL 53.609375 0 \nL 7.328125 0 \nL 7.328125 8.296875 \nQ 12.9375 14.109375 22.625 23.890625 \nQ 32.328125 33.6875 34.8125 36.53125 \nQ 39.546875 41.84375 41.421875 45.53125 \nQ 43.3125 49.21875 43.3125 52.78125 \nQ 43.3125 58.59375 39.234375 62.25 \nQ 35.15625 65.921875 28.609375 65.921875 \nQ 23.96875 65.921875 18.8125 64.3125 \nQ 13.671875 62.703125 7.8125 59.421875 \nL 7.8125 69.390625 \nQ 13.765625 71.78125 18.9375 73 \nQ 24.125 74.21875 28.421875 74.21875 \nQ 39.75 74.21875 46.484375 68.546875 \nQ 53.21875 62.890625 53.21875 53.421875 \nQ 53.21875 48.921875 51.53125 44.890625 \nQ 49.859375 40.875 45.40625 35.40625 \nQ 44.1875 33.984375 37.640625 27.21875 \nQ 31.109375 20.453125 19.1875 8.296875 \nz\n\" id=\"DejaVuSans-50\"/>\n       </defs>\n       <use xlink:href=\"#DejaVuSans-50\"/>\n      </g>\n     </g>\n    </g>\n    <g id=\"xtick_3\">\n     <g id=\"line2d_3\">\n      <g>\n       <use style=\"stroke:#000000;stroke-width:0.8;\" x=\"167.066761\" xlink:href=\"#m4623e74175\" y=\"224.64\"/>\n      </g>\n     </g>\n     <g id=\"text_3\">\n      <!-- 4 -->\n      <g transform=\"translate(163.885511 239.238437)scale(0.1 -0.1)\">\n       <defs>\n        <path d=\"M 37.796875 64.3125 \nL 12.890625 25.390625 \nL 37.796875 25.390625 \nz\nM 35.203125 72.90625 \nL 47.609375 72.90625 \nL 47.609375 25.390625 \nL 58.015625 25.390625 \nL 58.015625 17.1875 \nL 47.609375 17.1875 \nL 47.609375 0 \nL 37.796875 0 \nL 37.796875 17.1875 \nL 4.890625 17.1875 \nL 4.890625 26.703125 \nz\n\" id=\"DejaVuSans-52\"/>\n       </defs>\n       <use xlink:href=\"#DejaVuSans-52\"/>\n      </g>\n     </g>\n    </g>\n    <g id=\"xtick_4\">\n     <g id=\"line2d_4\">\n      <g>\n       <use style=\"stroke:#000000;stroke-width:0.8;\" x=\"227.939489\" xlink:href=\"#m4623e74175\" y=\"224.64\"/>\n      </g>\n     </g>\n     <g id=\"text_4\">\n      <!-- 6 -->\n      <g transform=\"translate(224.758239 239.238437)scale(0.1 -0.1)\">\n       <defs>\n        <path d=\"M 33.015625 40.375 \nQ 26.375 40.375 22.484375 35.828125 \nQ 18.609375 31.296875 18.609375 23.390625 \nQ 18.609375 15.53125 22.484375 10.953125 \nQ 26.375 6.390625 33.015625 6.390625 \nQ 39.65625 6.390625 43.53125 10.953125 \nQ 47.40625 15.53125 47.40625 23.390625 \nQ 47.40625 31.296875 43.53125 35.828125 \nQ 39.65625 40.375 33.015625 40.375 \nz\nM 52.59375 71.296875 \nL 52.59375 62.3125 \nQ 48.875 64.0625 45.09375 64.984375 \nQ 41.3125 65.921875 37.59375 65.921875 \nQ 27.828125 65.921875 22.671875 59.328125 \nQ 17.53125 52.734375 16.796875 39.40625 \nQ 19.671875 43.65625 24.015625 45.921875 \nQ 28.375 48.1875 33.59375 48.1875 \nQ 44.578125 48.1875 50.953125 41.515625 \nQ 57.328125 34.859375 57.328125 23.390625 \nQ 57.328125 12.15625 50.6875 5.359375 \nQ 44.046875 -1.421875 33.015625 -1.421875 \nQ 20.359375 -1.421875 13.671875 8.265625 \nQ 6.984375 17.96875 6.984375 36.375 \nQ 6.984375 53.65625 15.1875 63.9375 \nQ 23.390625 74.21875 37.203125 74.21875 \nQ 40.921875 74.21875 44.703125 73.484375 \nQ 48.484375 72.75 52.59375 71.296875 \nz\n\" id=\"DejaVuSans-54\"/>\n       </defs>\n       <use xlink:href=\"#DejaVuSans-54\"/>\n      </g>\n     </g>\n    </g>\n    <g id=\"xtick_5\">\n     <g id=\"line2d_5\">\n      <g>\n       <use style=\"stroke:#000000;stroke-width:0.8;\" x=\"288.812216\" xlink:href=\"#m4623e74175\" y=\"224.64\"/>\n      </g>\n     </g>\n     <g id=\"text_5\">\n      <!-- 8 -->\n      <g transform=\"translate(285.630966 239.238437)scale(0.1 -0.1)\">\n       <defs>\n        <path d=\"M 31.78125 34.625 \nQ 24.75 34.625 20.71875 30.859375 \nQ 16.703125 27.09375 16.703125 20.515625 \nQ 16.703125 13.921875 20.71875 10.15625 \nQ 24.75 6.390625 31.78125 6.390625 \nQ 38.8125 6.390625 42.859375 10.171875 \nQ 46.921875 13.96875 46.921875 20.515625 \nQ 46.921875 27.09375 42.890625 30.859375 \nQ 38.875 34.625 31.78125 34.625 \nz\nM 21.921875 38.8125 \nQ 15.578125 40.375 12.03125 44.71875 \nQ 8.5 49.078125 8.5 55.328125 \nQ 8.5 64.0625 14.71875 69.140625 \nQ 20.953125 74.21875 31.78125 74.21875 \nQ 42.671875 74.21875 48.875 69.140625 \nQ 55.078125 64.0625 55.078125 55.328125 \nQ 55.078125 49.078125 51.53125 44.71875 \nQ 48 40.375 41.703125 38.8125 \nQ 48.828125 37.15625 52.796875 32.3125 \nQ 56.78125 27.484375 56.78125 20.515625 \nQ 56.78125 9.90625 50.3125 4.234375 \nQ 43.84375 -1.421875 31.78125 -1.421875 \nQ 19.734375 -1.421875 13.25 4.234375 \nQ 6.78125 9.90625 6.78125 20.515625 \nQ 6.78125 27.484375 10.78125 32.3125 \nQ 14.796875 37.15625 21.921875 38.8125 \nz\nM 18.3125 54.390625 \nQ 18.3125 48.734375 21.84375 45.5625 \nQ 25.390625 42.390625 31.78125 42.390625 \nQ 38.140625 42.390625 41.71875 45.5625 \nQ 45.3125 48.734375 45.3125 54.390625 \nQ 45.3125 60.0625 41.71875 63.234375 \nQ 38.140625 66.40625 31.78125 66.40625 \nQ 25.390625 66.40625 21.84375 63.234375 \nQ 18.3125 60.0625 18.3125 54.390625 \nz\n\" id=\"DejaVuSans-56\"/>\n       </defs>\n       <use xlink:href=\"#DejaVuSans-56\"/>\n      </g>\n     </g>\n    </g>\n    <g id=\"xtick_6\">\n     <g id=\"line2d_6\">\n      <g>\n       <use style=\"stroke:#000000;stroke-width:0.8;\" x=\"349.684943\" xlink:href=\"#m4623e74175\" y=\"224.64\"/>\n      </g>\n     </g>\n     <g id=\"text_6\">\n      <!-- 10 -->\n      <g transform=\"translate(343.322443 239.238437)scale(0.1 -0.1)\">\n       <defs>\n        <path d=\"M 12.40625 8.296875 \nL 28.515625 8.296875 \nL 28.515625 63.921875 \nL 10.984375 60.40625 \nL 10.984375 69.390625 \nL 28.421875 72.90625 \nL 38.28125 72.90625 \nL 38.28125 8.296875 \nL 54.390625 8.296875 \nL 54.390625 0 \nL 12.40625 0 \nz\n\" id=\"DejaVuSans-49\"/>\n       </defs>\n       <use xlink:href=\"#DejaVuSans-49\"/>\n       <use x=\"63.623047\" xlink:href=\"#DejaVuSans-48\"/>\n      </g>\n     </g>\n    </g>\n   </g>\n   <g id=\"matplotlib.axis_2\">\n    <g id=\"ytick_1\">\n     <g id=\"line2d_7\">\n      <defs>\n       <path d=\"M 0 0 \nL -3.5 0 \n\" id=\"mfe22c42d1a\" style=\"stroke:#000000;stroke-width:0.8;\"/>\n      </defs>\n      <g>\n       <use style=\"stroke:#000000;stroke-width:0.8;\" x=\"30.103125\" xlink:href=\"#mfe22c42d1a\" y=\"188.921003\"/>\n      </g>\n     </g>\n     <g id=\"text_7\">\n      <!-- 0.2 -->\n      <g transform=\"translate(7.2 192.720222)scale(0.1 -0.1)\">\n       <defs>\n        <path d=\"M 10.6875 12.40625 \nL 21 12.40625 \nL 21 0 \nL 10.6875 0 \nz\n\" id=\"DejaVuSans-46\"/>\n       </defs>\n       <use xlink:href=\"#DejaVuSans-48\"/>\n       <use x=\"63.623047\" xlink:href=\"#DejaVuSans-46\"/>\n       <use x=\"95.410156\" xlink:href=\"#DejaVuSans-50\"/>\n      </g>\n     </g>\n    </g>\n    <g id=\"ytick_2\">\n     <g id=\"line2d_8\">\n      <g>\n       <use style=\"stroke:#000000;stroke-width:0.8;\" x=\"30.103125\" xlink:href=\"#mfe22c42d1a\" y=\"145.961662\"/>\n      </g>\n     </g>\n     <g id=\"text_8\">\n      <!-- 0.4 -->\n      <g transform=\"translate(7.2 149.76088)scale(0.1 -0.1)\">\n       <use xlink:href=\"#DejaVuSans-48\"/>\n       <use x=\"63.623047\" xlink:href=\"#DejaVuSans-46\"/>\n       <use x=\"95.410156\" xlink:href=\"#DejaVuSans-52\"/>\n      </g>\n     </g>\n    </g>\n    <g id=\"ytick_3\">\n     <g id=\"line2d_9\">\n      <g>\n       <use style=\"stroke:#000000;stroke-width:0.8;\" x=\"30.103125\" xlink:href=\"#mfe22c42d1a\" y=\"103.00232\"/>\n      </g>\n     </g>\n     <g id=\"text_9\">\n      <!-- 0.6 -->\n      <g transform=\"translate(7.2 106.801539)scale(0.1 -0.1)\">\n       <use xlink:href=\"#DejaVuSans-48\"/>\n       <use x=\"63.623047\" xlink:href=\"#DejaVuSans-46\"/>\n       <use x=\"95.410156\" xlink:href=\"#DejaVuSans-54\"/>\n      </g>\n     </g>\n    </g>\n    <g id=\"ytick_4\">\n     <g id=\"line2d_10\">\n      <g>\n       <use style=\"stroke:#000000;stroke-width:0.8;\" x=\"30.103125\" xlink:href=\"#mfe22c42d1a\" y=\"60.042978\"/>\n      </g>\n     </g>\n     <g id=\"text_10\">\n      <!-- 0.8 -->\n      <g transform=\"translate(7.2 63.842197)scale(0.1 -0.1)\">\n       <use xlink:href=\"#DejaVuSans-48\"/>\n       <use x=\"63.623047\" xlink:href=\"#DejaVuSans-46\"/>\n       <use x=\"95.410156\" xlink:href=\"#DejaVuSans-56\"/>\n      </g>\n     </g>\n    </g>\n    <g id=\"ytick_5\">\n     <g id=\"line2d_11\">\n      <g>\n       <use style=\"stroke:#000000;stroke-width:0.8;\" x=\"30.103125\" xlink:href=\"#mfe22c42d1a\" y=\"17.083636\"/>\n      </g>\n     </g>\n     <g id=\"text_11\">\n      <!-- 1.0 -->\n      <g transform=\"translate(7.2 20.882855)scale(0.1 -0.1)\">\n       <use xlink:href=\"#DejaVuSans-49\"/>\n       <use x=\"63.623047\" xlink:href=\"#DejaVuSans-46\"/>\n       <use x=\"95.410156\" xlink:href=\"#DejaVuSans-48\"/>\n      </g>\n     </g>\n    </g>\n   </g>\n   <g id=\"line2d_12\">\n    <path clip-path=\"url(#p674fb4a51d)\" d=\"M 45.321307 214.756364 \nL 51.53281 205.145764 \nL 57.744312 191.25001 \nL 63.955815 172.41546 \nL 70.167318 149.004535 \nL 76.378821 122.846486 \nL 82.590324 96.881096 \nL 88.801826 73.964807 \nL 95.013329 55.744924 \nL 101.224832 42.424611 \nL 107.436335 33.271864 \nL 113.647837 27.247589 \nL 119.85934 23.393953 \nL 126.070843 20.973638 \nL 132.282346 19.471002 \nL 138.493849 18.544785 \nL 144.705351 17.976399 \nL 150.916854 17.62855 \nL 157.128357 17.416023 \nL 163.33986 17.286308 \nL 169.551362 17.207185 \nL 175.762865 17.158941 \nL 181.974368 17.129532 \nL 188.185871 17.111606 \nL 194.397374 17.100681 \nL 200.608876 17.094024 \nL 206.820379 17.089966 \nL 213.031882 17.087494 \nL 219.243385 17.085987 \nL 225.454888 17.085069 \nL 231.66639 17.084509 \nL 237.877893 17.084168 \nL 244.089396 17.08396 \nL 250.300899 17.083834 \nL 256.512401 17.083757 \nL 262.723904 17.08371 \nL 268.935407 17.083681 \nL 275.14691 17.083664 \nL 281.358413 17.083653 \nL 287.569915 17.083646 \nL 293.781418 17.083643 \nL 299.992921 17.08364 \nL 306.204424 17.083639 \nL 312.415926 17.083638 \nL 318.627429 17.083637 \nL 324.838932 17.083637 \nL 331.050435 17.083637 \nL 337.261938 17.083637 \nL 343.47344 17.083636 \nL 349.684943 17.083636 \n\" style=\"fill:none;stroke:#1f77b4;stroke-linecap:square;stroke-width:1.5;\"/>\n   </g>\n   <g id=\"patch_3\">\n    <path d=\"M 30.103125 224.64 \nL 30.103125 7.2 \n\" style=\"fill:none;stroke:#000000;stroke-linecap:square;stroke-linejoin:miter;stroke-width:0.8;\"/>\n   </g>\n   <g id=\"patch_4\">\n    <path d=\"M 364.903125 224.64 \nL 364.903125 7.2 \n\" style=\"fill:none;stroke:#000000;stroke-linecap:square;stroke-linejoin:miter;stroke-width:0.8;\"/>\n   </g>\n   <g id=\"patch_5\">\n    <path d=\"M 30.103125 224.64 \nL 364.903125 224.64 \n\" style=\"fill:none;stroke:#000000;stroke-linecap:square;stroke-linejoin:miter;stroke-width:0.8;\"/>\n   </g>\n   <g id=\"patch_6\">\n    <path d=\"M 30.103125 7.2 \nL 364.903125 7.2 \n\" style=\"fill:none;stroke:#000000;stroke-linecap:square;stroke-linejoin:miter;stroke-width:0.8;\"/>\n   </g>\n  </g>\n </g>\n <defs>\n  <clipPath id=\"p674fb4a51d\">\n   <rect height=\"217.44\" width=\"334.8\" x=\"30.103125\" y=\"7.2\"/>\n  </clipPath>\n </defs>\n</svg>\n",
      "image/png": "[encoded data removed]"
     },
     "metadata": {
      "needs_background": "light"
     }
    }
   ],
   "source": [
    "plt.scatter(X,y)\n"
   ]
  },
  {
   "cell_type": "code",
   "execution_count": 18,
   "metadata": {},
   "outputs": [],
   "source": [
    "import plotly.io as pio\n",
    "pio.templates.default = 'simple_white'"
   ]
  },
  {
   "cell_type": "code",
   "execution_count": 14,
   "metadata": {},
   "outputs": [
    {
     "output_type": "error",
     "ename": "FileNotFoundError",
     "evalue": "[Errno 2] No such file or directory: 'plotly/200Hz.png'",
     "traceback": [
      "\u001b[0;31m---------------------------------------------------------------------------\u001b[0m",
      "\u001b[0;31mFileNotFoundError\u001b[0m                         Traceback (most recent call last)",
      "\u001b[0;32m<ipython-input-14-8161acedc489>\u001b[0m in \u001b[0;36m<module>\u001b[0;34m\u001b[0m\n\u001b[1;32m     40\u001b[0m      \u001b[0;31m#fig.show()\u001b[0m\u001b[0;34m\u001b[0m\u001b[0;34m\u001b[0m\u001b[0;34m\u001b[0m\u001b[0m\n\u001b[1;32m     41\u001b[0m      \u001b[0mf\u001b[0m \u001b[0;34m=\u001b[0m \u001b[0;34m'plotly/{0}.png'\u001b[0m\u001b[0;34m.\u001b[0m\u001b[0mformat\u001b[0m\u001b[0;34m(\u001b[0m\u001b[0mtitle\u001b[0m\u001b[0;34m)\u001b[0m\u001b[0;34m\u001b[0m\u001b[0;34m\u001b[0m\u001b[0m\n\u001b[0;32m---> 42\u001b[0;31m      \u001b[0mfig\u001b[0m\u001b[0;34m.\u001b[0m\u001b[0mwrite_image\u001b[0m\u001b[0;34m(\u001b[0m\u001b[0mf\u001b[0m\u001b[0;34m)\u001b[0m\u001b[0;34m\u001b[0m\u001b[0;34m\u001b[0m\u001b[0m\n\u001b[0m\u001b[1;32m     43\u001b[0m \u001b[0;34m\u001b[0m\u001b[0m\n",
      "\u001b[0;32m~/opt/anaconda3/envs/ds/lib/python3.7/site-packages/plotly/basedatatypes.py\u001b[0m in \u001b[0;36mwrite_image\u001b[0;34m(self, *args, **kwargs)\u001b[0m\n\u001b[1;32m   3556\u001b[0m         \u001b[0;32mimport\u001b[0m \u001b[0mplotly\u001b[0m\u001b[0;34m.\u001b[0m\u001b[0mio\u001b[0m \u001b[0;32mas\u001b[0m \u001b[0mpio\u001b[0m\u001b[0;34m\u001b[0m\u001b[0;34m\u001b[0m\u001b[0m\n\u001b[1;32m   3557\u001b[0m \u001b[0;34m\u001b[0m\u001b[0m\n\u001b[0;32m-> 3558\u001b[0;31m         \u001b[0;32mreturn\u001b[0m \u001b[0mpio\u001b[0m\u001b[0;34m.\u001b[0m\u001b[0mwrite_image\u001b[0m\u001b[0;34m(\u001b[0m\u001b[0mself\u001b[0m\u001b[0;34m,\u001b[0m \u001b[0;34m*\u001b[0m\u001b[0margs\u001b[0m\u001b[0;34m,\u001b[0m \u001b[0;34m**\u001b[0m\u001b[0mkwargs\u001b[0m\u001b[0;34m)\u001b[0m\u001b[0;34m\u001b[0m\u001b[0;34m\u001b[0m\u001b[0m\n\u001b[0m\u001b[1;32m   3559\u001b[0m \u001b[0;34m\u001b[0m\u001b[0m\n\u001b[1;32m   3560\u001b[0m     \u001b[0;31m# Static helpers\u001b[0m\u001b[0;34m\u001b[0m\u001b[0;34m\u001b[0m\u001b[0;34m\u001b[0m\u001b[0m\n",
      "\u001b[0;32m~/opt/anaconda3/envs/ds/lib/python3.7/site-packages/plotly/io/_kaleido.py\u001b[0m in \u001b[0;36mwrite_image\u001b[0;34m(fig, file, format, scale, width, height, validate, engine)\u001b[0m\n\u001b[1;32m    256\u001b[0m     \u001b[0;31m# ---------\u001b[0m\u001b[0;34m\u001b[0m\u001b[0;34m\u001b[0m\u001b[0;34m\u001b[0m\u001b[0m\n\u001b[1;32m    257\u001b[0m     \u001b[0;32mif\u001b[0m \u001b[0mfile_is_str\u001b[0m\u001b[0;34m:\u001b[0m\u001b[0;34m\u001b[0m\u001b[0;34m\u001b[0m\u001b[0m\n\u001b[0;32m--> 258\u001b[0;31m         \u001b[0;32mwith\u001b[0m \u001b[0mopen\u001b[0m\u001b[0;34m(\u001b[0m\u001b[0mfile\u001b[0m\u001b[0;34m,\u001b[0m \u001b[0;34m\"wb\"\u001b[0m\u001b[0;34m)\u001b[0m \u001b[0;32mas\u001b[0m \u001b[0mf\u001b[0m\u001b[0;34m:\u001b[0m\u001b[0;34m\u001b[0m\u001b[0;34m\u001b[0m\u001b[0m\n\u001b[0m\u001b[1;32m    259\u001b[0m             \u001b[0mf\u001b[0m\u001b[0;34m.\u001b[0m\u001b[0mwrite\u001b[0m\u001b[0;34m(\u001b[0m\u001b[0mimg_data\u001b[0m\u001b[0;34m)\u001b[0m\u001b[0;34m\u001b[0m\u001b[0;34m\u001b[0m\u001b[0m\n\u001b[1;32m    260\u001b[0m     \u001b[0;32melse\u001b[0m\u001b[0;34m:\u001b[0m\u001b[0;34m\u001b[0m\u001b[0;34m\u001b[0m\u001b[0m\n",
      "\u001b[0;31mFileNotFoundError\u001b[0m: [Errno 2] No such file or directory: 'plotly/200Hz.png'"
     ]
    }
   ],
   "source": [
    "from scipy.optimize import curve_fit\n",
    "\n",
    "def sigmoid(x, xc, k):\n",
    "     y = 1 / (1 + np.exp(-k*(x-xc)))\n",
    "     return y\n",
    "\n",
    "base_freq = df.index.values\n",
    "X = np.arange(11)\n",
    "\n",
    "for i in range(10):\n",
    "     title = '{0}Hz'.format(str(base_freq[i]))\n",
    "\n",
    "     y = df.loc[base_freq[i]]\n",
    "     param, cov = curve_fit(sigmoid, X, y)\n",
    "     xfit = np.linspace(0,10)\n",
    "     curve = sigmoid(xfit, *param)\n",
    "\n",
    "     fig = go.Figure()\n",
    "\n",
    "     fig.add_trace(go.Scatter(\n",
    "          mode='markers',\n",
    "          x=X,\n",
    "          y=y,\n",
    "          name='p'\n",
    "     ))\n",
    "\n",
    "     fig.add_trace(go.Scatter(\n",
    "          x=xfit,\n",
    "          y=curve,\n",
    "          name='curve fit'\n",
    "     ))\n",
    "\n",
    "     fig.update_xaxes(title='stimulus')\n",
    "     fig.update_yaxes(title='p')\n",
    "\n",
    "     fig.update_layout(\n",
    "          title=title\n",
    "     )\n",
    "\n",
    "     #fig.show()\n",
    "     f = 'plotly/{0}.png'.format(title)\n",
    "     fig.write_image(f)\n",
    "\n"
   ]
  },
  {
   "cell_type": "code",
   "execution_count": 15,
   "metadata": {},
   "outputs": [],
   "source": [
    "import plotly.graph_objects as go\n",
    "import plotly.express as px\n",
    "from scipy.optimize import curve_fit"
   ]
  },
  {
   "cell_type": "code",
   "execution_count": 16,
   "metadata": {},
   "outputs": [
    {
     "output_type": "display_data",
     "data": {
      "application/vnd.plotly.v1+json": {
       "config": {
        "plotlyServerURL": "https://plot.ly"
       },
       "data": [
        {
         "mode": "markers",
         "name": "p",
         "type": "scatter",
         "x": [
          0,
          1,
          2,
          3,
          4,
          5,
          6,
          7,
          8,
          9,
          10
         ],
         "y": [
          0,
          0.125,
          1,
          1,
          0.8888888888888888,
          1,
          1,
          1,
          1,
          1,
          1
         ]
        },
        {
         "name": "curve fit",
         "type": "scatter",
         "x": [
          0,
          0.20408163265306123,
          0.40816326530612246,
          0.6122448979591837,
          0.8163265306122449,
          1.0204081632653061,
          1.2244897959183674,
          1.4285714285714286,
          1.6326530612244898,
          1.836734693877551,
          2.0408163265306123,
          2.2448979591836737,
          2.4489795918367347,
          2.6530612244897958,
          2.857142857142857,
          3.0612244897959187,
          3.2653061224489797,
          3.4693877551020407,
          3.673469387755102,
          3.8775510204081636,
          4.081632653061225,
          4.285714285714286,
          4.4897959183673475,
          4.6938775510204085,
          4.8979591836734695,
          5.1020408163265305,
          5.3061224489795915,
          5.510204081632653,
          5.714285714285714,
          5.918367346938775,
          6.122448979591837,
          6.326530612244898,
          6.530612244897959,
          6.73469387755102,
          6.938775510204081,
          7.142857142857143,
          7.346938775510204,
          7.551020408163265,
          7.755102040816327,
          7.959183673469388,
          8.16326530612245,
          8.36734693877551,
          8.571428571428571,
          8.775510204081632,
          8.979591836734695,
          9.183673469387756,
          9.387755102040817,
          9.591836734693878,
          9.795918367346939,
          10
         ],
         "y": [
          5.437957099289872e-9,
          1.7766943049197188e-7,
          0.000005804800178310602,
          0.00018962013200606563,
          0.006158302604447992,
          0.16836556849865889,
          0.8686718252255317,
          0.9953940395914456,
          0.9998583923704427,
          0.999995665197989,
          0.9999998673234766,
          0.9999999959391483,
          0.999999999875709,
          0.9999999999961957,
          0.9999999999998836,
          0.9999999999999964,
          1,
          1,
          1,
          1,
          1,
          1,
          1,
          1,
          1,
          1,
          1,
          1,
          1,
          1,
          1,
          1,
          1,
          1,
          1,
          1,
          1,
          1,
          1,
          1,
          1,
          1,
          1,
          1,
          1,
          1,
          1,
          1,
          1,
          1
         ]
        }
       ],
       "layout": {
        "template": {
         "data": {
          "bar": [
           {
            "error_x": {
             "color": "#2a3f5f"
            },
            "error_y": {
             "color": "#2a3f5f"
            },
            "marker": {
             "line": {
              "color": "#E5ECF6",
              "width": 0.5
             }
            },
            "type": "bar"
           }
          ],
          "barpolar": [
           {
            "marker": {
             "line": {
              "color": "#E5ECF6",
              "width": 0.5
             }
            },
            "type": "barpolar"
           }
          ],
          "carpet": [
           {
            "aaxis": {
             "endlinecolor": "#2a3f5f",
             "gridcolor": "white",
             "linecolor": "white",
             "minorgridcolor": "white",
             "startlinecolor": "#2a3f5f"
            },
            "baxis": {
             "endlinecolor": "#2a3f5f",
             "gridcolor": "white",
             "linecolor": "white",
             "minorgridcolor": "white",
             "startlinecolor": "#2a3f5f"
            },
            "type": "carpet"
           }
          ],
          "choropleth": [
           {
            "colorbar": {
             "outlinewidth": 0,
             "ticks": ""
            },
            "type": "choropleth"
           }
          ],
          "contour": [
           {
            "colorbar": {
             "outlinewidth": 0,
             "ticks": ""
            },
            "colorscale": [
             [
              0,
              "#0d0887"
             ],
             [
              0.1111111111111111,
              "#46039f"
             ],
             [
              0.2222222222222222,
              "#7201a8"
             ],
             [
              0.3333333333333333,
              "#9c179e"
             ],
             [
              0.4444444444444444,
              "#bd3786"
             ],
             [
              0.5555555555555556,
              "#d8576b"
             ],
             [
              0.6666666666666666,
              "#ed7953"
             ],
             [
              0.7777777777777778,
              "#fb9f3a"
             ],
             [
              0.8888888888888888,
              "#fdca26"
             ],
             [
              1,
              "#f0f921"
             ]
            ],
            "type": "contour"
           }
          ],
          "contourcarpet": [
           {
            "colorbar": {
             "outlinewidth": 0,
             "ticks": ""
            },
            "type": "contourcarpet"
           }
          ],
          "heatmap": [
           {
            "colorbar": {
             "outlinewidth": 0,
             "ticks": ""
            },
            "colorscale": [
             [
              0,
              "#0d0887"
             ],
             [
              0.1111111111111111,
              "#46039f"
             ],
             [
              0.2222222222222222,
              "#7201a8"
             ],
             [
              0.3333333333333333,
              "#9c179e"
             ],
             [
              0.4444444444444444,
              "#bd3786"
             ],
             [
              0.5555555555555556,
              "#d8576b"
             ],
             [
              0.6666666666666666,
              "#ed7953"
             ],
             [
              0.7777777777777778,
              "#fb9f3a"
             ],
             [
              0.8888888888888888,
              "#fdca26"
             ],
             [
              1,
              "#f0f921"
             ]
            ],
            "type": "heatmap"
           }
          ],
          "heatmapgl": [
           {
            "colorbar": {
             "outlinewidth": 0,
             "ticks": ""
            },
            "colorscale": [
             [
              0,
              "#0d0887"
             ],
             [
              0.1111111111111111,
              "#46039f"
             ],
             [
              0.2222222222222222,
              "#7201a8"
             ],
             [
              0.3333333333333333,
              "#9c179e"
             ],
             [
              0.4444444444444444,
              "#bd3786"
             ],
             [
              0.5555555555555556,
              "#d8576b"
             ],
             [
              0.6666666666666666,
              "#ed7953"
             ],
             [
              0.7777777777777778,
              "#fb9f3a"
             ],
             [
              0.8888888888888888,
              "#fdca26"
             ],
             [
              1,
              "#f0f921"
             ]
            ],
            "type": "heatmapgl"
           }
          ],
          "histogram": [
           {
            "marker": {
             "colorbar": {
              "outlinewidth": 0,
              "ticks": ""
             }
            },
            "type": "histogram"
           }
          ],
          "histogram2d": [
           {
            "colorbar": {
             "outlinewidth": 0,
             "ticks": ""
            },
            "colorscale": [
             [
              0,
              "#0d0887"
             ],
             [
              0.1111111111111111,
              "#46039f"
             ],
             [
              0.2222222222222222,
              "#7201a8"
             ],
             [
              0.3333333333333333,
              "#9c179e"
             ],
             [
              0.4444444444444444,
              "#bd3786"
             ],
             [
              0.5555555555555556,
              "#d8576b"
             ],
             [
              0.6666666666666666,
              "#ed7953"
             ],
             [
              0.7777777777777778,
              "#fb9f3a"
             ],
             [
              0.8888888888888888,
              "#fdca26"
             ],
             [
              1,
              "#f0f921"
             ]
            ],
            "type": "histogram2d"
           }
          ],
          "histogram2dcontour": [
           {
            "colorbar": {
             "outlinewidth": 0,
             "ticks": ""
            },
            "colorscale": [
             [
              0,
              "#0d0887"
             ],
             [
              0.1111111111111111,
              "#46039f"
             ],
             [
              0.2222222222222222,
              "#7201a8"
             ],
             [
              0.3333333333333333,
              "#9c179e"
             ],
             [
              0.4444444444444444,
              "#bd3786"
             ],
             [
              0.5555555555555556,
              "#d8576b"
             ],
             [
              0.6666666666666666,
              "#ed7953"
             ],
             [
              0.7777777777777778,
              "#fb9f3a"
             ],
             [
              0.8888888888888888,
              "#fdca26"
             ],
             [
              1,
              "#f0f921"
             ]
            ],
            "type": "histogram2dcontour"
           }
          ],
          "mesh3d": [
           {
            "colorbar": {
             "outlinewidth": 0,
             "ticks": ""
            },
            "type": "mesh3d"
           }
          ],
          "parcoords": [
           {
            "line": {
             "colorbar": {
              "outlinewidth": 0,
              "ticks": ""
             }
            },
            "type": "parcoords"
           }
          ],
          "pie": [
           {
            "automargin": true,
            "type": "pie"
           }
          ],
          "scatter": [
           {
            "marker": {
             "colorbar": {
              "outlinewidth": 0,
              "ticks": ""
             }
            },
            "type": "scatter"
           }
          ],
          "scatter3d": [
           {
            "line": {
             "colorbar": {
              "outlinewidth": 0,
              "ticks": ""
             }
            },
            "marker": {
             "colorbar": {
              "outlinewidth": 0,
              "ticks": ""
             }
            },
            "type": "scatter3d"
           }
          ],
          "scattercarpet": [
           {
            "marker": {
             "colorbar": {
              "outlinewidth": 0,
              "ticks": ""
             }
            },
            "type": "scattercarpet"
           }
          ],
          "scattergeo": [
           {
            "marker": {
             "colorbar": {
              "outlinewidth": 0,
              "ticks": ""
             }
            },
            "type": "scattergeo"
           }
          ],
          "scattergl": [
           {
            "marker": {
             "colorbar": {
              "outlinewidth": 0,
              "ticks": ""
             }
            },
            "type": "scattergl"
           }
          ],
          "scattermapbox": [
           {
            "marker": {
             "colorbar": {
              "outlinewidth": 0,
              "ticks": ""
             }
            },
            "type": "scattermapbox"
           }
          ],
          "scatterpolar": [
           {
            "marker": {
             "colorbar": {
              "outlinewidth": 0,
              "ticks": ""
             }
            },
            "type": "scatterpolar"
           }
          ],
          "scatterpolargl": [
           {
            "marker": {
             "colorbar": {
              "outlinewidth": 0,
              "ticks": ""
             }
            },
            "type": "scatterpolargl"
           }
          ],
          "scatterternary": [
           {
            "marker": {
             "colorbar": {
              "outlinewidth": 0,
              "ticks": ""
             }
            },
            "type": "scatterternary"
           }
          ],
          "surface": [
           {
            "colorbar": {
             "outlinewidth": 0,
             "ticks": ""
            },
            "colorscale": [
             [
              0,
              "#0d0887"
             ],
             [
              0.1111111111111111,
              "#46039f"
             ],
             [
              0.2222222222222222,
              "#7201a8"
             ],
             [
              0.3333333333333333,
              "#9c179e"
             ],
             [
              0.4444444444444444,
              "#bd3786"
             ],
             [
              0.5555555555555556,
              "#d8576b"
             ],
             [
              0.6666666666666666,
              "#ed7953"
             ],
             [
              0.7777777777777778,
              "#fb9f3a"
             ],
             [
              0.8888888888888888,
              "#fdca26"
             ],
             [
              1,
              "#f0f921"
             ]
            ],
            "type": "surface"
           }
          ],
          "table": [
           {
            "cells": {
             "fill": {
              "color": "#EBF0F8"
             },
             "line": {
              "color": "white"
             }
            },
            "header": {
             "fill": {
              "color": "#C8D4E3"
             },
             "line": {
              "color": "white"
             }
            },
            "type": "table"
           }
          ]
         },
         "layout": {
          "annotationdefaults": {
           "arrowcolor": "#2a3f5f",
           "arrowhead": 0,
           "arrowwidth": 1
          },
          "coloraxis": {
           "colorbar": {
            "outlinewidth": 0,
            "ticks": ""
           }
          },
          "colorscale": {
           "diverging": [
            [
             0,
             "#8e0152"
            ],
            [
             0.1,
             "#c51b7d"
            ],
            [
             0.2,
             "#de77ae"
            ],
            [
             0.3,
             "#f1b6da"
            ],
            [
             0.4,
             "#fde0ef"
            ],
            [
             0.5,
             "#f7f7f7"
            ],
            [
             0.6,
             "#e6f5d0"
            ],
            [
             0.7,
             "#b8e186"
            ],
            [
             0.8,
             "#7fbc41"
            ],
            [
             0.9,
             "#4d9221"
            ],
            [
             1,
             "#276419"
            ]
           ],
           "sequential": [
            [
             0,
             "#0d0887"
            ],
            [
             0.1111111111111111,
             "#46039f"
            ],
            [
             0.2222222222222222,
             "#7201a8"
            ],
            [
             0.3333333333333333,
             "#9c179e"
            ],
            [
             0.4444444444444444,
             "#bd3786"
            ],
            [
             0.5555555555555556,
             "#d8576b"
            ],
            [
             0.6666666666666666,
             "#ed7953"
            ],
            [
             0.7777777777777778,
             "#fb9f3a"
            ],
            [
             0.8888888888888888,
             "#fdca26"
            ],
            [
             1,
             "#f0f921"
            ]
           ],
           "sequentialminus": [
            [
             0,
             "#0d0887"
            ],
            [
             0.1111111111111111,
             "#46039f"
            ],
            [
             0.2222222222222222,
             "#7201a8"
            ],
            [
             0.3333333333333333,
             "#9c179e"
            ],
            [
             0.4444444444444444,
             "#bd3786"
            ],
            [
             0.5555555555555556,
             "#d8576b"
            ],
            [
             0.6666666666666666,
             "#ed7953"
            ],
            [
             0.7777777777777778,
             "#fb9f3a"
            ],
            [
             0.8888888888888888,
             "#fdca26"
            ],
            [
             1,
             "#f0f921"
            ]
           ]
          },
          "colorway": [
           "#636efa",
           "#EF553B",
           "#00cc96",
           "#ab63fa",
           "#FFA15A",
           "#19d3f3",
           "#FF6692",
           "#B6E880",
           "#FF97FF",
           "#FECB52"
          ],
          "font": {
           "color": "#2a3f5f"
          },
          "geo": {
           "bgcolor": "white",
           "lakecolor": "white",
           "landcolor": "#E5ECF6",
           "showlakes": true,
           "showland": true,
           "subunitcolor": "white"
          },
          "hoverlabel": {
           "align": "left"
          },
          "hovermode": "closest",
          "mapbox": {
           "style": "light"
          },
          "paper_bgcolor": "white",
          "plot_bgcolor": "#E5ECF6",
          "polar": {
           "angularaxis": {
            "gridcolor": "white",
            "linecolor": "white",
            "ticks": ""
           },
           "bgcolor": "#E5ECF6",
           "radialaxis": {
            "gridcolor": "white",
            "linecolor": "white",
            "ticks": ""
           }
          },
          "scene": {
           "xaxis": {
            "backgroundcolor": "#E5ECF6",
            "gridcolor": "white",
            "gridwidth": 2,
            "linecolor": "white",
            "showbackground": true,
            "ticks": "",
            "zerolinecolor": "white"
           },
           "yaxis": {
            "backgroundcolor": "#E5ECF6",
            "gridcolor": "white",
            "gridwidth": 2,
            "linecolor": "white",
            "showbackground": true,
            "ticks": "",
            "zerolinecolor": "white"
           },
           "zaxis": {
            "backgroundcolor": "#E5ECF6",
            "gridcolor": "white",
            "gridwidth": 2,
            "linecolor": "white",
            "showbackground": true,
            "ticks": "",
            "zerolinecolor": "white"
           }
          },
          "shapedefaults": {
           "line": {
            "color": "#2a3f5f"
           }
          },
          "ternary": {
           "aaxis": {
            "gridcolor": "white",
            "linecolor": "white",
            "ticks": ""
           },
           "baxis": {
            "gridcolor": "white",
            "linecolor": "white",
            "ticks": ""
           },
           "bgcolor": "#E5ECF6",
           "caxis": {
            "gridcolor": "white",
            "linecolor": "white",
            "ticks": ""
           }
          },
          "title": {
           "x": 0.05
          },
          "xaxis": {
           "automargin": true,
           "gridcolor": "white",
           "linecolor": "white",
           "ticks": "",
           "title": {
            "standoff": 15
           },
           "zerolinecolor": "white",
           "zerolinewidth": 2
          },
          "yaxis": {
           "automargin": true,
           "gridcolor": "white",
           "linecolor": "white",
           "ticks": "",
           "title": {
            "standoff": 15
           },
           "zerolinecolor": "white",
           "zerolinewidth": 2
          }
         }
        },
        "xaxis": {
         "title": {
          "text": "stimulus"
         }
        },
        "yaxis": {
         "title": {
          "text": "p"
         }
        }
       }
      }
     },
     "metadata": {}
    }
   ],
   "source": [
    "def sigmoid(x, xc, k):\n",
    "     y = 1 / (1 + np.exp(-k*(x-xc)))\n",
    "     return y\n",
    "\n",
    "base_freq = df.index.values\n",
    "X = np.arange(11)\n",
    "\n",
    "i = 5\n",
    "\n",
    "y = df.loc[base_freq[i]]\n",
    "param, cov = curve_fit(sigmoid, X, y)\n",
    "xfit = np.linspace(0,10)\n",
    "curve = sigmoid(xfit, *param)\n",
    "\n",
    "\n",
    "fig = go.Figure()\n",
    "\n",
    "fig.add_trace(go.Scatter(\n",
    "    mode='markers',\n",
    "    x=X,\n",
    "    y=y,\n",
    "    name='p'\n",
    "))\n",
    "\n",
    "fig.add_trace(go.Scatter(\n",
    "    x=xfit,\n",
    "    y=curve,\n",
    "    name='curve fit'\n",
    "))\n",
    "\n",
    "fig.update_xaxes(title='stimulus')\n",
    "fig.update_yaxes(title='p')\n",
    "\n",
    "fig.show()"
   ]
  },
  {
   "cell_type": "code",
   "execution_count": 32,
   "metadata": {},
   "outputs": [],
   "source": [
    "df_plot = pd.DataFrame(y)\n",
    "df_curve = pd.DataFrame({'x':xfit,'y':curve})"
   ]
  },
  {
   "cell_type": "code",
   "execution_count": 36,
   "metadata": {},
   "outputs": [],
   "source": [
    "def sigmoid(x, xc, k):\n",
    "     y = 1 / (1 + np.exp(-k*(x-xc)))\n",
    "     return y\n",
    "\n",
    "base_freq = df.index.values\n",
    "X = np.arange(11)\n",
    "\n",
    "for i in range(10):\n",
    "    y = df.loc[base_freq[i]]\n",
    "    label = str(base_freq[i])\n",
    "    param, cov = curve_fit(sigmoid, X, y)\n",
    "    xfit = np.linspace(0,10)\n",
    "    curve = sigmoid(xfit, *param)\n",
    "    df_plot = pd.DataFrame(y)\n",
    "    df_curve = pd.DataFrame({'x':xfit,'y':curve})\n",
    "    f_plot = 'plot_{0}.csv'.format(label)\n",
    "    f_curve = 'curve_{0}.csv'.format(label)\n",
    "    #print(f_plot, f_curve)\n",
    "    df_plot.to_csv(f_plot)\n",
    "    df_curve.to_csv(f_curve)\n"
   ]
  },
  {
   "cell_type": "code",
   "execution_count": null,
   "metadata": {},
   "outputs": [],
   "source": []
  }
 ]
}