{
 "cells": [
  {
   "cell_type": "markdown",
   "metadata": {},
   "source": [
    "Analysis of variance"
   ]
  },
  {
   "cell_type": "code",
   "execution_count": 1,
   "metadata": {},
   "outputs": [],
   "source": [
    "import numpy as np\n",
    "import pandas as pd"
   ]
  },
  {
   "cell_type": "code",
   "execution_count": 2,
   "metadata": {},
   "outputs": [
    {
     "output_type": "execute_result",
     "data": {
      "text/plain": "   Mimizu  Batta  Mix\n1      33     31   33\n2      30     29   31\n3      33     28   32\n4      29     29   32\n5      32     27   36",
      "text/html": "<div>\n<style scoped>\n    .dataframe tbody tr th:only-of-type {\n        vertical-align: middle;\n    }\n\n    .dataframe tbody tr th {\n        vertical-align: top;\n    }\n\n    .dataframe thead th {\n        text-align: right;\n    }\n</style>\n<table border=\"1\" class=\"dataframe\">\n  <thead>\n    <tr style=\"text-align: right;\">\n      <th></th>\n      <th>Mimizu</th>\n      <th>Batta</th>\n      <th>Mix</th>\n    </tr>\n  </thead>\n  <tbody>\n    <tr>\n      <th>1</th>\n      <td>33</td>\n      <td>31</td>\n      <td>33</td>\n    </tr>\n    <tr>\n      <th>2</th>\n      <td>30</td>\n      <td>29</td>\n      <td>31</td>\n    </tr>\n    <tr>\n      <th>3</th>\n      <td>33</td>\n      <td>28</td>\n      <td>32</td>\n    </tr>\n    <tr>\n      <th>4</th>\n      <td>29</td>\n      <td>29</td>\n      <td>32</td>\n    </tr>\n    <tr>\n      <th>5</th>\n      <td>32</td>\n      <td>27</td>\n      <td>36</td>\n    </tr>\n  </tbody>\n</table>\n</div>"
     },
     "metadata": {},
     "execution_count": 2
    }
   ],
   "source": [
    "#  データの作成\n",
    "data = np.array([\n",
    "    [33,31,33],\n",
    "    [30,29,31],\n",
    "    [33,28,32],\n",
    "    [29,29,32],\n",
    "    [32,27,36]])\n",
    "df = pd.DataFrame(data,columns=['Mimizu','Batta','Mix'],index=[1,2,3,4,5])\n",
    "df"
   ]
  },
  {
   "cell_type": "code",
   "execution_count": 3,
   "metadata": {},
   "outputs": [
    {
     "output_type": "execute_result",
     "data": {
      "text/plain": "31.0"
     },
     "metadata": {},
     "execution_count": 3
    }
   ],
   "source": [
    "# 全データの平均\n",
    "all_mean = df.stack().mean()\n",
    "all_mean"
   ]
  },
  {
   "cell_type": "code",
   "execution_count": 4,
   "metadata": {},
   "outputs": [
    {
     "output_type": "execute_result",
     "data": {
      "text/plain": "Mimizu    0.4\nBatta    -2.2\nMix       1.8\ndtype: float64"
     },
     "metadata": {},
     "execution_count": 4
    }
   ],
   "source": [
    "# 列の効果\n",
    "df_effect = df.mean(axis=0) - all_mean\n",
    "df_effect"
   ]
  },
  {
   "cell_type": "code",
   "execution_count": 5,
   "metadata": {},
   "outputs": [
    {
     "output_type": "execute_result",
     "data": {
      "text/plain": "   Mimizu  Batta  Mix\n1     1.6    2.2  0.2\n2    -1.4    0.2 -1.8\n3     1.6   -0.8 -0.8\n4    -2.4    0.2 -0.8\n5     0.6   -1.8  3.2",
      "text/html": "<div>\n<style scoped>\n    .dataframe tbody tr th:only-of-type {\n        vertical-align: middle;\n    }\n\n    .dataframe tbody tr th {\n        vertical-align: top;\n    }\n\n    .dataframe thead th {\n        text-align: right;\n    }\n</style>\n<table border=\"1\" class=\"dataframe\">\n  <thead>\n    <tr style=\"text-align: right;\">\n      <th></th>\n      <th>Mimizu</th>\n      <th>Batta</th>\n      <th>Mix</th>\n    </tr>\n  </thead>\n  <tbody>\n    <tr>\n      <th>1</th>\n      <td>1.6</td>\n      <td>2.2</td>\n      <td>0.2</td>\n    </tr>\n    <tr>\n      <th>2</th>\n      <td>-1.4</td>\n      <td>0.2</td>\n      <td>-1.8</td>\n    </tr>\n    <tr>\n      <th>3</th>\n      <td>1.6</td>\n      <td>-0.8</td>\n      <td>-0.8</td>\n    </tr>\n    <tr>\n      <th>4</th>\n      <td>-2.4</td>\n      <td>0.2</td>\n      <td>-0.8</td>\n    </tr>\n    <tr>\n      <th>5</th>\n      <td>0.6</td>\n      <td>-1.8</td>\n      <td>3.2</td>\n    </tr>\n  </tbody>\n</table>\n</div>"
     },
     "metadata": {},
     "execution_count": 5
    }
   ],
   "source": [
    "# 誤差 - データから列の平均を引く\n",
    "df_error = df - df.mean()\n",
    "df_error"
   ]
  },
  {
   "cell_type": "code",
   "execution_count": 6,
   "metadata": {},
   "outputs": [
    {
     "output_type": "execute_result",
     "data": {
      "text/plain": "Mimizu    7.105427e-15\nBatta    -3.552714e-15\nMix       1.421085e-14\ndtype: float64"
     },
     "metadata": {},
     "execution_count": 6
    }
   ],
   "source": [
    "# 誤差の合計は0になる\n",
    "df_error.sum()"
   ]
  },
  {
   "cell_type": "markdown",
   "metadata": {},
   "source": [
    "不偏分散の式\n",
    "$$\n",
    "V = \\frac{\\sum(x_i - \\bar{x})^2}{n-1}\n",
    "$$"
   ]
  },
  {
   "cell_type": "code",
   "execution_count": 7,
   "metadata": {},
   "outputs": [
    {
     "output_type": "execute_result",
     "data": {
      "text/plain": "20.59999999999996"
     },
     "metadata": {},
     "execution_count": 7
    }
   ],
   "source": [
    "# 列の効果の不偏分散 V1\n",
    "\n",
    "dfn = df.columns.size - df_effect.mean().size #分子の自由度\n",
    "V_1 = np.sum(df.index.size * (np.square(df_effect - df_effect.mean() ))) / dfn\n",
    "V_1"
   ]
  },
  {
   "cell_type": "code",
   "execution_count": 8,
   "metadata": {},
   "outputs": [
    {
     "output_type": "execute_result",
     "data": {
      "text/plain": "3.0666666666666664"
     },
     "metadata": {},
     "execution_count": 8
    }
   ],
   "source": [
    "# 誤差の不偏分散 V2\n",
    "\n",
    "err = df_error.stack()\n",
    "dfd = err.size - df_error.mean().size #分母の自由度\n",
    "V_2 = np.square(err - err.mean()).sum() / dfd\n",
    "V_2"
   ]
  },
  {
   "cell_type": "code",
   "execution_count": 9,
   "metadata": {},
   "outputs": [
    {
     "output_type": "execute_result",
     "data": {
      "text/plain": "6.717391304347813"
     },
     "metadata": {},
     "execution_count": 9
    }
   ],
   "source": [
    "# F値 V1/V2\n",
    "F = V_1 / V_2\n",
    "F"
   ]
  },
  {
   "cell_type": "code",
   "execution_count": 10,
   "metadata": {
    "tags": []
   },
   "outputs": [
    {
     "output_type": "stream",
     "name": "stdout",
     "text": "上側確率 5% 3.8852938346523933\n上側確率 1% 6.9266081401913\n"
    }
   ],
   "source": [
    "from scipy.stats import f\n",
    "\n",
    "five = f.ppf(0.95, dfn,dfd)\n",
    "one = f.ppf(0.99, dfn, dfd)\n",
    "print('上側確率 5%',five)\n",
    "print('上側確率 1%',one)"
   ]
  },
  {
   "cell_type": "code",
   "execution_count": null,
   "metadata": {},
   "outputs": [],
   "source": []
  }
 ],
 "metadata": {
  "kernelspec": {
   "display_name": "Python 3",
   "language": "python",
   "name": "python3"
  },
  "language_info": {
   "codemirror_mode": {
    "name": "ipython",
    "version": 3
   },
   "file_extension": ".py",
   "mimetype": "text/x-python",
   "name": "python",
   "nbconvert_exporter": "python",
   "pygments_lexer": "ipython3",
   "version": "3.7.7-final"
  },
  "toc": {
   "base_numbering": 1,
   "nav_menu": {},
   "number_sections": true,
   "sideBar": true,
   "skip_h1_title": false,
   "title_cell": "Table of Contents",
   "title_sidebar": "Contents",
   "toc_cell": false,
   "toc_position": {},
   "toc_section_display": true,
   "toc_window_display": false
  }
 },
 "nbformat": 4,
 "nbformat_minor": 2
}