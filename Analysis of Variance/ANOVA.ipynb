{
 "cells": [
  {
   "cell_type": "markdown",
   "metadata": {},
   "source": [
    "# Analysis of variance\n",
    "\n",
    "1因子の場合"
   ]
  },
  {
   "cell_type": "code",
   "execution_count": 1,
   "metadata": {},
   "outputs": [],
   "source": [
    "import numpy as np\n",
    "import pandas as pd"
   ]
  },
  {
   "cell_type": "code",
   "execution_count": 2,
   "metadata": {},
   "outputs": [
    {
     "output_type": "execute_result",
     "data": {
      "text/plain": "   Mimizu  Batta  Mix\n1      33     31   33\n2      30     29   31\n3      33     28   32\n4      29     29   32\n5      32     27   36",
      "text/html": "<div>\n<style scoped>\n    .dataframe tbody tr th:only-of-type {\n        vertical-align: middle;\n    }\n\n    .dataframe tbody tr th {\n        vertical-align: top;\n    }\n\n    .dataframe thead th {\n        text-align: right;\n    }\n</style>\n<table border=\"1\" class=\"dataframe\">\n  <thead>\n    <tr style=\"text-align: right;\">\n      <th></th>\n      <th>Mimizu</th>\n      <th>Batta</th>\n      <th>Mix</th>\n    </tr>\n  </thead>\n  <tbody>\n    <tr>\n      <th>1</th>\n      <td>33</td>\n      <td>31</td>\n      <td>33</td>\n    </tr>\n    <tr>\n      <th>2</th>\n      <td>30</td>\n      <td>29</td>\n      <td>31</td>\n    </tr>\n    <tr>\n      <th>3</th>\n      <td>33</td>\n      <td>28</td>\n      <td>32</td>\n    </tr>\n    <tr>\n      <th>4</th>\n      <td>29</td>\n      <td>29</td>\n      <td>32</td>\n    </tr>\n    <tr>\n      <th>5</th>\n      <td>32</td>\n      <td>27</td>\n      <td>36</td>\n    </tr>\n  </tbody>\n</table>\n</div>"
     },
     "metadata": {},
     "execution_count": 2
    }
   ],
   "source": [
    "#  データの作成\n",
    "data = np.array([\n",
    "    [33,31,33],\n",
    "    [30,29,31],\n",
    "    [33,28,32],\n",
    "    [29,29,32],\n",
    "    [32,27,36]])\n",
    "df = pd.DataFrame(data,columns=['Mimizu','Batta','Mix'],index=[1,2,3,4,5])\n",
    "df"
   ]
  },
  {
   "cell_type": "code",
   "execution_count": 3,
   "metadata": {},
   "outputs": [
    {
     "output_type": "execute_result",
     "data": {
      "text/plain": "31.0"
     },
     "metadata": {},
     "execution_count": 3
    }
   ],
   "source": [
    "# 全データの平均\n",
    "all_mean = df.stack().mean()\n",
    "all_mean"
   ]
  },
  {
   "cell_type": "code",
   "execution_count": 4,
   "metadata": {},
   "outputs": [
    {
     "output_type": "execute_result",
     "data": {
      "text/plain": "Mimizu    0.4\nBatta    -2.2\nMix       1.8\ndtype: float64"
     },
     "metadata": {},
     "execution_count": 4
    }
   ],
   "source": [
    "# 列の効果\n",
    "df_effect = df.mean(axis=0) - all_mean\n",
    "df_effect"
   ]
  },
  {
   "cell_type": "code",
   "execution_count": 5,
   "metadata": {},
   "outputs": [
    {
     "output_type": "execute_result",
     "data": {
      "text/plain": "   Mimizu  Batta  Mix\n1     1.6    2.2  0.2\n2    -1.4    0.2 -1.8\n3     1.6   -0.8 -0.8\n4    -2.4    0.2 -0.8\n5     0.6   -1.8  3.2",
      "text/html": "<div>\n<style scoped>\n    .dataframe tbody tr th:only-of-type {\n        vertical-align: middle;\n    }\n\n    .dataframe tbody tr th {\n        vertical-align: top;\n    }\n\n    .dataframe thead th {\n        text-align: right;\n    }\n</style>\n<table border=\"1\" class=\"dataframe\">\n  <thead>\n    <tr style=\"text-align: right;\">\n      <th></th>\n      <th>Mimizu</th>\n      <th>Batta</th>\n      <th>Mix</th>\n    </tr>\n  </thead>\n  <tbody>\n    <tr>\n      <th>1</th>\n      <td>1.6</td>\n      <td>2.2</td>\n      <td>0.2</td>\n    </tr>\n    <tr>\n      <th>2</th>\n      <td>-1.4</td>\n      <td>0.2</td>\n      <td>-1.8</td>\n    </tr>\n    <tr>\n      <th>3</th>\n      <td>1.6</td>\n      <td>-0.8</td>\n      <td>-0.8</td>\n    </tr>\n    <tr>\n      <th>4</th>\n      <td>-2.4</td>\n      <td>0.2</td>\n      <td>-0.8</td>\n    </tr>\n    <tr>\n      <th>5</th>\n      <td>0.6</td>\n      <td>-1.8</td>\n      <td>3.2</td>\n    </tr>\n  </tbody>\n</table>\n</div>"
     },
     "metadata": {},
     "execution_count": 5
    }
   ],
   "source": [
    "# 誤差 - データから列の平均を引く\n",
    "df_error = df - df.mean()\n",
    "df_error"
   ]
  },
  {
   "cell_type": "code",
   "execution_count": 6,
   "metadata": {},
   "outputs": [
    {
     "output_type": "execute_result",
     "data": {
      "text/plain": "Mimizu    7.105427e-15\nBatta    -3.552714e-15\nMix       1.421085e-14\ndtype: float64"
     },
     "metadata": {},
     "execution_count": 6
    }
   ],
   "source": [
    "# 誤差の合計は0になる\n",
    "df_error.sum()"
   ]
  },
  {
   "cell_type": "markdown",
   "metadata": {},
   "source": [
    "不偏分散の式\n",
    "$$\n",
    "V = \\frac{\\sum(x_i - \\bar{x})^2}{n-1}\n",
    "$$"
   ]
  },
  {
   "cell_type": "code",
   "execution_count": 7,
   "metadata": {},
   "outputs": [
    {
     "output_type": "execute_result",
     "data": {
      "text/plain": "20.59999999999996"
     },
     "metadata": {},
     "execution_count": 7
    }
   ],
   "source": [
    "# 列の効果の不偏分散 V1\n",
    "\n",
    "dfn = df.columns.size - df_effect.mean().size #分子の自由度\n",
    "V_1 = np.sum(df.index.size * (np.square(df_effect - df_effect.mean() ))) / dfn\n",
    "V_1"
   ]
  },
  {
   "cell_type": "code",
   "execution_count": 8,
   "metadata": {},
   "outputs": [
    {
     "output_type": "execute_result",
     "data": {
      "text/plain": "3.0666666666666664"
     },
     "metadata": {},
     "execution_count": 8
    }
   ],
   "source": [
    "# 誤差の不偏分散 V2\n",
    "\n",
    "err = df_error.stack()\n",
    "dfd = err.size - df_error.mean().size #分母の自由度\n",
    "V_2 = np.square(err - err.mean()).sum() / dfd\n",
    "V_2"
   ]
  },
  {
   "cell_type": "code",
   "execution_count": 9,
   "metadata": {},
   "outputs": [
    {
     "output_type": "execute_result",
     "data": {
      "text/plain": "6.717391304347813"
     },
     "metadata": {},
     "execution_count": 9
    }
   ],
   "source": [
    "# F値 V1/V2\n",
    "F = V_1 / V_2\n",
    "F"
   ]
  },
  {
   "cell_type": "code",
   "execution_count": 10,
   "metadata": {
    "tags": []
   },
   "outputs": [
    {
     "output_type": "stream",
     "name": "stdout",
     "text": "上側確率 5% 3.8852938346523933\n上側確率 1% 6.9266081401913\n"
    }
   ],
   "source": [
    "from scipy.stats import f\n",
    "\n",
    "five = f.ppf(0.95, dfn,dfd)\n",
    "one = f.ppf(0.99, dfn, dfd)\n",
    "print('上側確率 5%',five)\n",
    "print('上側確率 1%',one)"
   ]
  },
  {
   "source": [
    "# Analysis of Variance\n",
    "2因子の場合"
   ],
   "cell_type": "markdown",
   "metadata": {}
  },
  {
   "cell_type": "code",
   "execution_count": 47,
   "metadata": {},
   "outputs": [],
   "source": [
    "import numpy as np\n",
    "import pandas as pd\n",
    "from scipy.stats import f"
   ]
  },
  {
   "cell_type": "code",
   "execution_count": 2,
   "metadata": {},
   "outputs": [
    {
     "output_type": "execute_result",
     "data": {
      "text/plain": "    火   砂   腐   粘\nミ  29  35  29  29\nバ  26  33  30  28\n混  32  34  33  34",
      "text/html": "<div>\n<style scoped>\n    .dataframe tbody tr th:only-of-type {\n        vertical-align: middle;\n    }\n\n    .dataframe tbody tr th {\n        vertical-align: top;\n    }\n\n    .dataframe thead th {\n        text-align: right;\n    }\n</style>\n<table border=\"1\" class=\"dataframe\">\n  <thead>\n    <tr style=\"text-align: right;\">\n      <th></th>\n      <th>火</th>\n      <th>砂</th>\n      <th>腐</th>\n      <th>粘</th>\n    </tr>\n  </thead>\n  <tbody>\n    <tr>\n      <th>ミ</th>\n      <td>29</td>\n      <td>35</td>\n      <td>29</td>\n      <td>29</td>\n    </tr>\n    <tr>\n      <th>バ</th>\n      <td>26</td>\n      <td>33</td>\n      <td>30</td>\n      <td>28</td>\n    </tr>\n    <tr>\n      <th>混</th>\n      <td>32</td>\n      <td>34</td>\n      <td>33</td>\n      <td>34</td>\n    </tr>\n  </tbody>\n</table>\n</div>"
     },
     "metadata": {},
     "execution_count": 2
    }
   ],
   "source": [
    "data = np.array([\n",
    "    [29,35,29,29],\n",
    "    [26,33,30,28],\n",
    "    [32,34,33,34]\n",
    "    ])\n",
    "df = pd.DataFrame(data, columns=['火','砂','腐','粘'], index=['ミ','バ','混'])\n",
    "df"
   ]
  },
  {
   "cell_type": "code",
   "execution_count": 5,
   "metadata": {},
   "outputs": [
    {
     "output_type": "execute_result",
     "data": {
      "text/plain": "ミ   -0.50\nバ   -1.75\n混    2.25\ndtype: float64"
     },
     "metadata": {},
     "execution_count": 5
    }
   ],
   "source": [
    "# 行の効果（餌の効果）\n",
    "row_effect = df.mean(axis=1) - df.stack().mean()\n",
    "row_effect"
   ]
  },
  {
   "cell_type": "code",
   "execution_count": 6,
   "metadata": {},
   "outputs": [
    {
     "output_type": "execute_result",
     "data": {
      "text/plain": "火   -2.000000\n砂    3.000000\n腐   -0.333333\n粘   -0.666667\ndtype: float64"
     },
     "metadata": {},
     "execution_count": 6
    }
   ],
   "source": [
    "# 列の効果（土の効果）\n",
    "col_effect = df.mean(axis=0) - df.stack().mean()\n",
    "col_effect"
   ]
  },
  {
   "cell_type": "code",
   "execution_count": 29,
   "metadata": {},
   "outputs": [
    {
     "output_type": "execute_result",
     "data": {
      "text/plain": "     火    砂    腐    粘\nミ -2.0  4.0 -2.0 -2.0\nバ -5.0  2.0 -1.0 -3.0\n混  1.0  3.0  2.0  3.0",
      "text/html": "<div>\n<style scoped>\n    .dataframe tbody tr th:only-of-type {\n        vertical-align: middle;\n    }\n\n    .dataframe tbody tr th {\n        vertical-align: top;\n    }\n\n    .dataframe thead th {\n        text-align: right;\n    }\n</style>\n<table border=\"1\" class=\"dataframe\">\n  <thead>\n    <tr style=\"text-align: right;\">\n      <th></th>\n      <th>火</th>\n      <th>砂</th>\n      <th>腐</th>\n      <th>粘</th>\n    </tr>\n  </thead>\n  <tbody>\n    <tr>\n      <th>ミ</th>\n      <td>-2.0</td>\n      <td>4.0</td>\n      <td>-2.0</td>\n      <td>-2.0</td>\n    </tr>\n    <tr>\n      <th>バ</th>\n      <td>-5.0</td>\n      <td>2.0</td>\n      <td>-1.0</td>\n      <td>-3.0</td>\n    </tr>\n    <tr>\n      <th>混</th>\n      <td>1.0</td>\n      <td>3.0</td>\n      <td>2.0</td>\n      <td>3.0</td>\n    </tr>\n  </tbody>\n</table>\n</div>"
     },
     "metadata": {},
     "execution_count": 29
    }
   ],
   "source": [
    "# 誤差\n",
    "df_error = df - df.stack().mean()\n",
    "df_error"
   ]
  },
  {
   "cell_type": "code",
   "execution_count": 30,
   "metadata": {},
   "outputs": [
    {
     "output_type": "execute_result",
     "data": {
      "text/plain": "      火     砂         腐         粘\nミ  0.50  1.50 -1.166667 -0.833333\nバ -1.25  0.75  1.083333 -0.583333\n混  0.75 -2.25  0.083333  1.416667",
      "text/html": "<div>\n<style scoped>\n    .dataframe tbody tr th:only-of-type {\n        vertical-align: middle;\n    }\n\n    .dataframe tbody tr th {\n        vertical-align: top;\n    }\n\n    .dataframe thead th {\n        text-align: right;\n    }\n</style>\n<table border=\"1\" class=\"dataframe\">\n  <thead>\n    <tr style=\"text-align: right;\">\n      <th></th>\n      <th>火</th>\n      <th>砂</th>\n      <th>腐</th>\n      <th>粘</th>\n    </tr>\n  </thead>\n  <tbody>\n    <tr>\n      <th>ミ</th>\n      <td>0.50</td>\n      <td>1.50</td>\n      <td>-1.166667</td>\n      <td>-0.833333</td>\n    </tr>\n    <tr>\n      <th>バ</th>\n      <td>-1.25</td>\n      <td>0.75</td>\n      <td>1.083333</td>\n      <td>-0.583333</td>\n    </tr>\n    <tr>\n      <th>混</th>\n      <td>0.75</td>\n      <td>-2.25</td>\n      <td>0.083333</td>\n      <td>1.416667</td>\n    </tr>\n  </tbody>\n</table>\n</div>"
     },
     "metadata": {},
     "execution_count": 30
    }
   ],
   "source": [
    "# 誤差を分離する\n",
    "df_error = df_error.subtract(row_effect, axis=0)\n",
    "df_error = df_error.subtract(col_effect, axis=1)\n",
    "df_error"
   ]
  },
  {
   "cell_type": "code",
   "execution_count": 40,
   "metadata": {},
   "outputs": [
    {
     "output_type": "execute_result",
     "data": {
      "text/plain": "2.638888888888889"
     },
     "metadata": {},
     "execution_count": 40
    }
   ],
   "source": [
    "# 誤差の不偏分散\n",
    "phi_2 = (df.columns.size - 1) * (df.index.size -1)\n",
    "V_2 = np.sum(np.square(df_error.stack())) / phi_2\n",
    "V_2"
   ]
  },
  {
   "cell_type": "code",
   "execution_count": 45,
   "metadata": {},
   "outputs": [
    {
     "output_type": "execute_result",
     "data": {
      "text/plain": "16.75"
     },
     "metadata": {},
     "execution_count": 45
    }
   ],
   "source": [
    "# 行の不偏分散\n",
    "phi_11 = row_effect.size - df.stack().mean().size\n",
    "V_11 = np.sum(np.square(row_effect) * df.columns.size) / phi_11\n",
    "V_11"
   ]
  },
  {
   "cell_type": "code",
   "execution_count": 48,
   "metadata": {
    "tags": []
   },
   "outputs": [
    {
     "output_type": "stream",
     "name": "stdout",
     "text": "上側確率 5% 5.143252849784718\n上側確率 1% 10.92476650083833\nF =  6.347368421052631\n"
    }
   ],
   "source": [
    "# F1 行の効果の有意差\n",
    "F_1 = V_11 / V_2\n",
    "\n",
    "five = f.ppf(0.95, phi_11,phi_2)\n",
    "one = f.ppf(0.99, phi_11,phi_2)\n",
    "print('上側確率 5%',five)\n",
    "print('上側確率 1%',one)\n",
    "print('F1 = ',F_1)"
   ]
  },
  {
   "cell_type": "code",
   "execution_count": 49,
   "metadata": {},
   "outputs": [
    {
     "output_type": "execute_result",
     "data": {
      "text/plain": "13.555555555555555"
     },
     "metadata": {},
     "execution_count": 49
    }
   ],
   "source": [
    "# 列の不偏分散\n",
    "phi_12 = col_effect.size - df.stack().mean().size\n",
    "V_12 = np.sum(np.square(col_effect) * df.index.size) / phi_12\n",
    "V_12"
   ]
  },
  {
   "cell_type": "code",
   "execution_count": 52,
   "metadata": {
    "tags": []
   },
   "outputs": [
    {
     "output_type": "stream",
     "name": "stdout",
     "text": "上側確率 5% 4.757062663089414\n上側確率 1% 9.779538240923273\nF =  5.136842105263158\n"
    }
   ],
   "source": [
    "# F2 列の効果の有意差\n",
    "\n",
    "F_2 = V_12 / V_2\n",
    "\n",
    "five = f.ppf(0.95, phi_12,phi_2)\n",
    "one = f.ppf(0.99, phi_12,phi_2)\n",
    "print('上側確率 5%',five)\n",
    "print('上側確率 1%',one)\n",
    "print('F2 = ',F_2)"
   ]
  }
 ],
 "metadata": {
  "kernelspec": {
   "display_name": "Python 3",
   "language": "python",
   "name": "python3"
  },
  "language_info": {
   "codemirror_mode": {
    "name": "ipython",
    "version": 3
   },
   "file_extension": ".py",
   "mimetype": "text/x-python",
   "name": "python",
   "nbconvert_exporter": "python",
   "pygments_lexer": "ipython3",
   "version": "3.7.7-final"
  },
  "toc": {
   "base_numbering": 1,
   "nav_menu": {},
   "number_sections": true,
   "sideBar": true,
   "skip_h1_title": false,
   "title_cell": "Table of Contents",
   "title_sidebar": "Contents",
   "toc_cell": false,
   "toc_position": {},
   "toc_section_display": true,
   "toc_window_display": false
  }
 },
 "nbformat": 4,
 "nbformat_minor": 2
}