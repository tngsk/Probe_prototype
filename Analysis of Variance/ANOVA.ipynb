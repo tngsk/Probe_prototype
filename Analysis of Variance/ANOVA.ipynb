{
 "cells": [
  {
   "cell_type": "markdown",
   "metadata": {},
   "source": [
    "# Analysis of variance\n",
    "\n",
    "1因子の場合"
   ]
  },
  {
   "cell_type": "code",
   "execution_count": 16,
   "metadata": {},
   "outputs": [],
   "source": [
    "import numpy as np\n",
    "import pandas as pd"
   ]
  },
  {
   "cell_type": "code",
   "execution_count": 2,
   "metadata": {},
   "outputs": [
    {
     "output_type": "execute_result",
     "data": {
      "text/plain": "   Mimizu  Batta  Mix\n1      33     31   33\n2      30     29   31\n3      33     28   32\n4      29     29   32\n5      32     27   36",
      "text/html": "<div>\n<style scoped>\n    .dataframe tbody tr th:only-of-type {\n        vertical-align: middle;\n    }\n\n    .dataframe tbody tr th {\n        vertical-align: top;\n    }\n\n    .dataframe thead th {\n        text-align: right;\n    }\n</style>\n<table border=\"1\" class=\"dataframe\">\n  <thead>\n    <tr style=\"text-align: right;\">\n      <th></th>\n      <th>Mimizu</th>\n      <th>Batta</th>\n      <th>Mix</th>\n    </tr>\n  </thead>\n  <tbody>\n    <tr>\n      <th>1</th>\n      <td>33</td>\n      <td>31</td>\n      <td>33</td>\n    </tr>\n    <tr>\n      <th>2</th>\n      <td>30</td>\n      <td>29</td>\n      <td>31</td>\n    </tr>\n    <tr>\n      <th>3</th>\n      <td>33</td>\n      <td>28</td>\n      <td>32</td>\n    </tr>\n    <tr>\n      <th>4</th>\n      <td>29</td>\n      <td>29</td>\n      <td>32</td>\n    </tr>\n    <tr>\n      <th>5</th>\n      <td>32</td>\n      <td>27</td>\n      <td>36</td>\n    </tr>\n  </tbody>\n</table>\n</div>"
     },
     "metadata": {},
     "execution_count": 2
    }
   ],
   "source": [
    "#  データの作成\n",
    "data = np.array([\n",
    "    [33,31,33],\n",
    "    [30,29,31],\n",
    "    [33,28,32],\n",
    "    [29,29,32],\n",
    "    [32,27,36]])\n",
    "df = pd.DataFrame(data,columns=['Mimizu','Batta','Mix'],index=[1,2,3,4,5])\n",
    "df"
   ]
  },
  {
   "cell_type": "code",
   "execution_count": 3,
   "metadata": {},
   "outputs": [
    {
     "output_type": "execute_result",
     "data": {
      "text/plain": "31.0"
     },
     "metadata": {},
     "execution_count": 3
    }
   ],
   "source": [
    "# 全データの平均\n",
    "all_mean = df.stack().mean()\n",
    "all_mean"
   ]
  },
  {
   "cell_type": "code",
   "execution_count": 4,
   "metadata": {},
   "outputs": [
    {
     "output_type": "execute_result",
     "data": {
      "text/plain": "Mimizu    0.4\nBatta    -2.2\nMix       1.8\ndtype: float64"
     },
     "metadata": {},
     "execution_count": 4
    }
   ],
   "source": [
    "# 列の効果\n",
    "df_effect = df.mean(axis=0) - all_mean\n",
    "df_effect"
   ]
  },
  {
   "cell_type": "code",
   "execution_count": 5,
   "metadata": {},
   "outputs": [
    {
     "output_type": "execute_result",
     "data": {
      "text/plain": "   Mimizu  Batta  Mix\n1     1.6    2.2  0.2\n2    -1.4    0.2 -1.8\n3     1.6   -0.8 -0.8\n4    -2.4    0.2 -0.8\n5     0.6   -1.8  3.2",
      "text/html": "<div>\n<style scoped>\n    .dataframe tbody tr th:only-of-type {\n        vertical-align: middle;\n    }\n\n    .dataframe tbody tr th {\n        vertical-align: top;\n    }\n\n    .dataframe thead th {\n        text-align: right;\n    }\n</style>\n<table border=\"1\" class=\"dataframe\">\n  <thead>\n    <tr style=\"text-align: right;\">\n      <th></th>\n      <th>Mimizu</th>\n      <th>Batta</th>\n      <th>Mix</th>\n    </tr>\n  </thead>\n  <tbody>\n    <tr>\n      <th>1</th>\n      <td>1.6</td>\n      <td>2.2</td>\n      <td>0.2</td>\n    </tr>\n    <tr>\n      <th>2</th>\n      <td>-1.4</td>\n      <td>0.2</td>\n      <td>-1.8</td>\n    </tr>\n    <tr>\n      <th>3</th>\n      <td>1.6</td>\n      <td>-0.8</td>\n      <td>-0.8</td>\n    </tr>\n    <tr>\n      <th>4</th>\n      <td>-2.4</td>\n      <td>0.2</td>\n      <td>-0.8</td>\n    </tr>\n    <tr>\n      <th>5</th>\n      <td>0.6</td>\n      <td>-1.8</td>\n      <td>3.2</td>\n    </tr>\n  </tbody>\n</table>\n</div>"
     },
     "metadata": {},
     "execution_count": 5
    }
   ],
   "source": [
    "# 誤差 - データから列の平均を引く\n",
    "df_error = df - df.mean()\n",
    "df_error"
   ]
  },
  {
   "cell_type": "code",
   "execution_count": 6,
   "metadata": {},
   "outputs": [
    {
     "output_type": "execute_result",
     "data": {
      "text/plain": "Mimizu    7.105427e-15\nBatta    -3.552714e-15\nMix       1.421085e-14\ndtype: float64"
     },
     "metadata": {},
     "execution_count": 6
    }
   ],
   "source": [
    "# 誤差の合計は0になる\n",
    "df_error.sum()"
   ]
  },
  {
   "cell_type": "code",
   "execution_count": 18,
   "metadata": {},
   "outputs": [
    {
     "output_type": "stream",
     "name": "stdout",
     "text": [
      "[[31. 31. 31.]\n [31. 31. 31.]\n [31. 31. 31.]\n [31. 31. 31.]\n [31. 31. 31.]]\n[[ 0.4 -2.2  1.8]\n [ 0.4 -2.2  1.8]\n [ 0.4 -2.2  1.8]\n [ 0.4 -2.2  1.8]\n [ 0.4 -2.2  1.8]]\n[[ 1.6  2.2  0.2]\n [-1.4  0.2 -1.8]\n [ 1.6 -0.8 -0.8]\n [-2.4  0.2 -0.8]\n [ 0.6 -1.8  3.2]]\n"
     ]
    }
   ],
   "source": [
    "# ---- numpy のみで計算するバージョン\n",
    "data = np.array([\n",
    "    [33,31,33],\n",
    "    [30,29,31],\n",
    "    [33,28,32],\n",
    "    [29,29,32],\n",
    "    [32,27,36]])\n",
    "\n",
    "all_mean = np.full(data.shape, data.mean())\n",
    "col_effect = data.mean(axis=0) - all_mean\n",
    "err = data - all_mean - col_effect\n",
    "\n",
    "print(all_mean)\n",
    "print(col_effect)\n",
    "print(err)"
   ]
  },
  {
   "cell_type": "markdown",
   "metadata": {},
   "source": [
    "不偏分散の式\n",
    "$$\n",
    "V = \\frac{\\sum(x_i - \\bar{x})^2}{n-1}\n",
    "$$"
   ]
  },
  {
   "cell_type": "code",
   "execution_count": 7,
   "metadata": {},
   "outputs": [
    {
     "output_type": "execute_result",
     "data": {
      "text/plain": "20.59999999999996"
     },
     "metadata": {},
     "execution_count": 7
    }
   ],
   "source": [
    "# 列の効果の不偏分散 V1\n",
    "\n",
    "dfn = df.columns.size - df_effect.mean().size #分子の自由度\n",
    "V_1 = np.sum(df.index.size * (np.square(df_effect - df_effect.mean() ))) / dfn\n",
    "V_1"
   ]
  },
  {
   "cell_type": "code",
   "execution_count": 8,
   "metadata": {},
   "outputs": [
    {
     "output_type": "execute_result",
     "data": {
      "text/plain": "3.0666666666666664"
     },
     "metadata": {},
     "execution_count": 8
    }
   ],
   "source": [
    "# 誤差の不偏分散 V2\n",
    "\n",
    "err = df_error.stack()\n",
    "dfd = err.size - df_error.mean().size #分母の自由度\n",
    "V_2 = np.square(err - err.mean()).sum() / dfd\n",
    "V_2"
   ]
  },
  {
   "cell_type": "code",
   "execution_count": 9,
   "metadata": {},
   "outputs": [
    {
     "output_type": "execute_result",
     "data": {
      "text/plain": "6.717391304347813"
     },
     "metadata": {},
     "execution_count": 9
    }
   ],
   "source": [
    "# F値 V1/V2\n",
    "F = V_1 / V_2\n",
    "F"
   ]
  },
  {
   "cell_type": "code",
   "execution_count": 10,
   "metadata": {
    "tags": []
   },
   "outputs": [
    {
     "output_type": "stream",
     "name": "stdout",
     "text": "上側確率 5% 3.8852938346523933\n上側確率 1% 6.9266081401913\n"
    }
   ],
   "source": [
    "from scipy.stats import f\n",
    "\n",
    "five = f.ppf(0.95, dfn,dfd)\n",
    "one = f.ppf(0.99, dfn, dfd)\n",
    "print('上側確率 5%',five)\n",
    "print('上側確率 1%',one)"
   ]
  },
  {
   "source": [
    "# Analysis of Variance\n",
    "2因子の場合"
   ],
   "cell_type": "markdown",
   "metadata": {}
  },
  {
   "cell_type": "code",
   "execution_count": 1,
   "metadata": {},
   "outputs": [],
   "source": [
    "import numpy as np\n",
    "import pandas as pd\n",
    "from scipy.stats import f"
   ]
  },
  {
   "cell_type": "code",
   "execution_count": 2,
   "metadata": {},
   "outputs": [
    {
     "output_type": "execute_result",
     "data": {
      "text/plain": [
       "    火   砂   腐   粘\n",
       "ミ  29  35  29  29\n",
       "バ  26  33  30  28\n",
       "混  32  34  33  34"
      ],
      "text/html": "<div>\n<style scoped>\n    .dataframe tbody tr th:only-of-type {\n        vertical-align: middle;\n    }\n\n    .dataframe tbody tr th {\n        vertical-align: top;\n    }\n\n    .dataframe thead th {\n        text-align: right;\n    }\n</style>\n<table border=\"1\" class=\"dataframe\">\n  <thead>\n    <tr style=\"text-align: right;\">\n      <th></th>\n      <th>火</th>\n      <th>砂</th>\n      <th>腐</th>\n      <th>粘</th>\n    </tr>\n  </thead>\n  <tbody>\n    <tr>\n      <th>ミ</th>\n      <td>29</td>\n      <td>35</td>\n      <td>29</td>\n      <td>29</td>\n    </tr>\n    <tr>\n      <th>バ</th>\n      <td>26</td>\n      <td>33</td>\n      <td>30</td>\n      <td>28</td>\n    </tr>\n    <tr>\n      <th>混</th>\n      <td>32</td>\n      <td>34</td>\n      <td>33</td>\n      <td>34</td>\n    </tr>\n  </tbody>\n</table>\n</div>"
     },
     "metadata": {},
     "execution_count": 2
    }
   ],
   "source": [
    "data = np.array([\n",
    "    [29,35,29,29],\n",
    "    [26,33,30,28],\n",
    "    [32,34,33,34]\n",
    "    ])\n",
    "df = pd.DataFrame(data, columns=['火','砂','腐','粘'], index=['ミ','バ','混'])\n",
    "df"
   ]
  },
  {
   "cell_type": "code",
   "execution_count": 9,
   "metadata": {},
   "outputs": [
    {
     "output_type": "execute_result",
     "data": {
      "text/plain": [
       "ミ    30.50\n",
       "バ    29.25\n",
       "混    33.25\n",
       "dtype: float64"
      ]
     },
     "metadata": {},
     "execution_count": 9
    }
   ],
   "source": [
    "df.stack().mean()\n",
    "df.mean(axis=1)"
   ]
  },
  {
   "cell_type": "code",
   "execution_count": 3,
   "metadata": {},
   "outputs": [
    {
     "output_type": "execute_result",
     "data": {
      "text/plain": [
       "ミ   -0.50\n",
       "バ   -1.75\n",
       "混    2.25\n",
       "dtype: float64"
      ]
     },
     "metadata": {},
     "execution_count": 3
    }
   ],
   "source": [
    "# 行の効果（餌の効果）行の平均-全体平均\n",
    "row_effect = df.mean(axis=1) - df.stack().mean()\n",
    "row_effect"
   ]
  },
  {
   "cell_type": "code",
   "execution_count": 11,
   "metadata": {},
   "outputs": [
    {
     "output_type": "execute_result",
     "data": {
      "text/plain": [
       "火   -2.000000\n",
       "砂    3.000000\n",
       "腐   -0.333333\n",
       "粘   -0.666667\n",
       "dtype: float64"
      ]
     },
     "metadata": {},
     "execution_count": 11
    }
   ],
   "source": [
    "# 列の効果（土の効果） 列の平均 - 全体平均\n",
    "col_effect = df.mean(axis=0) - df.stack().mean()\n",
    "col_effect"
   ]
  },
  {
   "cell_type": "code",
   "execution_count": 12,
   "metadata": {},
   "outputs": [
    {
     "output_type": "execute_result",
     "data": {
      "text/plain": [
       "     火    砂    腐    粘\n",
       "ミ -2.0  4.0 -2.0 -2.0\n",
       "バ -5.0  2.0 -1.0 -3.0\n",
       "混  1.0  3.0  2.0  3.0"
      ],
      "text/html": "<div>\n<style scoped>\n    .dataframe tbody tr th:only-of-type {\n        vertical-align: middle;\n    }\n\n    .dataframe tbody tr th {\n        vertical-align: top;\n    }\n\n    .dataframe thead th {\n        text-align: right;\n    }\n</style>\n<table border=\"1\" class=\"dataframe\">\n  <thead>\n    <tr style=\"text-align: right;\">\n      <th></th>\n      <th>火</th>\n      <th>砂</th>\n      <th>腐</th>\n      <th>粘</th>\n    </tr>\n  </thead>\n  <tbody>\n    <tr>\n      <th>ミ</th>\n      <td>-2.0</td>\n      <td>4.0</td>\n      <td>-2.0</td>\n      <td>-2.0</td>\n    </tr>\n    <tr>\n      <th>バ</th>\n      <td>-5.0</td>\n      <td>2.0</td>\n      <td>-1.0</td>\n      <td>-3.0</td>\n    </tr>\n    <tr>\n      <th>混</th>\n      <td>1.0</td>\n      <td>3.0</td>\n      <td>2.0</td>\n      <td>3.0</td>\n    </tr>\n  </tbody>\n</table>\n</div>"
     },
     "metadata": {},
     "execution_count": 12
    }
   ],
   "source": [
    "# 誤差 データの値 - 全体平均　- 行の効果 - 列の効果\n",
    "# 本来は df - df.stack().mean() - row_effect - col_effect だが、うまく計算のできないので分割して計算する\n",
    "\n",
    "df_error = df - df.stack().mean()\n",
    "df_error"
   ]
  },
  {
   "cell_type": "code",
   "execution_count": 30,
   "metadata": {},
   "outputs": [
    {
     "output_type": "execute_result",
     "data": {
      "text/plain": "      火     砂         腐         粘\nミ  0.50  1.50 -1.166667 -0.833333\nバ -1.25  0.75  1.083333 -0.583333\n混  0.75 -2.25  0.083333  1.416667",
      "text/html": "<div>\n<style scoped>\n    .dataframe tbody tr th:only-of-type {\n        vertical-align: middle;\n    }\n\n    .dataframe tbody tr th {\n        vertical-align: top;\n    }\n\n    .dataframe thead th {\n        text-align: right;\n    }\n</style>\n<table border=\"1\" class=\"dataframe\">\n  <thead>\n    <tr style=\"text-align: right;\">\n      <th></th>\n      <th>火</th>\n      <th>砂</th>\n      <th>腐</th>\n      <th>粘</th>\n    </tr>\n  </thead>\n  <tbody>\n    <tr>\n      <th>ミ</th>\n      <td>0.50</td>\n      <td>1.50</td>\n      <td>-1.166667</td>\n      <td>-0.833333</td>\n    </tr>\n    <tr>\n      <th>バ</th>\n      <td>-1.25</td>\n      <td>0.75</td>\n      <td>1.083333</td>\n      <td>-0.583333</td>\n    </tr>\n    <tr>\n      <th>混</th>\n      <td>0.75</td>\n      <td>-2.25</td>\n      <td>0.083333</td>\n      <td>1.416667</td>\n    </tr>\n  </tbody>\n</table>\n</div>"
     },
     "metadata": {},
     "execution_count": 30
    }
   ],
   "source": [
    "# 誤差から行の効果と列の効果を分離する\n",
    "df_error = df_error.subtract(row_effect, axis=0)\n",
    "df_error = df_error.subtract(col_effect, axis=1)\n",
    "df_error"
   ]
  },
  {
   "cell_type": "code",
   "execution_count": 40,
   "metadata": {},
   "outputs": [
    {
     "output_type": "execute_result",
     "data": {
      "text/plain": "2.638888888888889"
     },
     "metadata": {},
     "execution_count": 40
    }
   ],
   "source": [
    "# 誤差の不偏分散\n",
    "phi_2 = (df.columns.size - 1) * (df.index.size -1)\n",
    "V_2 = np.sum(np.square(df_error.stack())) / phi_2\n",
    "V_2"
   ]
  },
  {
   "cell_type": "code",
   "execution_count": 45,
   "metadata": {},
   "outputs": [
    {
     "output_type": "execute_result",
     "data": {
      "text/plain": "16.75"
     },
     "metadata": {},
     "execution_count": 45
    }
   ],
   "source": [
    "# 行の不偏分散\n",
    "phi_11 = row_effect.size - df.stack().mean().size\n",
    "V_11 = np.sum(np.square(row_effect) * df.columns.size) / phi_11\n",
    "V_11"
   ]
  },
  {
   "cell_type": "code",
   "execution_count": 48,
   "metadata": {
    "tags": []
   },
   "outputs": [
    {
     "output_type": "stream",
     "name": "stdout",
     "text": "上側確率 5% 5.143252849784718\n上側確率 1% 10.92476650083833\nF =  6.347368421052631\n"
    }
   ],
   "source": [
    "# F1 行の効果の有意差\n",
    "F_1 = V_11 / V_2\n",
    "\n",
    "five = f.ppf(0.95, phi_11,phi_2)\n",
    "one = f.ppf(0.99, phi_11,phi_2)\n",
    "print('上側確率 5%',five)\n",
    "print('上側確率 1%',one)\n",
    "print('F1 = ',F_1)"
   ]
  },
  {
   "cell_type": "code",
   "execution_count": 49,
   "metadata": {},
   "outputs": [
    {
     "output_type": "execute_result",
     "data": {
      "text/plain": "13.555555555555555"
     },
     "metadata": {},
     "execution_count": 49
    }
   ],
   "source": [
    "# 列の不偏分散\n",
    "phi_12 = col_effect.size - df.stack().mean().size\n",
    "V_12 = np.sum(np.square(col_effect) * df.index.size) / phi_12\n",
    "V_12"
   ]
  },
  {
   "cell_type": "code",
   "execution_count": 52,
   "metadata": {
    "tags": []
   },
   "outputs": [
    {
     "output_type": "stream",
     "name": "stdout",
     "text": "上側確率 5% 4.757062663089414\n上側確率 1% 9.779538240923273\nF =  5.136842105263158\n"
    }
   ],
   "source": [
    "# F2 列の効果の有意差\n",
    "\n",
    "F_2 = V_12 / V_2\n",
    "\n",
    "five = f.ppf(0.95, phi_12,phi_2)\n",
    "one = f.ppf(0.99, phi_12,phi_2)\n",
    "print('上側確率 5%',five)\n",
    "print('上側確率 1%',one)\n",
    "print('F2 = ',F_2)"
   ]
  },
  {
   "cell_type": "code",
   "execution_count": 15,
   "metadata": {},
   "outputs": [
    {
     "output_type": "stream",
     "name": "stdout",
     "text": [
      "[[31. 31. 31. 31.]\n [31. 31. 31. 31.]\n [31. 31. 31. 31.]]\n[[-2.          3.         -0.33333333 -0.66666667]\n [-2.          3.         -0.33333333 -0.66666667]\n [-2.          3.         -0.33333333 -0.66666667]]\n[[-0.5  -0.5  -0.5  -0.5 ]\n [-1.75 -1.75 -1.75 -1.75]\n [ 2.25  2.25  2.25  2.25]]\n[[ 0.5         1.5        -1.16666667 -0.83333333]\n [-1.25        0.75        1.08333333 -0.58333333]\n [ 0.75       -2.25        0.08333333  1.41666667]]\n"
     ]
    }
   ],
   "source": [
    "# ---- numpy のみで 計算する場合\n",
    "\n",
    "data = np.array([\n",
    "    [29,35,29,29],\n",
    "    [26,33,30,28],\n",
    "    [32,34,33,34]\n",
    "    ])\n",
    "\n",
    "all_mean = np.full(data.shape, data.mean())\n",
    "col_effect = data.mean(axis=0) - all_mean\n",
    "row_effect = data.mean(axis=1)[:, np.newaxis] - all_mean\n",
    "err = data - all_mean - col_effect - row_effect\n",
    "\n",
    "print(all_mean)\n",
    "print(col_effect)\n",
    "print(row_effect)\n",
    "print(err)\n",
    "# ----"
   ]
  },
  {
   "source": [
    "# Analysis of Variance\n",
    "3因子の場合 ラテン方格"
   ],
   "cell_type": "markdown",
   "metadata": {}
  },
  {
   "cell_type": "code",
   "execution_count": 2,
   "metadata": {},
   "outputs": [],
   "source": [
    "import numpy as np"
   ]
  },
  {
   "cell_type": "code",
   "execution_count": 46,
   "metadata": {},
   "outputs": [],
   "source": [
    "data = np.array([\n",
    "    [31,33,31,33],\n",
    "    [34,24,29,29],\n",
    "    [35,32,30,39],\n",
    "    [30,25,34,27]])"
   ]
  },
  {
   "cell_type": "code",
   "execution_count": 124,
   "metadata": {
    "tags": []
   },
   "outputs": [
    {
     "output_type": "stream",
     "name": "stdout",
     "text": "[['A' 'B' 'C' 'D']\n ['B' 'C' 'D' 'A']\n ['C' 'D' 'A' 'B']\n ['D' 'A' 'B' 'C']]\n"
    }
   ],
   "source": [
    "def factor_matrix(factor) -> np.ndarray:\n",
    "    num = len(factor)\n",
    "    mat =[]\n",
    "    for i in range(0,num):\n",
    "        for j in range(0,num):\n",
    "            index = (i + j) % num\n",
    "            mat.append(factor[index])\n",
    "    return np.array(mat).reshape(num,num)\n",
    "\n",
    "factor_mat = factor_matrix(['A','B','C','D'])\n",
    "print(factor_mat)"
   ]
  },
  {
   "cell_type": "code",
   "execution_count": 48,
   "metadata": {
    "tags": []
   },
   "outputs": [
    {
     "output_type": "stream",
     "name": "stdout",
     "text": "31.0\n"
    }
   ],
   "source": [
    "# 全体平均\n",
    "all_mean = data.mean()\n",
    "print(all_mean)"
   ]
  },
  {
   "cell_type": "code",
   "execution_count": 106,
   "metadata": {
    "tags": []
   },
   "outputs": [
    {
     "output_type": "stream",
     "name": "stdout",
     "text": "[[ 1.5 -2.5  0.   1. ]\n [ 1.5 -2.5  0.   1. ]\n [ 1.5 -2.5  0.   1. ]\n [ 1.5 -2.5  0.   1. ]]\n[[ 1.  1.  1.  1.]\n [-2. -2. -2. -2.]\n [ 3.  3.  3.  3.]\n [-2. -2. -2. -2.]]\n"
    }
   ],
   "source": [
    "# 列の効果\n",
    "col_effect = data.mean(axis=0) - all_mean\n",
    "col_effect = np.vstack([col_effect] * 4)\n",
    "print(col_effect)\n",
    "\n",
    "# 行の効果\n",
    "row_effect = data.mean(axis=1) - all_mean\n",
    "row_effect = np.hstack([row_effect[:,np.newaxis]] * 4)\n",
    "print(row_effect)"
   ]
  },
  {
   "cell_type": "code",
   "execution_count": 54,
   "metadata": {
    "tags": []
   },
   "outputs": [
    {
     "output_type": "stream",
     "name": "stdout",
     "text": "[[-2.25 -0.   -0.   -0.  ]\n [-0.   -0.   -0.   -2.25]\n [-0.   -0.   -2.25 -0.  ]\n [-0.   -2.25 -0.   -0.  ]]\n[[0. 4. 0. 0.]\n [4. 0. 0. 0.]\n [0. 0. 0. 4.]\n [0. 0. 4. 0.]]\n[[-0.   -0.   -1.75 -0.  ]\n [-0.   -1.75 -0.   -0.  ]\n [-1.75 -0.   -0.   -0.  ]\n [-0.   -0.   -0.   -1.75]]\n[[0. 0. 0. 0.]\n [0. 0. 0. 0.]\n [0. 0. 0. 0.]\n [0. 0. 0. 0.]]\n"
    }
   ],
   "source": [
    "# A, B, C, D それぞれの効果\n",
    "\n",
    "a_data = (factor_mat == 'A') * data\n",
    "a_effect = np.mean(a_data[a_data > 0]) - all_mean\n",
    "a_effect *= (factor_mat == 'A')\n",
    "\n",
    "b_data = (factor_mat == 'B') * data\n",
    "b_effect = np.mean(b_data[b_data > 0]) - all_mean\n",
    "b_effect *= (factor_mat == 'B')\n",
    "\n",
    "c_data = (factor_mat == 'C') * data\n",
    "c_effect = np.mean(c_data[c_data > 0]) - all_mean\n",
    "c_effect *= (factor_mat == 'C')\n",
    "\n",
    "d_data = (factor_mat == 'D') * data\n",
    "d_effect = np.mean(d_data[d_data > 0]) - all_mean\n",
    "d_effect *= (factor_mat == 'D')\n",
    "\n",
    "print(a_effect)\n",
    "print(b_effect)\n",
    "print(c_effect)\n",
    "print(d_effect)"
   ]
  },
  {
   "cell_type": "code",
   "execution_count": 123,
   "metadata": {
    "tags": []
   },
   "outputs": [
    {
     "output_type": "stream",
     "name": "stdout",
     "text": "[[-0.25 -0.5   0.75  0.  ]\n [-0.5  -0.75  0.    1.25]\n [ 1.25  0.5  -1.75  0.  ]\n [-0.5   0.75  1.   -1.25]]\n"
    }
   ],
   "source": [
    "# 誤差の計算\n",
    "error = data - all_mean - col_effect - row_effect - a_effect - b_effect - c_effect\n",
    "print(error)"
   ]
  },
  {
   "cell_type": "code",
   "execution_count": 113,
   "metadata": {},
   "outputs": [],
   "source": [
    "# 誤差の不偏分散\n",
    "phi_2 = 6.0\n",
    "V_2 = np.sum(np.square(error)) / phi_2"
   ]
  },
  {
   "cell_type": "code",
   "execution_count": 114,
   "metadata": {},
   "outputs": [],
   "source": [
    "# row\n",
    "phi_11 = 3.0\n",
    "V_11 = np.sum(np.square(row_effect)) / phi_11\n",
    "F_1 = V_11 / V_2"
   ]
  },
  {
   "cell_type": "code",
   "execution_count": 115,
   "metadata": {},
   "outputs": [],
   "source": [
    "# col\n",
    "phi_12 = 3.0\n",
    "V_12 = np.sum(np.square(col_effect)) / phi_12\n",
    "F_2 = V_12 / V_2"
   ]
  },
  {
   "cell_type": "code",
   "execution_count": 116,
   "metadata": {},
   "outputs": [],
   "source": [
    "# factor 3\n",
    "phi_13 = 3.0\n",
    "V_13 = (np.sum(np.square(a_effect)) + np.sum(np.square(b_effect)) + np.sum(np.square(c_effect)) + np.sum(np.square(d_effect))) / phi_13\n",
    "F_3 = V_13 / V_2"
   ]
  },
  {
   "cell_type": "code",
   "execution_count": 118,
   "metadata": {},
   "outputs": [],
   "source": [
    "from scipy.stats import f"
   ]
  },
  {
   "cell_type": "code",
   "execution_count": 122,
   "metadata": {
    "tags": []
   },
   "outputs": [
    {
     "output_type": "stream",
     "name": "stdout",
     "text": "上側確率 5% 4.757062663089414\n上側確率 1% 9.779538240923273\nF_1 = 12.521739130434781\nF_2 = 6.608695652173912\nF_3 = 16.782608695652172\n"
    }
   ],
   "source": [
    "five = f.ppf(0.95, phi_11,phi_2)\n",
    "one = f.ppf(0.99, phi_11,phi_2)\n",
    "print('上側確率 5%',five)\n",
    "print('上側確率 1%',one)\n",
    "print(f'F_1 = {F_1}')\n",
    "print(f'F_2 = {F_2}')\n",
    "print(f'F_3 = {F_3}')"
   ]
  },
  {
   "cell_type": "code",
   "execution_count": null,
   "metadata": {},
   "outputs": [],
   "source": []
  },
  {
   "source": [
    "# 相互作用"
   ],
   "cell_type": "markdown",
   "metadata": {}
  },
  {
   "cell_type": "code",
   "execution_count": 1,
   "metadata": {},
   "outputs": [],
   "source": [
    "import numpy as np"
   ]
  },
  {
   "cell_type": "code",
   "execution_count": 2,
   "metadata": {},
   "outputs": [],
   "source": [
    "d1 = np.array([\n",
    "        [40,36],\n",
    "        [33,25]])\n",
    "d2 = np.array([\n",
    "        [33,30],\n",
    "        [28,23]])"
   ]
  },
  {
   "cell_type": "code",
   "execution_count": 3,
   "metadata": {},
   "outputs": [
    {
     "output_type": "stream",
     "name": "stdout",
     "text": [
      "[[[40 36]\n  [33 25]]\n\n [[33 30]\n  [28 23]]]\n"
     ]
    }
   ],
   "source": [
    "data = np.array([[\n",
    "        [40,36],\n",
    "        [33,25]],\n",
    "        [[33,30],\n",
    "        [28,23]]])\n",
    "print(data)"
   ]
  },
  {
   "cell_type": "code",
   "execution_count": 4,
   "metadata": {},
   "outputs": [
    {
     "output_type": "stream",
     "name": "stdout",
     "text": [
      "-0.75\n0.75\n4.5\n"
     ]
    }
   ],
   "source": [
    "# S_axb\n",
    "\n",
    "mat1 = np.array([[\n",
    "        [1,0],\n",
    "        [0,1]],\n",
    "        [[1,0],\n",
    "        [0,1]]])\n",
    "i1 = (np.sum(data * mat1) / 4.0) - 31.0\n",
    "print(i1)\n",
    "\n",
    "mat2 = -mat1 + 1\n",
    "i2 = (np.sum(data * mat2) / 4.0) - 31.0\n",
    "print(i2)\n",
    "\n",
    "Sab = 4 * np.square(i1) + 4 * np.square(i2)\n",
    "print(Sab)"
   ]
  },
  {
   "cell_type": "code",
   "execution_count": 5,
   "metadata": {},
   "outputs": [
    {
     "output_type": "stream",
     "name": "stdout",
     "text": [
      "0.75\n-0.75\n4.5\n"
     ]
    }
   ],
   "source": [
    "# S_axc\n",
    "\n",
    "mat1 = np.array([[\n",
    "        [1,1],\n",
    "        [0,0]],\n",
    "        [[0,0],\n",
    "        [1,1]]])\n",
    "i1 = (np.sum(data * mat1) / 4.0) - 31.0\n",
    "print(i1)\n",
    "\n",
    "mat2 = -mat1 + 1\n",
    "i2 = (np.sum(data * mat2) / 4.0) - 31.0\n",
    "print(i2)\n",
    "\n",
    "Sac = 4 * np.square(i1) + 4 * np.square(i2)\n",
    "print(Sac)"
   ]
  },
  {
   "cell_type": "code",
   "execution_count": 8,
   "metadata": {},
   "outputs": [
    {
     "output_type": "stream",
     "name": "stdout",
     "text": [
      "0.5\n-0.5\n2.0\n"
     ]
    }
   ],
   "source": [
    "# S_bxc\n",
    "mat1 = np.array([[\n",
    "        [1,0],\n",
    "        [1,0]],[\n",
    "        [0,1],\n",
    "        [0,1]]])\n",
    "i1 = (np.sum(data * mat1) / 4.0) - 31.0\n",
    "print(i1)\n",
    "\n",
    "mat2 = -mat1 + 1\n",
    "i2 = (np.sum(data * mat2) / 4.0) - 31.0\n",
    "print(i2)\n",
    "\n",
    "Sbc = 4 * np.square(i1) + 4 * np.square(i2)\n",
    "print(Sbc)"
   ]
  },
  {
   "cell_type": "code",
   "execution_count": 31,
   "metadata": {},
   "outputs": [
    {
     "output_type": "execute_result",
     "data": {
      "text/plain": [
       "4.5"
      ]
     },
     "metadata": {},
     "execution_count": 31
    }
   ],
   "source": []
  },
  {
   "cell_type": "code",
   "execution_count": null,
   "metadata": {},
   "outputs": [],
   "source": []
  }
 ],
 "metadata": {
  "kernelspec": {
   "display_name": "Python 3",
   "language": "python",
   "name": "python3"
  },
  "language_info": {
   "codemirror_mode": {
    "name": "ipython",
    "version": 3
   },
   "file_extension": ".py",
   "mimetype": "text/x-python",
   "name": "python",
   "nbconvert_exporter": "python",
   "pygments_lexer": "ipython3",
   "version": "3.7.7-final"
  },
  "toc": {
   "base_numbering": 1,
   "nav_menu": {},
   "number_sections": true,
   "sideBar": true,
   "skip_h1_title": false,
   "title_cell": "Table of Contents",
   "title_sidebar": "Contents",
   "toc_cell": false,
   "toc_position": {},
   "toc_section_display": true,
   "toc_window_display": false
  }
 },
 "nbformat": 4,
 "nbformat_minor": 2
}