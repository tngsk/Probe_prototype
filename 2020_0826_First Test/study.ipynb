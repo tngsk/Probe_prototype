{
 "metadata": {
  "language_info": {
   "codemirror_mode": {
    "name": "ipython",
    "version": 3
   },
   "file_extension": ".py",
   "mimetype": "text/x-python",
   "name": "python",
   "nbconvert_exporter": "python",
   "pygments_lexer": "ipython3",
   "version": "3.8.5-final"
  },
  "orig_nbformat": 2,
  "kernelspec": {
   "name": "python_defaultSpec_1598423948484",
   "display_name": "Python 3.8.5 64-bit ('snd': conda)"
  }
 },
 "nbformat": 4,
 "nbformat_minor": 2,
 "cells": [
  {
   "cell_type": "code",
   "execution_count": 1,
   "metadata": {},
   "outputs": [],
   "source": [
    "import numpy as np\n",
    "from scipy.io import wavfile\n",
    "import matplotlib.pyplot as plt"
   ]
  },
  {
   "cell_type": "markdown",
   "metadata": {},
   "source": [
    "$$\n",
    "s(n) = A\\sin(\\frac{2\\pi f_0n}{f_s})\n",
    "$$"
   ]
  },
  {
   "cell_type": "code",
   "execution_count": 2,
   "metadata": {},
   "outputs": [],
   "source": [
    "f0 = 440\n",
    "sec = 3.0\n",
    "fs = 44100\n",
    "a = 1.0\n",
    "phase = np.cumsum(2.0 * np.pi * f0 / fs * np.ones(int(fs * sec)))\n",
    "wave = a * np.sin(phase)\n",
    "wave = (wave * float(2 ** 15 - 1)).astype(np.int16)\n",
    "wavfile.write(f'{f0}.wav', fs, wave)\n"
   ]
  },
  {
   "cell_type": "code",
   "execution_count": 3,
   "metadata": {},
   "outputs": [],
   "source": [
    "# 自動化\n",
    "f0_list = [250,249,251,1000,1001,999,2000,2001,1999]\n",
    "sec = 3.0\n",
    "fs = 44100\n",
    "a = 1.0\n",
    "\n",
    "for f0 in f0_list:\n",
    "    phase = np.cumsum(2.0 * np.pi * f0 / fs * np.ones(int(fs * sec)))\n",
    "    wave = a * np.sin(phase)\n",
    "    wave = (wave * float(2 ** 15 - 1)).astype(np.int16)\n",
    "    wavfile.write(f'{f0}.wav', fs, wave)\n"
   ]
  },
  {
   "cell_type": "markdown",
   "metadata": {},
   "source": [
    "組み合わせ"
   ]
  },
  {
   "cell_type": "code",
   "execution_count": 4,
   "metadata": {},
   "outputs": [],
   "source": [
    "from sympy import FiniteSet"
   ]
  },
  {
   "cell_type": "code",
   "execution_count": 5,
   "metadata": {
    "tags": []
   },
   "outputs": [
    {
     "output_type": "execute_result",
     "data": {
      "text/plain": "ProductSet(ProductSet(FiniteSet(250, 1000, 2000), FiniteSet(f, s)), FiniteSet(High, Low))",
      "text/latex": "$\\displaystyle \\left(\\left\\{250, 1000, 2000\\right\\} \\times \\left\\{f, s\\right\\}\\right) \\times \\left\\{High, Low\\right\\}$"
     },
     "metadata": {},
     "execution_count": 5
    }
   ],
   "source": [
    "e1 = FiniteSet(250,1000,2000)\n",
    "e2 = FiniteSet('f','s')\n",
    "e3 = FiniteSet('High','Low')\n",
    "\n",
    "exp = e1 * e2 * e3\n",
    "exp"
   ]
  },
  {
   "cell_type": "code",
   "execution_count": 6,
   "metadata": {
    "tags": []
   },
   "outputs": [
    {
     "output_type": "stream",
     "name": "stdout",
     "text": "((250, f), High)\n((1000, f), High)\n((250, f), Low)\n((250, s), High)\n((1000, f), Low)\n((2000, f), High)\n((250, s), Low)\n((1000, s), High)\n((2000, f), Low)\n((2000, s), High)\n((1000, s), Low)\n((2000, s), Low)\n12\n"
    }
   ],
   "source": [
    "for e in exp:\n",
    "    print(e)\n",
    "print(len(exp))"
   ]
  },
  {
   "cell_type": "markdown",
   "metadata": {},
   "source": [
    "組み合わせ\n",
    "itertools"
   ]
  },
  {
   "cell_type": "code",
   "execution_count": 7,
   "metadata": {},
   "outputs": [],
   "source": [
    "import itertools"
   ]
  },
  {
   "cell_type": "code",
   "execution_count": null,
   "metadata": {},
   "outputs": [],
   "source": [
    "e1 = [250,1000,2000]\n",
    "e2 = [1,-1]"
   ]
  },
  {
   "cell_type": "code",
   "execution_count": null,
   "metadata": {
    "tags": []
   },
   "outputs": [],
   "source": [
    "exp = tuple(itertools.product(e1,e2))"
   ]
  },
  {
   "cell_type": "code",
   "execution_count": null,
   "metadata": {},
   "outputs": [],
   "source": [
    "import random"
   ]
  },
  {
   "cell_type": "code",
   "execution_count": null,
   "metadata": {
    "tags": []
   },
   "outputs": [],
   "source": [
    "# random.seed(0)\n",
    "exp_list = random.choices(exp,k=len(exp)*3)"
   ]
  },
  {
   "cell_type": "code",
   "execution_count": null,
   "metadata": {},
   "outputs": [],
   "source": [
    "import sounddevice as sd"
   ]
  },
  {
   "cell_type": "code",
   "execution_count": null,
   "metadata": {},
   "outputs": [],
   "source": [
    "# wave モジュールの場合\n",
    "\"\"\"\n",
    "import wave as wave\n",
    "wav = wave.open('440.0.wav')\n",
    "data = wav.readframes(wav.getnframes())\n",
    "data = np.frombuffer(data, dtype=np.int16)\n",
    "\"\"\""
   ]
  },
  {
   "cell_type": "code",
   "execution_count": null,
   "metadata": {},
   "outputs": [],
   "source": [
    "sr, data = wavfile.read('440.wav')"
   ]
  },
  {
   "cell_type": "code",
   "execution_count": null,
   "metadata": {
    "tags": []
   },
   "outputs": [],
   "source": [
    "sd.play(data)\n",
    "status = sd.wait()"
   ]
  },
  {
   "cell_type": "code",
   "execution_count": 16,
   "metadata": {},
   "outputs": [],
   "source": [
    "import time\n",
    "time.sleep(1.0)"
   ]
  },
  {
   "cell_type": "code",
   "execution_count": 45,
   "metadata": {
    "tags": []
   },
   "outputs": [
    {
     "output_type": "stream",
     "name": "stdout",
     "text": "Q\nQ\nQ\nQ\nQ\nQ\nQ\nQ\nQ\nQ\nQ\nQ\nQ\nQ\nQ\nQ\nQ\nQ\n"
    }
   ],
   "source": [
    "result = []\n",
    "for exp in exp_list:\n",
    "    s1 = \"{0}.wav\".format(exp[0])\n",
    "    s2 = \"{0}.wav\".format(exp[0] + exp[1])\n",
    "    \n",
    "    print('Q')\n",
    "    time.sleep(1.0)\n",
    "    \n",
    "    # stimulation 1\n",
    "    sr, data = wavfile.read(s1)\n",
    "    sd.play(data)\n",
    "    status = sd.wait()\n",
    "\n",
    "    time.sleep(1.0)\n",
    "\n",
    "    # stimulatio 2\n",
    "    sr, data = wavfile.read(s2)\n",
    "    sd.play(data)\n",
    "    status = sd.wait()\n",
    "\n",
    "    time.sleep(1.0)\n",
    "\n",
    "    # answer\n",
    "    ans = input('Y / N ?')\n",
    "    result.append([s1,s2,ans])\n"
   ]
  },
  {
   "cell_type": "code",
   "execution_count": 46,
   "metadata": {},
   "outputs": [
    {
     "output_type": "execute_result",
     "data": {
      "text/plain": "[['250.wav', '251.wav', 'y'],\n ['1000.wav', '1001.wav', 'y'],\n ['250.wav', '251.wav', 'n'],\n ['1000.wav', '999.wav', 'n'],\n ['1000.wav', '999.wav', 'y'],\n ['250.wav', '251.wav', 'n'],\n ['250.wav', '251.wav', 'n'],\n ['250.wav', '251.wav', 'y'],\n ['1000.wav', '999.wav', 'y'],\n ['1000.wav', '1001.wav', 'y'],\n ['1000.wav', '999.wav', 'y'],\n ['1000.wav', '1001.wav', 'y'],\n ['250.wav', '251.wav', 'y'],\n ['1000.wav', '1001.wav', 'n'],\n ['2000.wav', '2001.wav', 'n'],\n ['250.wav', '249.wav', 'n'],\n ['250.wav', '249.wav', 'y'],\n ['1000.wav', '1001.wav', 'n']]"
     },
     "metadata": {},
     "execution_count": 46
    }
   ],
   "source": [
    "result"
   ]
  },
  {
   "cell_type": "code",
   "execution_count": null,
   "metadata": {},
   "outputs": [],
   "source": []
  }
 ]
}